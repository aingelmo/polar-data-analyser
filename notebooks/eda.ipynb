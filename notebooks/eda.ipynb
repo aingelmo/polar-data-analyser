{
 "cells": [
  {
   "cell_type": "code",
   "execution_count": 1,
   "id": "b28dc949",
   "metadata": {},
   "outputs": [],
   "source": [
    "from pathlib import Path\n",
    "from polar import data_loader\n",
    "\n",
    "ROOT_DIR = Path(\"..\").resolve()\n",
    "DATA_DIR = ROOT_DIR / \"data\""
   ]
  },
  {
   "cell_type": "code",
   "execution_count": 2,
   "id": "5076cd0c",
   "metadata": {},
   "outputs": [],
   "source": [
    "data = data_loader.load_year_data(DATA_DIR, 2025)"
   ]
  },
  {
   "cell_type": "code",
   "execution_count": 3,
   "id": "2fcf0b5e",
   "metadata": {},
   "outputs": [],
   "source": [
    "data = data_loader.load_all_years_data(DATA_DIR)"
   ]
  },
  {
   "cell_type": "code",
   "execution_count": 4,
   "id": "3e0dc694",
   "metadata": {},
   "outputs": [
    {
     "data": {
      "text/plain": [
       "[{'year': '2022',\n",
       "  'month': '09',\n",
       "  'duration_min': 44.38333333333333,\n",
       "  'calories': 307.0,\n",
       "  'calories_per_min': 6.917010889973714,\n",
       "  'calories_per_hour': 415.02065339842284},\n",
       " {'year': '2022',\n",
       "  'month': '09',\n",
       "  'duration_min': 54.266666666666666,\n",
       "  'calories': 477.0,\n",
       "  'calories_per_min': 8.78992628992629,\n",
       "  'calories_per_hour': 527.3955773955774},\n",
       " {'year': '2022',\n",
       "  'month': '09',\n",
       "  'duration_min': 43.25,\n",
       "  'calories': 356.0,\n",
       "  'calories_per_min': 8.23121387283237,\n",
       "  'calories_per_hour': 493.8728323699422},\n",
       " {'year': '2022',\n",
       "  'month': '09',\n",
       "  'duration_min': 39.583333333333336,\n",
       "  'calories': 388.0,\n",
       "  'calories_per_min': 9.802105263157895,\n",
       "  'calories_per_hour': 588.1263157894737},\n",
       " {'year': '2022',\n",
       "  'month': '09',\n",
       "  'duration_min': 17.3,\n",
       "  'calories': 149.0,\n",
       "  'calories_per_min': 8.61271676300578,\n",
       "  'calories_per_hour': 516.7630057803468},\n",
       " {'year': '2022',\n",
       "  'month': '10',\n",
       "  'duration_min': 61.1,\n",
       "  'calories': 510.0,\n",
       "  'calories_per_min': 8.34697217675941,\n",
       "  'calories_per_hour': 500.8183306055646},\n",
       " {'year': '2022',\n",
       "  'month': '10',\n",
       "  'duration_min': 55.583333333333336,\n",
       "  'calories': 248.0,\n",
       "  'calories_per_min': 4.461769115442278,\n",
       "  'calories_per_hour': 267.7061469265367},\n",
       " {'year': '2022',\n",
       "  'month': '10',\n",
       "  'duration_min': 55.68333333333333,\n",
       "  'calories': 371.0,\n",
       "  'calories_per_min': 6.662675845555223,\n",
       "  'calories_per_hour': 399.7605507333134},\n",
       " {'year': '2022',\n",
       "  'month': '10',\n",
       "  'duration_min': 54.18333333333333,\n",
       "  'calories': 275.0,\n",
       "  'calories_per_min': 5.075361427253153,\n",
       "  'calories_per_hour': 304.52168563518916},\n",
       " {'year': '2022',\n",
       "  'month': '10',\n",
       "  'duration_min': 27.183333333333334,\n",
       "  'calories': 96.0,\n",
       "  'calories_per_min': 3.5315757204169222,\n",
       "  'calories_per_hour': 211.89454322501533},\n",
       " {'year': '2022',\n",
       "  'month': '10',\n",
       "  'duration_min': 36.583333333333336,\n",
       "  'calories': 220.0,\n",
       "  'calories_per_min': 6.013667425968109,\n",
       "  'calories_per_hour': 360.8200455580865},\n",
       " {'year': '2022',\n",
       "  'month': '10',\n",
       "  'duration_min': 72.08333333333333,\n",
       "  'calories': 627.0,\n",
       "  'calories_per_min': 8.698265895953758,\n",
       "  'calories_per_hour': 521.8959537572255},\n",
       " {'year': '2022',\n",
       "  'month': '10',\n",
       "  'duration_min': 43.45,\n",
       "  'calories': 333.0,\n",
       "  'calories_per_min': 7.663981588032221,\n",
       "  'calories_per_hour': 459.8388952819333},\n",
       " {'year': '2022',\n",
       "  'month': '10',\n",
       "  'duration_min': 47.36666666666667,\n",
       "  'calories': 370.0,\n",
       "  'calories_per_min': 7.811400422237861,\n",
       "  'calories_per_hour': 468.6840253342716},\n",
       " {'year': '2022',\n",
       "  'month': '10',\n",
       "  'duration_min': 50.21666666666667,\n",
       "  'calories': 402.0,\n",
       "  'calories_per_min': 8.005310321938268,\n",
       "  'calories_per_hour': 480.31861931629606},\n",
       " {'year': '2022',\n",
       "  'month': '10',\n",
       "  'duration_min': 71.21666666666667,\n",
       "  'calories': 307.0,\n",
       "  'calories_per_min': 4.3107886730634215,\n",
       "  'calories_per_hour': 258.64732038380527},\n",
       " {'year': '2022',\n",
       "  'month': '10',\n",
       "  'duration_min': 42.8,\n",
       "  'calories': 227.0,\n",
       "  'calories_per_min': 5.30373831775701,\n",
       "  'calories_per_hour': 318.2242990654206},\n",
       " {'year': '2022',\n",
       "  'month': '10',\n",
       "  'duration_min': 44.666666666666664,\n",
       "  'calories': 264.0,\n",
       "  'calories_per_min': 5.91044776119403,\n",
       "  'calories_per_hour': 354.6268656716418},\n",
       " {'year': '2022',\n",
       "  'month': '10',\n",
       "  'duration_min': 12.25,\n",
       "  'calories': 55.0,\n",
       "  'calories_per_min': 4.489795918367347,\n",
       "  'calories_per_hour': 269.3877551020408},\n",
       " {'year': '2022',\n",
       "  'month': '10',\n",
       "  'duration_min': 59.833333333333336,\n",
       "  'calories': 565.0,\n",
       "  'calories_per_min': 9.442896935933147,\n",
       "  'calories_per_hour': 566.5738161559889},\n",
       " {'year': '2022',\n",
       "  'month': '10',\n",
       "  'duration_min': 34.68333333333333,\n",
       "  'calories': 279.0,\n",
       "  'calories_per_min': 8.044209514656416,\n",
       "  'calories_per_hour': 482.65257087938494},\n",
       " {'year': '2022',\n",
       "  'month': '10',\n",
       "  'duration_min': 49.666666666666664,\n",
       "  'calories': 231.0,\n",
       "  'calories_per_min': 4.651006711409396,\n",
       "  'calories_per_hour': 279.06040268456377},\n",
       " {'year': '2022',\n",
       "  'month': '10',\n",
       "  'duration_min': 51.75,\n",
       "  'calories': 424.0,\n",
       "  'calories_per_min': 8.193236714975846,\n",
       "  'calories_per_hour': 491.59420289855075},\n",
       " {'year': '2022',\n",
       "  'month': '11',\n",
       "  'duration_min': 66.81666666666666,\n",
       "  'calories': 421.0,\n",
       "  'calories_per_min': 6.300823147917186,\n",
       "  'calories_per_hour': 378.0493888750312},\n",
       " {'year': '2022',\n",
       "  'month': '11',\n",
       "  'duration_min': 16.183333333333334,\n",
       "  'calories': 36.0,\n",
       "  'calories_per_min': 2.224510813594233,\n",
       "  'calories_per_hour': 133.47064881565396},\n",
       " {'year': '2022',\n",
       "  'month': '11',\n",
       "  'duration_min': 42.78333333333333,\n",
       "  'calories': 194.0,\n",
       "  'calories_per_min': 4.534476042072458,\n",
       "  'calories_per_hour': 272.0685625243475},\n",
       " {'year': '2022',\n",
       "  'month': '11',\n",
       "  'duration_min': 73.98333333333333,\n",
       "  'calories': 504.0,\n",
       "  'calories_per_min': 6.8123451227754,\n",
       "  'calories_per_hour': 408.740707366524},\n",
       " {'year': '2022',\n",
       "  'month': '11',\n",
       "  'duration_min': 64.36666666666666,\n",
       "  'calories': 317.0,\n",
       "  'calories_per_min': 4.924909373381668,\n",
       "  'calories_per_hour': 295.4945624029001},\n",
       " {'year': '2022',\n",
       "  'month': '11',\n",
       "  'duration_min': 56.18333333333333,\n",
       "  'calories': 285.0,\n",
       "  'calories_per_min': 5.072678730347079,\n",
       "  'calories_per_hour': 304.3607238208247},\n",
       " {'year': '2022',\n",
       "  'month': '11',\n",
       "  'duration_min': 59.8,\n",
       "  'calories': 159.0,\n",
       "  'calories_per_min': 2.658862876254181,\n",
       "  'calories_per_hour': 159.53177257525084},\n",
       " {'year': '2022',\n",
       "  'month': '11',\n",
       "  'duration_min': 56.38333333333333,\n",
       "  'calories': 128.0,\n",
       "  'calories_per_min': 2.270174401418859,\n",
       "  'calories_per_hour': 136.21046408513155},\n",
       " {'year': '2022',\n",
       "  'month': '11',\n",
       "  'duration_min': 13.133333333333333,\n",
       "  'calories': 43.0,\n",
       "  'calories_per_min': 3.2741116751269037,\n",
       "  'calories_per_hour': 196.44670050761422},\n",
       " {'year': '2022',\n",
       "  'month': '12',\n",
       "  'duration_min': 59.083333333333336,\n",
       "  'calories': 260.0,\n",
       "  'calories_per_min': 4.4005641748942175,\n",
       "  'calories_per_hour': 264.03385049365306},\n",
       " {'year': '2022',\n",
       "  'month': '12',\n",
       "  'duration_min': 47.81666666666667,\n",
       "  'calories': 280.0,\n",
       "  'calories_per_min': 5.8556988497734395,\n",
       "  'calories_per_hour': 351.3419309864064},\n",
       " {'year': '2022',\n",
       "  'month': '12',\n",
       "  'duration_min': 61.36666666666667,\n",
       "  'calories': 312.0,\n",
       "  'calories_per_min': 5.084193373166757,\n",
       "  'calories_per_hour': 305.0516023900054},\n",
       " {'year': '2022',\n",
       "  'month': '12',\n",
       "  'duration_min': 59.61666666666667,\n",
       "  'calories': 108.0,\n",
       "  'calories_per_min': 1.8115739446463517,\n",
       "  'calories_per_hour': 108.6944366787811},\n",
       " {'year': '2022',\n",
       "  'month': '12',\n",
       "  'duration_min': 51.71666666666667,\n",
       "  'calories': 281.0,\n",
       "  'calories_per_min': 5.433451498549791,\n",
       "  'calories_per_hour': 326.00708991298745},\n",
       " {'year': '2022',\n",
       "  'month': '12',\n",
       "  'duration_min': 51.06666666666667,\n",
       "  'calories': 26.0,\n",
       "  'calories_per_min': 0.5091383812010444,\n",
       "  'calories_per_hour': 30.548302872062663},\n",
       " {'year': '2022',\n",
       "  'month': '12',\n",
       "  'duration_min': 48.53333333333333,\n",
       "  'calories': 385.0,\n",
       "  'calories_per_min': 7.932692307692308,\n",
       "  'calories_per_hour': 475.9615384615385},\n",
       " {'year': '2022',\n",
       "  'month': '12',\n",
       "  'duration_min': 69.3,\n",
       "  'calories': 429.0,\n",
       "  'calories_per_min': 6.190476190476191,\n",
       "  'calories_per_hour': 371.42857142857144},\n",
       " {'year': '2022',\n",
       "  'month': '12',\n",
       "  'duration_min': 59.06666666666667,\n",
       "  'calories': 458.0,\n",
       "  'calories_per_min': 7.753950338600451,\n",
       "  'calories_per_hour': 465.2370203160271},\n",
       " {'year': '2022',\n",
       "  'month': '12',\n",
       "  'duration_min': 57.61666666666667,\n",
       "  'calories': 445.0,\n",
       "  'calories_per_min': 7.723459647092855,\n",
       "  'calories_per_hour': 463.4075788255713},\n",
       " {'year': '2022',\n",
       "  'month': '12',\n",
       "  'duration_min': 59.9,\n",
       "  'calories': 252.0,\n",
       "  'calories_per_min': 4.207011686143573,\n",
       "  'calories_per_hour': 252.42070116861436},\n",
       " {'year': '2022',\n",
       "  'month': '12',\n",
       "  'duration_min': 60.13333333333333,\n",
       "  'calories': 409.0,\n",
       "  'calories_per_min': 6.801552106430155,\n",
       "  'calories_per_hour': 408.09312638580934},\n",
       " {'year': '2022',\n",
       "  'month': '12',\n",
       "  'duration_min': 32.68333333333333,\n",
       "  'calories': 266.0,\n",
       "  'calories_per_min': 8.138704742478328,\n",
       "  'calories_per_hour': 488.3222845486997},\n",
       " {'year': '2022',\n",
       "  'month': '12',\n",
       "  'duration_min': 63.9,\n",
       "  'calories': 444.0,\n",
       "  'calories_per_min': 6.948356807511737,\n",
       "  'calories_per_hour': 416.9014084507042},\n",
       " {'year': '2022',\n",
       "  'month': '12',\n",
       "  'duration_min': 51.416666666666664,\n",
       "  'calories': 512.0,\n",
       "  'calories_per_min': 9.957860615883307,\n",
       "  'calories_per_hour': 597.4716369529984},\n",
       " {'year': '2022',\n",
       "  'month': '12',\n",
       "  'duration_min': 40.38333333333333,\n",
       "  'calories': 178.0,\n",
       "  'calories_per_min': 4.407758976475444,\n",
       "  'calories_per_hour': 264.4655385885266},\n",
       " {'year': '2022',\n",
       "  'month': '12',\n",
       "  'duration_min': 45.46666666666667,\n",
       "  'calories': 338.0,\n",
       "  'calories_per_min': 7.4340175953079175,\n",
       "  'calories_per_hour': 446.04105571847504},\n",
       " {'year': '2023',\n",
       "  'month': '01',\n",
       "  'duration_min': 90.51666666666667,\n",
       "  'calories': 697.0,\n",
       "  'calories_per_min': 7.7002393665991535,\n",
       "  'calories_per_hour': 462.01436199594923},\n",
       " {'year': '2023',\n",
       "  'month': '01',\n",
       "  'duration_min': 57.983333333333334,\n",
       "  'calories': 483.0,\n",
       "  'calories_per_min': 8.329979879275653,\n",
       "  'calories_per_hour': 499.79879275653917},\n",
       " {'year': '2023',\n",
       "  'month': '01',\n",
       "  'duration_min': 51.53333333333333,\n",
       "  'calories': 270.0,\n",
       "  'calories_per_min': 5.2393272962483834,\n",
       "  'calories_per_hour': 314.35963777490304},\n",
       " {'year': '2023',\n",
       "  'month': '01',\n",
       "  'duration_min': 64.73333333333333,\n",
       "  'calories': 405.0,\n",
       "  'calories_per_min': 6.25643666323378,\n",
       "  'calories_per_hour': 375.38619979402677},\n",
       " {'year': '2023',\n",
       "  'month': '01',\n",
       "  'duration_min': 62.13333333333333,\n",
       "  'calories': 57.0,\n",
       "  'calories_per_min': 0.9173819742489271,\n",
       "  'calories_per_hour': 55.042918454935624},\n",
       " {'year': '2023',\n",
       "  'month': '01',\n",
       "  'duration_min': 101.36666666666666,\n",
       "  'calories': 666.0,\n",
       "  'calories_per_min': 6.570207168694509,\n",
       "  'calories_per_hour': 394.21243012167054},\n",
       " {'year': '2023',\n",
       "  'month': '01',\n",
       "  'duration_min': 54.88333333333333,\n",
       "  'calories': 264.0,\n",
       "  'calories_per_min': 4.810203461888856,\n",
       "  'calories_per_hour': 288.6122077133313},\n",
       " {'year': '2023',\n",
       "  'month': '01',\n",
       "  'duration_min': 28.833333333333332,\n",
       "  'calories': 201.0,\n",
       "  'calories_per_min': 6.971098265895954,\n",
       "  'calories_per_hour': 418.2658959537572},\n",
       " {'year': '2023',\n",
       "  'month': '01',\n",
       "  'duration_min': 60.0,\n",
       "  'calories': 339.0,\n",
       "  'calories_per_min': 5.65,\n",
       "  'calories_per_hour': 339.0},\n",
       " {'year': '2023',\n",
       "  'month': '01',\n",
       "  'duration_min': 62.833333333333336,\n",
       "  'calories': 596.0,\n",
       "  'calories_per_min': 9.485411140583555,\n",
       "  'calories_per_hour': 569.1246684350133},\n",
       " {'year': '2023',\n",
       "  'month': '01',\n",
       "  'duration_min': 41.53333333333333,\n",
       "  'calories': 221.0,\n",
       "  'calories_per_min': 5.321027287319422,\n",
       "  'calories_per_hour': 319.26163723916534},\n",
       " {'year': '2023',\n",
       "  'month': '01',\n",
       "  'duration_min': 53.833333333333336,\n",
       "  'calories': 388.0,\n",
       "  'calories_per_min': 7.207430340557275,\n",
       "  'calories_per_hour': 432.4458204334365},\n",
       " {'year': '2023',\n",
       "  'month': '01',\n",
       "  'duration_min': 61.0,\n",
       "  'calories': 363.0,\n",
       "  'calories_per_min': 5.950819672131147,\n",
       "  'calories_per_hour': 357.04918032786884},\n",
       " {'year': '2023',\n",
       "  'month': '01',\n",
       "  'duration_min': 22.316666666666666,\n",
       "  'calories': 51.0,\n",
       "  'calories_per_min': 2.285287528005975,\n",
       "  'calories_per_hour': 137.1172516803585},\n",
       " {'year': '2023',\n",
       "  'month': '01',\n",
       "  'duration_min': 56.3,\n",
       "  'calories': 464.0,\n",
       "  'calories_per_min': 8.241563055062167,\n",
       "  'calories_per_hour': 494.49378330373},\n",
       " {'year': '2023',\n",
       "  'month': '01',\n",
       "  'duration_min': 53.333333333333336,\n",
       "  'calories': 366.0,\n",
       "  'calories_per_min': 6.8625,\n",
       "  'calories_per_hour': 411.75},\n",
       " {'year': '2023',\n",
       "  'month': '01',\n",
       "  'duration_min': 65.61666666666666,\n",
       "  'calories': 395.0,\n",
       "  'calories_per_min': 6.01981203962408,\n",
       "  'calories_per_hour': 361.1887223774448},\n",
       " {'year': '2023',\n",
       "  'month': '02',\n",
       "  'duration_min': 80.85,\n",
       "  'calories': 316.0,\n",
       "  'calories_per_min': 3.9084724799010515,\n",
       "  'calories_per_hour': 234.5083487940631},\n",
       " {'year': '2023',\n",
       "  'month': '02',\n",
       "  'duration_min': 57.38333333333333,\n",
       "  'calories': 426.0,\n",
       "  'calories_per_min': 7.423758350275922,\n",
       "  'calories_per_hour': 445.42550101655536},\n",
       " {'year': '2023',\n",
       "  'month': '02',\n",
       "  'duration_min': 50.06666666666667,\n",
       "  'calories': 310.0,\n",
       "  'calories_per_min': 6.191744340878828,\n",
       "  'calories_per_hour': 371.5046604527297},\n",
       " {'year': '2023',\n",
       "  'month': '02',\n",
       "  'duration_min': 38.88333333333333,\n",
       "  'calories': 196.0,\n",
       "  'calories_per_min': 5.0407201028718385,\n",
       "  'calories_per_hour': 302.4432061723103},\n",
       " {'year': '2023',\n",
       "  'month': '02',\n",
       "  'duration_min': 27.166666666666668,\n",
       "  'calories': 14.0,\n",
       "  'calories_per_min': 0.5153374233128835,\n",
       "  'calories_per_hour': 30.92024539877301},\n",
       " {'year': '2023',\n",
       "  'month': '02',\n",
       "  'duration_min': 62.233333333333334,\n",
       "  'calories': 391.0,\n",
       "  'calories_per_min': 6.28280664167113,\n",
       "  'calories_per_hour': 376.9683985002678},\n",
       " {'year': '2023',\n",
       "  'month': '02',\n",
       "  'duration_min': 59.86666666666667,\n",
       "  'calories': 500.0,\n",
       "  'calories_per_min': 8.351893095768373,\n",
       "  'calories_per_hour': 501.1135857461024},\n",
       " {'year': '2023',\n",
       "  'month': '02',\n",
       "  'duration_min': 41.3,\n",
       "  'calories': 307.0,\n",
       "  'calories_per_min': 7.433414043583536,\n",
       "  'calories_per_hour': 446.00484261501214},\n",
       " {'year': '2023',\n",
       "  'month': '02',\n",
       "  'duration_min': 51.4,\n",
       "  'calories': 83.0,\n",
       "  'calories_per_min': 1.6147859922178989,\n",
       "  'calories_per_hour': 96.88715953307393},\n",
       " {'year': '2023',\n",
       "  'month': '02',\n",
       "  'duration_min': 51.86666666666667,\n",
       "  'calories': 414.0,\n",
       "  'calories_per_min': 7.982005141388175,\n",
       "  'calories_per_hour': 478.9203084832905},\n",
       " {'year': '2023',\n",
       "  'month': '02',\n",
       "  'duration_min': 48.05,\n",
       "  'calories': 428.0,\n",
       "  'calories_per_min': 8.90738813735692,\n",
       "  'calories_per_hour': 534.4432882414152},\n",
       " {'year': '2023',\n",
       "  'month': '02',\n",
       "  'duration_min': 53.916666666666664,\n",
       "  'calories': 316.0,\n",
       "  'calories_per_min': 5.860896445131376,\n",
       "  'calories_per_hour': 351.65378670788255},\n",
       " {'year': '2023',\n",
       "  'month': '02',\n",
       "  'duration_min': 66.71666666666667,\n",
       "  'calories': 510.0,\n",
       "  'calories_per_min': 7.644266799900075,\n",
       "  'calories_per_hour': 458.6560079940045},\n",
       " {'year': '2023',\n",
       "  'month': '02',\n",
       "  'duration_min': 51.28333333333333,\n",
       "  'calories': 305.0,\n",
       "  'calories_per_min': 5.947351316217095,\n",
       "  'calories_per_hour': 356.8410789730257},\n",
       " {'year': '2023',\n",
       "  'month': '02',\n",
       "  'duration_min': 72.71666666666667,\n",
       "  'calories': 555.0,\n",
       "  'calories_per_min': 7.632363052945221,\n",
       "  'calories_per_hour': 457.9417831767133},\n",
       " {'year': '2023',\n",
       "  'month': '02',\n",
       "  'duration_min': 50.666666666666664,\n",
       "  'calories': 504.0,\n",
       "  'calories_per_min': 9.947368421052632,\n",
       "  'calories_per_hour': 596.8421052631579},\n",
       " {'year': '2023',\n",
       "  'month': '02',\n",
       "  'duration_min': 33.31666666666667,\n",
       "  'calories': 232.0,\n",
       "  'calories_per_min': 6.963481740870434,\n",
       "  'calories_per_hour': 417.80890445222605},\n",
       " {'year': '2023',\n",
       "  'month': '02',\n",
       "  'duration_min': 62.0,\n",
       "  'calories': 343.0,\n",
       "  'calories_per_min': 5.532258064516129,\n",
       "  'calories_per_hour': 331.93548387096774},\n",
       " {'year': '2023',\n",
       "  'month': '02',\n",
       "  'duration_min': 67.98333333333333,\n",
       "  'calories': 562.0,\n",
       "  'calories_per_min': 8.266732042167197,\n",
       "  'calories_per_hour': 496.00392253003184},\n",
       " {'year': '2023',\n",
       "  'month': '02',\n",
       "  'duration_min': 59.333333333333336,\n",
       "  'calories': 367.0,\n",
       "  'calories_per_min': 6.185393258426966,\n",
       "  'calories_per_hour': 371.12359550561797},\n",
       " {'year': '2023',\n",
       "  'month': '02',\n",
       "  'duration_min': 60.266666666666666,\n",
       "  'calories': 534.0,\n",
       "  'calories_per_min': 8.860619469026549,\n",
       "  'calories_per_hour': 531.637168141593},\n",
       " {'year': '2023',\n",
       "  'month': '03',\n",
       "  'duration_min': 53.15,\n",
       "  'calories': 395.0,\n",
       "  'calories_per_min': 7.4317968015051745,\n",
       "  'calories_per_hour': 445.9078080903105},\n",
       " {'year': '2023',\n",
       "  'month': '03',\n",
       "  'duration_min': 55.65,\n",
       "  'calories': 435.0,\n",
       "  'calories_per_min': 7.816711590296496,\n",
       "  'calories_per_hour': 469.00269541778977},\n",
       " {'year': '2023',\n",
       "  'month': '03',\n",
       "  'duration_min': 56.61666666666667,\n",
       "  'calories': 460.0,\n",
       "  'calories_per_min': 8.124816014130115,\n",
       "  'calories_per_hour': 487.4889608478069},\n",
       " {'year': '2023',\n",
       "  'month': '03',\n",
       "  'duration_min': 36.06666666666667,\n",
       "  'calories': 217.0,\n",
       "  'calories_per_min': 6.016635859519408,\n",
       "  'calories_per_hour': 360.99815157116444},\n",
       " {'year': '2023',\n",
       "  'month': '03',\n",
       "  'duration_min': 68.35,\n",
       "  'calories': 537.0,\n",
       "  'calories_per_min': 7.856620336503292,\n",
       "  'calories_per_hour': 471.3972201901975},\n",
       " {'year': '2023',\n",
       "  'month': '03',\n",
       "  'duration_min': 30.133333333333333,\n",
       "  'calories': 232.0,\n",
       "  'calories_per_min': 7.699115044247788,\n",
       "  'calories_per_hour': 461.94690265486724},\n",
       " {'year': '2023',\n",
       "  'month': '03',\n",
       "  'duration_min': 37.71666666666667,\n",
       "  'calories': 235.0,\n",
       "  'calories_per_min': 6.230667255855059,\n",
       "  'calories_per_hour': 373.8400353513036},\n",
       " {'year': '2023',\n",
       "  'month': '03',\n",
       "  'duration_min': 57.61666666666667,\n",
       "  'calories': 424.0,\n",
       "  'calories_per_min': 7.35898177610645,\n",
       "  'calories_per_hour': 441.538906566387},\n",
       " {'year': '2023',\n",
       "  'month': '03',\n",
       "  'duration_min': 64.25,\n",
       "  'calories': 547.0,\n",
       "  'calories_per_min': 8.513618677042802,\n",
       "  'calories_per_hour': 510.8171206225681},\n",
       " {'year': '2023',\n",
       "  'month': '03',\n",
       "  'duration_min': 55.0,\n",
       "  'calories': 372.0,\n",
       "  'calories_per_min': 6.763636363636364,\n",
       "  'calories_per_hour': 405.8181818181818},\n",
       " {'year': '2023',\n",
       "  'month': '03',\n",
       "  'duration_min': 82.13333333333334,\n",
       "  'calories': 401.0,\n",
       "  'calories_per_min': 4.882305194805195,\n",
       "  'calories_per_hour': 292.93831168831167},\n",
       " {'year': '2023',\n",
       "  'month': '03',\n",
       "  'duration_min': 50.06666666666667,\n",
       "  'calories': 377.0,\n",
       "  'calories_per_min': 7.529960053262316,\n",
       "  'calories_per_hour': 451.797603195739},\n",
       " {'year': '2023',\n",
       "  'month': '03',\n",
       "  'duration_min': 53.85,\n",
       "  'calories': 413.0,\n",
       "  'calories_per_min': 7.669452181987,\n",
       "  'calories_per_hour': 460.16713091922},\n",
       " {'year': '2023',\n",
       "  'month': '03',\n",
       "  'duration_min': 86.91666666666667,\n",
       "  'calories': 391.0,\n",
       "  'calories_per_min': 4.49856184084372,\n",
       "  'calories_per_hour': 269.91371045062317},\n",
       " {'year': '2023',\n",
       "  'month': '03',\n",
       "  'duration_min': 56.35,\n",
       "  'calories': 289.0,\n",
       "  'calories_per_min': 5.12866015971606,\n",
       "  'calories_per_hour': 307.7196095829636},\n",
       " {'year': '2023',\n",
       "  'month': '03',\n",
       "  'duration_min': 60.46666666666667,\n",
       "  'calories': 530.0,\n",
       "  'calories_per_min': 8.765159867695699,\n",
       "  'calories_per_hour': 525.9095920617419},\n",
       " {'year': '2023',\n",
       "  'month': '03',\n",
       "  'duration_min': 52.416666666666664,\n",
       "  'calories': 430.0,\n",
       "  'calories_per_min': 8.203497615262322,\n",
       "  'calories_per_hour': 492.2098569157393},\n",
       " {'year': '2023',\n",
       "  'month': '03',\n",
       "  'duration_min': 60.0,\n",
       "  'calories': 476.0,\n",
       "  'calories_per_min': 7.933333333333334,\n",
       "  'calories_per_hour': 476.0},\n",
       " {'year': '2023',\n",
       "  'month': '03',\n",
       "  'duration_min': 58.46666666666667,\n",
       "  'calories': 109.0,\n",
       "  'calories_per_min': 1.8643101482326112,\n",
       "  'calories_per_hour': 111.85860889395667},\n",
       " {'year': '2023',\n",
       "  'month': '04',\n",
       "  'duration_min': 8.35,\n",
       "  'calories': 101.0,\n",
       "  'calories_per_min': 12.095808383233534,\n",
       "  'calories_per_hour': 725.748502994012},\n",
       " {'year': '2023',\n",
       "  'month': '04',\n",
       "  'duration_min': 56.483333333333334,\n",
       "  'calories': 299.0,\n",
       "  'calories_per_min': 5.293596931248156,\n",
       "  'calories_per_hour': 317.61581587488934},\n",
       " {'year': '2023',\n",
       "  'month': '04',\n",
       "  'duration_min': 61.5,\n",
       "  'calories': 159.0,\n",
       "  'calories_per_min': 2.5853658536585367,\n",
       "  'calories_per_hour': 155.1219512195122},\n",
       " {'year': '2023',\n",
       "  'month': '04',\n",
       "  'duration_min': 48.36666666666667,\n",
       "  'calories': 289.0,\n",
       "  'calories_per_min': 5.975189524465885,\n",
       "  'calories_per_hour': 358.5113714679531},\n",
       " {'year': '2023',\n",
       "  'month': '04',\n",
       "  'duration_min': 26.383333333333333,\n",
       "  'calories': 174.0,\n",
       "  'calories_per_min': 6.595072646873026,\n",
       "  'calories_per_hour': 395.7043588123816},\n",
       " {'year': '2023',\n",
       "  'month': '04',\n",
       "  'duration_min': 32.61666666666667,\n",
       "  'calories': 355.0,\n",
       "  'calories_per_min': 10.88400613183444,\n",
       "  'calories_per_hour': 653.0403679100664},\n",
       " {'year': '2023',\n",
       "  'month': '04',\n",
       "  'duration_min': 11.883333333333333,\n",
       "  'calories': 142.0,\n",
       "  'calories_per_min': 11.949509116409537,\n",
       "  'calories_per_hour': 716.9705469845723},\n",
       " {'year': '2023',\n",
       "  'month': '04',\n",
       "  'duration_min': 12.316666666666666,\n",
       "  'calories': 158.0,\n",
       "  'calories_per_min': 12.828146143437078,\n",
       "  'calories_per_hour': 769.6887686062247},\n",
       " {'year': '2023',\n",
       "  'month': '04',\n",
       "  'duration_min': 35.3,\n",
       "  'calories': 373.0,\n",
       "  'calories_per_min': 10.56657223796034,\n",
       "  'calories_per_hour': 633.9943342776204},\n",
       " {'year': '2023',\n",
       "  'month': '04',\n",
       "  'duration_min': 11.383333333333333,\n",
       "  'calories': 155.0,\n",
       "  'calories_per_min': 13.616398243045388,\n",
       "  'calories_per_hour': 816.9838945827233},\n",
       " {'year': '2023',\n",
       "  'month': '04',\n",
       "  'duration_min': 84.18333333333334,\n",
       "  'calories': 392.0,\n",
       "  'calories_per_min': 4.656503662641061,\n",
       "  'calories_per_hour': 279.3902197584637},\n",
       " {'year': '2023',\n",
       "  'month': '04',\n",
       "  'duration_min': 2.35,\n",
       "  'calories': 9.0,\n",
       "  'calories_per_min': 3.829787234042553,\n",
       "  'calories_per_hour': 229.78723404255317},\n",
       " {'year': '2023',\n",
       "  'month': '04',\n",
       "  'duration_min': 46.45,\n",
       "  'calories': 301.0,\n",
       "  'calories_per_min': 6.480086114101184,\n",
       "  'calories_per_hour': 388.805166846071},\n",
       " {'year': '2023',\n",
       "  'month': '04',\n",
       "  'duration_min': 55.78333333333333,\n",
       "  'calories': 326.0,\n",
       "  'calories_per_min': 5.844039438302958,\n",
       "  'calories_per_hour': 350.6423662981775},\n",
       " {'year': '2023',\n",
       "  'month': '04',\n",
       "  'duration_min': 4.016666666666667,\n",
       "  'calories': 6.0,\n",
       "  'calories_per_min': 1.4937759336099585,\n",
       "  'calories_per_hour': 89.6265560165975},\n",
       " {'year': '2023',\n",
       "  'month': '04',\n",
       "  'duration_min': 47.93333333333333,\n",
       "  'calories': 392.0,\n",
       "  'calories_per_min': 8.178025034770515,\n",
       "  'calories_per_hour': 490.6815020862309},\n",
       " {'year': '2023',\n",
       "  'month': '04',\n",
       "  'duration_min': 27.733333333333334,\n",
       "  'calories': 422.0,\n",
       "  'calories_per_min': 15.216346153846153,\n",
       "  'calories_per_hour': 912.9807692307692},\n",
       " {'year': '2023',\n",
       "  'month': '04',\n",
       "  'duration_min': 31.983333333333334,\n",
       "  'calories': 389.0,\n",
       "  'calories_per_min': 12.162584679520583,\n",
       "  'calories_per_hour': 729.7550807712349},\n",
       " {'year': '2023',\n",
       "  'month': '04',\n",
       "  'duration_min': 46.983333333333334,\n",
       "  'calories': 203.0,\n",
       "  'calories_per_min': 4.320681092586024,\n",
       "  'calories_per_hour': 259.2408655551614},\n",
       " {'year': '2023',\n",
       "  'month': '04',\n",
       "  'duration_min': 49.35,\n",
       "  'calories': 215.0,\n",
       "  'calories_per_min': 4.356636271529888,\n",
       "  'calories_per_hour': 261.3981762917933},\n",
       " {'year': '2023',\n",
       "  'month': '04',\n",
       "  'duration_min': 21.3,\n",
       "  'calories': 62.0,\n",
       "  'calories_per_min': 2.9107981220657275,\n",
       "  'calories_per_hour': 174.64788732394365},\n",
       " {'year': '2023',\n",
       "  'month': '04',\n",
       "  'duration_min': 20.533333333333335,\n",
       "  'calories': 60.0,\n",
       "  'calories_per_min': 2.922077922077922,\n",
       "  'calories_per_hour': 175.3246753246753},\n",
       " {'year': '2023',\n",
       "  'month': '04',\n",
       "  'duration_min': 53.916666666666664,\n",
       "  'calories': 313.0,\n",
       "  'calories_per_min': 5.805255023183926,\n",
       "  'calories_per_hour': 348.3153013910355},\n",
       " {'year': '2023',\n",
       "  'month': '04',\n",
       "  'duration_min': 11.666666666666666,\n",
       "  'calories': 90.0,\n",
       "  'calories_per_min': 7.714285714285714,\n",
       "  'calories_per_hour': 462.8571428571429},\n",
       " {'year': '2023',\n",
       "  'month': '05',\n",
       "  'duration_min': 82.46666666666667,\n",
       "  'calories': 474.0,\n",
       "  'calories_per_min': 5.747776879547292,\n",
       "  'calories_per_hour': 344.8666127728375},\n",
       " {'year': '2023',\n",
       "  'month': '05',\n",
       "  'duration_min': 11.75,\n",
       "  'calories': 144.0,\n",
       "  'calories_per_min': 12.25531914893617,\n",
       "  'calories_per_hour': 735.3191489361702},\n",
       " {'year': '2023',\n",
       "  'month': '05',\n",
       "  'duration_min': 22.183333333333334,\n",
       "  'calories': 91.0,\n",
       "  'calories_per_min': 4.102178812922615,\n",
       "  'calories_per_hour': 246.13072877535689},\n",
       " {'year': '2023',\n",
       "  'month': '05',\n",
       "  'duration_min': 31.316666666666666,\n",
       "  'calories': 561.0,\n",
       "  'calories_per_min': 17.913783927621076,\n",
       "  'calories_per_hour': 1074.8270356572646},\n",
       " {'year': '2023',\n",
       "  'month': '05',\n",
       "  'duration_min': 67.88333333333334,\n",
       "  'calories': 399.0,\n",
       "  'calories_per_min': 5.8777314019150495,\n",
       "  'calories_per_hour': 352.663884114903},\n",
       " {'year': '2023',\n",
       "  'month': '05',\n",
       "  'duration_min': 76.93333333333334,\n",
       "  'calories': 561.0,\n",
       "  'calories_per_min': 7.2920277296360485,\n",
       "  'calories_per_hour': 437.5216637781629},\n",
       " {'year': '2023',\n",
       "  'month': '05',\n",
       "  'duration_min': 84.91666666666667,\n",
       "  'calories': 509.0,\n",
       "  'calories_per_min': 5.994111874386653,\n",
       "  'calories_per_hour': 359.6467124631992},\n",
       " {'year': '2023',\n",
       "  'month': '05',\n",
       "  'duration_min': 46.28333333333333,\n",
       "  'calories': 159.0,\n",
       "  'calories_per_min': 3.435361901332373,\n",
       "  'calories_per_hour': 206.1217140799424},\n",
       " {'year': '2023',\n",
       "  'month': '05',\n",
       "  'duration_min': 69.03333333333333,\n",
       "  'calories': 430.0,\n",
       "  'calories_per_min': 6.228874939642685,\n",
       "  'calories_per_hour': 373.7324963785611},\n",
       " {'year': '2023',\n",
       "  'month': '05',\n",
       "  'duration_min': 6.166666666666667,\n",
       "  'calories': 88.0,\n",
       "  'calories_per_min': 14.27027027027027,\n",
       "  'calories_per_hour': 856.2162162162163},\n",
       " {'year': '2023',\n",
       "  'month': '05',\n",
       "  'duration_min': 66.4,\n",
       "  'calories': 257.0,\n",
       "  'calories_per_min': 3.870481927710843,\n",
       "  'calories_per_hour': 232.2289156626506},\n",
       " {'year': '2023',\n",
       "  'month': '05',\n",
       "  'duration_min': 53.2,\n",
       "  'calories': 241.0,\n",
       "  'calories_per_min': 4.530075187969924,\n",
       "  'calories_per_hour': 271.80451127819543},\n",
       " {'year': '2023',\n",
       "  'month': '05',\n",
       "  'duration_min': 51.583333333333336,\n",
       "  'calories': 252.0,\n",
       "  'calories_per_min': 4.88529886914378,\n",
       "  'calories_per_hour': 293.1179321486268},\n",
       " {'year': '2023',\n",
       "  'month': '05',\n",
       "  'duration_min': 65.35,\n",
       "  'calories': 562.0,\n",
       "  'calories_per_min': 8.599846977811783,\n",
       "  'calories_per_hour': 515.990818668707},\n",
       " {'year': '2023',\n",
       "  'month': '05',\n",
       "  'duration_min': 23.766666666666666,\n",
       "  'calories': 101.0,\n",
       "  'calories_per_min': 4.249649368863955,\n",
       "  'calories_per_hour': 254.9789621318373},\n",
       " {'year': '2023',\n",
       "  'month': '05',\n",
       "  'duration_min': 33.766666666666666,\n",
       "  'calories': 411.0,\n",
       "  'calories_per_min': 12.171767028627839,\n",
       "  'calories_per_hour': 730.3060217176703},\n",
       " {'year': '2023',\n",
       "  'month': '05',\n",
       "  'duration_min': 54.483333333333334,\n",
       "  'calories': 379.0,\n",
       "  'calories_per_min': 6.95625573569899,\n",
       "  'calories_per_hour': 417.3753441419394},\n",
       " {'year': '2023',\n",
       "  'month': '05',\n",
       "  'duration_min': 69.91666666666667,\n",
       "  'calories': 667.0,\n",
       "  'calories_per_min': 9.539928486293206,\n",
       "  'calories_per_hour': 572.3957091775924},\n",
       " {'year': '2023',\n",
       "  'month': '06',\n",
       "  'duration_min': 73.35,\n",
       "  'calories': 371.0,\n",
       "  'calories_per_min': 5.057941376959782,\n",
       "  'calories_per_hour': 303.47648261758695},\n",
       " {'year': '2023',\n",
       "  'month': '06',\n",
       "  'duration_min': 62.31666666666667,\n",
       "  'calories': 637.0,\n",
       "  'calories_per_min': 10.221984487830971,\n",
       "  'calories_per_hour': 613.3190692698582},\n",
       " {'year': '2023',\n",
       "  'month': '06',\n",
       "  'duration_min': 90.58333333333333,\n",
       "  'calories': 960.0,\n",
       "  'calories_per_min': 10.597976080956762,\n",
       "  'calories_per_hour': 635.8785648574058},\n",
       " {'year': '2023',\n",
       "  'month': '06',\n",
       "  'duration_min': 72.1,\n",
       "  'calories': 497.0,\n",
       "  'calories_per_min': 6.893203883495146,\n",
       "  'calories_per_hour': 413.59223300970876},\n",
       " {'year': '2023',\n",
       "  'month': '06',\n",
       "  'duration_min': 76.78333333333333,\n",
       "  'calories': 370.0,\n",
       "  'calories_per_min': 4.81875406989364,\n",
       "  'calories_per_hour': 289.1252441936184},\n",
       " {'year': '2023',\n",
       "  'month': '06',\n",
       "  'duration_min': 61.516666666666666,\n",
       "  'calories': 610.0,\n",
       "  'calories_per_min': 9.916011920888648,\n",
       "  'calories_per_hour': 594.9607152533189},\n",
       " {'year': '2023',\n",
       "  'month': '06',\n",
       "  'duration_min': 49.416666666666664,\n",
       "  'calories': 205.0,\n",
       "  'calories_per_min': 4.148397976391231,\n",
       "  'calories_per_hour': 248.90387858347387},\n",
       " {'year': '2023',\n",
       "  'month': '06',\n",
       "  'duration_min': 59.21666666666667,\n",
       "  'calories': 192.0,\n",
       "  'calories_per_min': 3.2423304249929634,\n",
       "  'calories_per_hour': 194.5398254995778},\n",
       " {'year': '2023',\n",
       "  'month': '06',\n",
       "  'duration_min': 57.7,\n",
       "  'calories': 497.0,\n",
       "  'calories_per_min': 8.613518197573656,\n",
       "  'calories_per_hour': 516.8110918544194},\n",
       " {'year': '2023',\n",
       "  'month': '06',\n",
       "  'duration_min': 81.16666666666667,\n",
       "  'calories': 392.0,\n",
       "  'calories_per_min': 4.829568788501026,\n",
       "  'calories_per_hour': 289.7741273100616},\n",
       " {'year': '2023',\n",
       "  'month': '06',\n",
       "  'duration_min': 64.51666666666667,\n",
       "  'calories': 404.0,\n",
       "  'calories_per_min': 6.261947817101524,\n",
       "  'calories_per_hour': 375.71686902609144},\n",
       " {'year': '2023',\n",
       "  'month': '06',\n",
       "  'duration_min': 57.4,\n",
       "  'calories': 307.0,\n",
       "  'calories_per_min': 5.348432055749129,\n",
       "  'calories_per_hour': 320.9059233449477},\n",
       " {'year': '2023',\n",
       "  'month': '06',\n",
       "  'duration_min': 55.6,\n",
       "  'calories': 412.0,\n",
       "  'calories_per_min': 7.410071942446043,\n",
       "  'calories_per_hour': 444.6043165467626},\n",
       " {'year': '2023',\n",
       "  'month': '07',\n",
       "  'duration_min': 61.81666666666667,\n",
       "  'calories': 484.0,\n",
       "  'calories_per_min': 7.829603666756538,\n",
       "  'calories_per_hour': 469.77622000539225},\n",
       " {'year': '2023',\n",
       "  'month': '07',\n",
       "  'duration_min': 82.13333333333334,\n",
       "  'calories': 503.0,\n",
       "  'calories_per_min': 6.124188311688311,\n",
       "  'calories_per_hour': 367.45129870129864},\n",
       " {'year': '2023',\n",
       "  'month': '07',\n",
       "  'duration_min': 70.7,\n",
       "  'calories': 579.0,\n",
       "  'calories_per_min': 8.18953323903819,\n",
       "  'calories_per_hour': 491.3719943422914},\n",
       " {'year': '2023',\n",
       "  'month': '07',\n",
       "  'duration_min': 66.26666666666667,\n",
       "  'calories': 477.0,\n",
       "  'calories_per_min': 7.198189134808853,\n",
       "  'calories_per_hour': 431.8913480885312},\n",
       " {'year': '2023',\n",
       "  'month': '07',\n",
       "  'duration_min': 66.61666666666666,\n",
       "  'calories': 610.0,\n",
       "  'calories_per_min': 9.156867650738054,\n",
       "  'calories_per_hour': 549.4120590442832},\n",
       " {'year': '2023',\n",
       "  'month': '07',\n",
       "  'duration_min': 72.73333333333333,\n",
       "  'calories': 372.0,\n",
       "  'calories_per_min': 5.114573785517873,\n",
       "  'calories_per_hour': 306.87442713107237},\n",
       " {'year': '2023',\n",
       "  'month': '07',\n",
       "  'duration_min': 70.95,\n",
       "  'calories': 455.0,\n",
       "  'calories_per_min': 6.412966878083157,\n",
       "  'calories_per_hour': 384.77801268498945},\n",
       " {'year': '2023',\n",
       "  'month': '07',\n",
       "  'duration_min': 42.46666666666667,\n",
       "  'calories': 415.0,\n",
       "  'calories_per_min': 9.7723704866562,\n",
       "  'calories_per_hour': 586.342229199372},\n",
       " {'year': '2023',\n",
       "  'month': '07',\n",
       "  'duration_min': 56.2,\n",
       "  'calories': 446.0,\n",
       "  'calories_per_min': 7.935943060498221,\n",
       "  'calories_per_hour': 476.15658362989325},\n",
       " {'year': '2023',\n",
       "  'month': '07',\n",
       "  'duration_min': 58.166666666666664,\n",
       "  'calories': 220.0,\n",
       "  'calories_per_min': 3.7822349570200573,\n",
       "  'calories_per_hour': 226.93409742120343},\n",
       " {'year': '2023',\n",
       "  'month': '07',\n",
       "  'duration_min': 114.13333333333334,\n",
       "  'calories': 911.0,\n",
       "  'calories_per_min': 7.981892523364485,\n",
       "  'calories_per_hour': 478.91355140186914},\n",
       " {'year': '2023',\n",
       "  'month': '08',\n",
       "  'duration_min': 78.03333333333333,\n",
       "  'calories': 275.0,\n",
       "  'calories_per_min': 3.5241349850491246,\n",
       "  'calories_per_hour': 211.44809910294748},\n",
       " {'year': '2023',\n",
       "  'month': '08',\n",
       "  'duration_min': 20.766666666666666,\n",
       "  'calories': 59.0,\n",
       "  'calories_per_min': 2.841091492776886,\n",
       "  'calories_per_hour': 170.46548956661317},\n",
       " {'year': '2023',\n",
       "  'month': '08',\n",
       "  'duration_min': 71.85,\n",
       "  'calories': 660.0,\n",
       "  'calories_per_min': 9.185803757828811,\n",
       "  'calories_per_hour': 551.1482254697287},\n",
       " {'year': '2023',\n",
       "  'month': '08',\n",
       "  'duration_min': 100.56666666666666,\n",
       "  'calories': 837.0,\n",
       "  'calories_per_min': 8.322837255551873,\n",
       "  'calories_per_hour': 499.37023533311236},\n",
       " {'year': '2023',\n",
       "  'month': '08',\n",
       "  'duration_min': 63.56666666666667,\n",
       "  'calories': 562.0,\n",
       "  'calories_per_min': 8.841111693759832,\n",
       "  'calories_per_hour': 530.4667016255898},\n",
       " {'year': '2023',\n",
       "  'month': '08',\n",
       "  'duration_min': 111.55,\n",
       "  'calories': 1003.0,\n",
       "  'calories_per_min': 8.991483639623487,\n",
       "  'calories_per_hour': 539.4890183774093},\n",
       " {'year': '2023',\n",
       "  'month': '08',\n",
       "  'duration_min': 102.43333333333334,\n",
       "  'calories': 959.0,\n",
       "  'calories_per_min': 9.362186788154897,\n",
       "  'calories_per_hour': 561.7312072892938},\n",
       " {'year': '2023',\n",
       "  'month': '08',\n",
       "  'duration_min': 61.28333333333333,\n",
       "  'calories': 486.0,\n",
       "  'calories_per_min': 7.930378025564319,\n",
       "  'calories_per_hour': 475.8226815338591},\n",
       " {'year': '2023',\n",
       "  'month': '08',\n",
       "  'duration_min': 77.45,\n",
       "  'calories': 597.0,\n",
       "  'calories_per_min': 7.708198837959974,\n",
       "  'calories_per_hour': 462.49193027759844},\n",
       " {'year': '2023',\n",
       "  'month': '08',\n",
       "  'duration_min': 73.28333333333333,\n",
       "  'calories': 567.0,\n",
       "  'calories_per_min': 7.737093472822379,\n",
       "  'calories_per_hour': 464.22560836934275},\n",
       " {'year': '2023',\n",
       "  'month': '08',\n",
       "  'duration_min': 103.46666666666667,\n",
       "  'calories': 997.0,\n",
       "  'calories_per_min': 9.635953608247423,\n",
       "  'calories_per_hour': 578.1572164948453},\n",
       " {'year': '2023',\n",
       "  'month': '08',\n",
       "  'duration_min': 74.36666666666666,\n",
       "  'calories': 246.0,\n",
       "  'calories_per_min': 3.307933662034962,\n",
       "  'calories_per_hour': 198.47601972209773},\n",
       " {'year': '2023',\n",
       "  'month': '08',\n",
       "  'duration_min': 59.916666666666664,\n",
       "  'calories': 416.0,\n",
       "  'calories_per_min': 6.94297635605007,\n",
       "  'calories_per_hour': 416.5785813630042},\n",
       " {'year': '2023',\n",
       "  'month': '08',\n",
       "  'duration_min': 61.5,\n",
       "  'calories': 506.0,\n",
       "  'calories_per_min': 8.227642276422765,\n",
       "  'calories_per_hour': 493.6585365853659},\n",
       " {'year': '2023',\n",
       "  'month': '08',\n",
       "  'duration_min': 114.48333333333333,\n",
       "  'calories': 1020.0,\n",
       "  'calories_per_min': 8.909593827340224,\n",
       "  'calories_per_hour': 534.5756296404135},\n",
       " {'year': '2023',\n",
       "  'month': '08',\n",
       "  'duration_min': 61.06666666666667,\n",
       "  'calories': 349.0,\n",
       "  'calories_per_min': 5.715065502183406,\n",
       "  'calories_per_hour': 342.90393013100436},\n",
       " {'year': '2023',\n",
       "  'month': '09',\n",
       "  'duration_min': 103.61666666666666,\n",
       "  'calories': 885.0,\n",
       "  'calories_per_min': 8.541096992118385,\n",
       "  'calories_per_hour': 512.4658195271031},\n",
       " {'year': '2023',\n",
       "  'month': '09',\n",
       "  'duration_min': 64.43333333333334,\n",
       "  'calories': 434.0,\n",
       "  'calories_per_min': 6.735644076564925,\n",
       "  'calories_per_hour': 404.1386445938955},\n",
       " {'year': '2023',\n",
       "  'month': '09',\n",
       "  'duration_min': 54.666666666666664,\n",
       "  'calories': 469.0,\n",
       "  'calories_per_min': 8.579268292682928,\n",
       "  'calories_per_hour': 514.7560975609756},\n",
       " {'year': '2023',\n",
       "  'month': '09',\n",
       "  'duration_min': 7.616666666666667,\n",
       "  'calories': 14.0,\n",
       "  'calories_per_min': 1.8380743982494527,\n",
       "  'calories_per_hour': 110.28446389496716},\n",
       " {'year': '2023',\n",
       "  'month': '09',\n",
       "  'duration_min': 76.38333333333334,\n",
       "  'calories': 567.0,\n",
       "  'calories_per_min': 7.4230853152956575,\n",
       "  'calories_per_hour': 445.3851189177395},\n",
       " {'year': '2023',\n",
       "  'month': '09',\n",
       "  'duration_min': 67.13333333333334,\n",
       "  'calories': 685.0,\n",
       "  'calories_per_min': 10.203574975173783,\n",
       "  'calories_per_hour': 612.214498510427},\n",
       " {'year': '2023',\n",
       "  'month': '09',\n",
       "  'duration_min': 11.55,\n",
       "  'calories': 128.0,\n",
       "  'calories_per_min': 11.082251082251082,\n",
       "  'calories_per_hour': 664.9350649350649},\n",
       " {'year': '2023',\n",
       "  'month': '09',\n",
       "  'duration_min': 12.1,\n",
       "  'calories': 144.0,\n",
       "  'calories_per_min': 11.900826446280993,\n",
       "  'calories_per_hour': 714.0495867768595},\n",
       " {'year': '2023',\n",
       "  'month': '09',\n",
       "  'duration_min': 13.2,\n",
       "  'calories': 123.0,\n",
       "  'calories_per_min': 9.318181818181818,\n",
       "  'calories_per_hour': 559.0909090909091},\n",
       " {'year': '2023',\n",
       "  'month': '09',\n",
       "  'duration_min': 76.25,\n",
       "  'calories': 540.0,\n",
       "  'calories_per_min': 7.081967213114754,\n",
       "  'calories_per_hour': 424.91803278688525},\n",
       " {'year': '2023',\n",
       "  'month': '09',\n",
       "  'duration_min': 60.95,\n",
       "  'calories': 589.0,\n",
       "  'calories_per_min': 9.663658736669401,\n",
       "  'calories_per_hour': 579.8195242001641},\n",
       " {'year': '2023',\n",
       "  'month': '09',\n",
       "  'duration_min': 76.58333333333333,\n",
       "  'calories': 608.0,\n",
       "  'calories_per_min': 7.939064200217628,\n",
       "  'calories_per_hour': 476.3438520130577},\n",
       " {'year': '2023',\n",
       "  'month': '09',\n",
       "  'duration_min': 6.183333333333334,\n",
       "  'calories': 9.0,\n",
       "  'calories_per_min': 1.4555256064690025,\n",
       "  'calories_per_hour': 87.33153638814015},\n",
       " {'year': '2023',\n",
       "  'month': '09',\n",
       "  'duration_min': 27.0,\n",
       "  'calories': 369.0,\n",
       "  'calories_per_min': 13.666666666666666,\n",
       "  'calories_per_hour': 820.0},\n",
       " {'year': '2023',\n",
       "  'month': '09',\n",
       "  'duration_min': 57.516666666666666,\n",
       "  'calories': 494.0,\n",
       "  'calories_per_min': 8.58881483627934,\n",
       "  'calories_per_hour': 515.3288901767604},\n",
       " {'year': '2023',\n",
       "  'month': '09',\n",
       "  'duration_min': 48.7,\n",
       "  'calories': 406.0,\n",
       "  'calories_per_min': 8.336755646817249,\n",
       "  'calories_per_hour': 500.2053388090349},\n",
       " {'year': '2023',\n",
       "  'month': '09',\n",
       "  'duration_min': 71.25,\n",
       "  'calories': 524.0,\n",
       "  'calories_per_min': 7.3543859649122805,\n",
       "  'calories_per_hour': 441.2631578947368},\n",
       " {'year': '2023',\n",
       "  'month': '09',\n",
       "  'duration_min': 61.25,\n",
       "  'calories': 409.0,\n",
       "  'calories_per_min': 6.677551020408163,\n",
       "  'calories_per_hour': 400.6530612244898},\n",
       " {'year': '2023',\n",
       "  'month': '09',\n",
       "  'duration_min': 62.85,\n",
       "  'calories': 560.0,\n",
       "  'calories_per_min': 8.910103420843278,\n",
       "  'calories_per_hour': 534.6062052505966},\n",
       " {'year': '2023',\n",
       "  'month': '09',\n",
       "  'duration_min': 60.2,\n",
       "  'calories': 490.0,\n",
       "  'calories_per_min': 8.13953488372093,\n",
       "  'calories_per_hour': 488.37209302325584},\n",
       " {'year': '2023',\n",
       "  'month': '10',\n",
       "  'duration_min': 102.13333333333334,\n",
       "  'calories': 686.0,\n",
       "  'calories_per_min': 6.716710182767623,\n",
       "  'calories_per_hour': 403.0026109660574},\n",
       " {'year': '2023',\n",
       "  'month': '10',\n",
       "  'duration_min': 58.266666666666666,\n",
       "  'calories': 202.0,\n",
       "  'calories_per_min': 3.4668192219679637,\n",
       "  'calories_per_hour': 208.0091533180778},\n",
       " {'year': '2023',\n",
       "  'month': '10',\n",
       "  'duration_min': 60.21666666666667,\n",
       "  'calories': 414.0,\n",
       "  'calories_per_min': 6.875172986437863,\n",
       "  'calories_per_hour': 412.5103791862718},\n",
       " {'year': '2023',\n",
       "  'month': '10',\n",
       "  'duration_min': 63.68333333333333,\n",
       "  'calories': 556.0,\n",
       "  'calories_per_min': 8.73069876995551,\n",
       "  'calories_per_hour': 523.8419261973306},\n",
       " {'year': '2023',\n",
       "  'month': '10',\n",
       "  'duration_min': 52.05,\n",
       "  'calories': 217.0,\n",
       "  'calories_per_min': 4.169068203650337,\n",
       "  'calories_per_hour': 250.1440922190202},\n",
       " {'year': '2023',\n",
       "  'month': '10',\n",
       "  'duration_min': 9.483333333333333,\n",
       "  'calories': 71.0,\n",
       "  'calories_per_min': 7.486818980667839,\n",
       "  'calories_per_hour': 449.20913884007035},\n",
       " {'year': '2023',\n",
       "  'month': '10',\n",
       "  'duration_min': 70.66666666666667,\n",
       "  'calories': 428.0,\n",
       "  'calories_per_min': 6.056603773584905,\n",
       "  'calories_per_hour': 363.3962264150943},\n",
       " {'year': '2023',\n",
       "  'month': '10',\n",
       "  'duration_min': 35.6,\n",
       "  'calories': 349.0,\n",
       "  'calories_per_min': 9.803370786516853,\n",
       "  'calories_per_hour': 588.2022471910111},\n",
       " {'year': '2023',\n",
       "  'month': '10',\n",
       "  'duration_min': 58.85,\n",
       "  'calories': 633.0,\n",
       "  'calories_per_min': 10.756159728122345,\n",
       "  'calories_per_hour': 645.3695836873407},\n",
       " {'year': '2023',\n",
       "  'month': '10',\n",
       "  'duration_min': 93.38333333333334,\n",
       "  'calories': 472.0,\n",
       "  'calories_per_min': 5.054435124040692,\n",
       "  'calories_per_hour': 303.2661074424415},\n",
       " {'year': '2023',\n",
       "  'month': '10',\n",
       "  'duration_min': 56.46666666666667,\n",
       "  'calories': 501.0,\n",
       "  'calories_per_min': 8.872491145218417,\n",
       "  'calories_per_hour': 532.349468713105},\n",
       " {'year': '2023',\n",
       "  'month': '10',\n",
       "  'duration_min': 70.63333333333334,\n",
       "  'calories': 634.0,\n",
       "  'calories_per_min': 8.975932043416705,\n",
       "  'calories_per_hour': 538.5559226050023},\n",
       " {'year': '2023',\n",
       "  'month': '10',\n",
       "  'duration_min': 71.1,\n",
       "  'calories': 538.0,\n",
       "  'calories_per_min': 7.566807313642757,\n",
       "  'calories_per_hour': 454.0084388185654},\n",
       " {'year': '2023',\n",
       "  'month': '10',\n",
       "  'duration_min': 51.03333333333333,\n",
       "  'calories': 467.0,\n",
       "  'calories_per_min': 9.150881776616592,\n",
       "  'calories_per_hour': 549.0529065969955},\n",
       " {'year': '2023',\n",
       "  'month': '10',\n",
       "  'duration_min': 80.38333333333334,\n",
       "  'calories': 570.0,\n",
       "  'calories_per_min': 7.091022185361807,\n",
       "  'calories_per_hour': 425.46133112170844},\n",
       " {'year': '2023',\n",
       "  'month': '10',\n",
       "  'duration_min': 60.45,\n",
       "  'calories': 584.0,\n",
       "  'calories_per_min': 9.66087675765095,\n",
       "  'calories_per_hour': 579.652605459057},\n",
       " {'year': '2023',\n",
       "  'month': '10',\n",
       "  'duration_min': 71.48333333333333,\n",
       "  'calories': 547.0,\n",
       "  'calories_per_min': 7.652133364420611,\n",
       "  'calories_per_hour': 459.1280018652367},\n",
       " {'year': '2023',\n",
       "  'month': '10',\n",
       "  'duration_min': 1.1166666666666667,\n",
       "  'calories': 4.0,\n",
       "  'calories_per_min': 3.582089552238806,\n",
       "  'calories_per_hour': 214.92537313432837},\n",
       " {'year': '2023',\n",
       "  'month': '10',\n",
       "  'duration_min': 68.43333333333334,\n",
       "  'calories': 678.0,\n",
       "  'calories_per_min': 9.907452508524111,\n",
       "  'calories_per_hour': 594.4471505114467},\n",
       " {'year': '2023',\n",
       "  'month': '11',\n",
       "  'duration_min': 67.81666666666666,\n",
       "  'calories': 591.0,\n",
       "  'calories_per_min': 8.714671909560089,\n",
       "  'calories_per_hour': 522.8803145736053},\n",
       " {'year': '2023',\n",
       "  'month': '11',\n",
       "  'duration_min': 64.35,\n",
       "  'calories': 401.0,\n",
       "  'calories_per_min': 6.231546231546232,\n",
       "  'calories_per_hour': 373.8927738927739},\n",
       " {'year': '2023',\n",
       "  'month': '11',\n",
       "  'duration_min': 62.7,\n",
       "  'calories': 476.0,\n",
       "  'calories_per_min': 7.59170653907496,\n",
       "  'calories_per_hour': 455.5023923444976},\n",
       " {'year': '2023',\n",
       "  'month': '11',\n",
       "  'duration_min': 33.75,\n",
       "  'calories': 418.0,\n",
       "  'calories_per_min': 12.385185185185184,\n",
       "  'calories_per_hour': 743.1111111111111},\n",
       " {'year': '2023',\n",
       "  'month': '11',\n",
       "  'duration_min': 71.05,\n",
       "  'calories': 531.0,\n",
       "  'calories_per_min': 7.4736101337086565,\n",
       "  'calories_per_hour': 448.41660802251937},\n",
       " {'year': '2023',\n",
       "  'month': '11',\n",
       "  'duration_min': 14.85,\n",
       "  'calories': 172.0,\n",
       "  'calories_per_min': 11.582491582491583,\n",
       "  'calories_per_hour': 694.949494949495},\n",
       " {'year': '2023',\n",
       "  'month': '11',\n",
       "  'duration_min': 98.6,\n",
       "  'calories': 635.0,\n",
       "  'calories_per_min': 6.440162271805274,\n",
       "  'calories_per_hour': 386.40973630831644},\n",
       " {'year': '2023',\n",
       "  'month': '11',\n",
       "  'duration_min': 22.3,\n",
       "  'calories': 45.0,\n",
       "  'calories_per_min': 2.0179372197309418,\n",
       "  'calories_per_hour': 121.0762331838565},\n",
       " {'year': '2023',\n",
       "  'month': '11',\n",
       "  'duration_min': 26.05,\n",
       "  'calories': 338.0,\n",
       "  'calories_per_min': 12.975047984644913,\n",
       "  'calories_per_hour': 778.5028790786948},\n",
       " {'year': '2023',\n",
       "  'month': '11',\n",
       "  'duration_min': 32.15,\n",
       "  'calories': 188.0,\n",
       "  'calories_per_min': 5.847589424572318,\n",
       "  'calories_per_hour': 350.85536547433907},\n",
       " {'year': '2023',\n",
       "  'month': '11',\n",
       "  'duration_min': 22.016666666666666,\n",
       "  'calories': 247.0,\n",
       "  'calories_per_min': 11.21877365632097,\n",
       "  'calories_per_hour': 673.1264193792582},\n",
       " {'year': '2023',\n",
       "  'month': '11',\n",
       "  'duration_min': 39.03333333333333,\n",
       "  'calories': 261.0,\n",
       "  'calories_per_min': 6.686592655849702,\n",
       "  'calories_per_hour': 401.1955593509821},\n",
       " {'year': '2023',\n",
       "  'month': '11',\n",
       "  'duration_min': 60.733333333333334,\n",
       "  'calories': 229.0,\n",
       "  'calories_per_min': 3.770581778265642,\n",
       "  'calories_per_hour': 226.23490669593852},\n",
       " {'year': '2023',\n",
       "  'month': '11',\n",
       "  'duration_min': 80.88333333333334,\n",
       "  'calories': 546.0,\n",
       "  'calories_per_min': 6.7504636307438695,\n",
       "  'calories_per_hour': 405.0278178446322},\n",
       " {'year': '2023',\n",
       "  'month': '11',\n",
       "  'duration_min': 93.8,\n",
       "  'calories': 738.0,\n",
       "  'calories_per_min': 7.867803837953092,\n",
       "  'calories_per_hour': 472.06823027718553},\n",
       " {'year': '2023',\n",
       "  'month': '11',\n",
       "  'duration_min': 70.91666666666667,\n",
       "  'calories': 674.0,\n",
       "  'calories_per_min': 9.504112808460635,\n",
       "  'calories_per_hour': 570.2467685076381},\n",
       " {'year': '2023',\n",
       "  'month': '11',\n",
       "  'duration_min': 63.25,\n",
       "  'calories': 519.0,\n",
       "  'calories_per_min': 8.205533596837945,\n",
       "  'calories_per_hour': 492.33201581027674},\n",
       " {'year': '2023',\n",
       "  'month': '11',\n",
       "  'duration_min': 33.833333333333336,\n",
       "  'calories': 237.0,\n",
       "  'calories_per_min': 7.0049261083743835,\n",
       "  'calories_per_hour': 420.29556650246303},\n",
       " {'year': '2023',\n",
       "  'month': '11',\n",
       "  'duration_min': 95.41666666666667,\n",
       "  'calories': 705.0,\n",
       "  'calories_per_min': 7.388646288209607,\n",
       "  'calories_per_hour': 443.31877729257644},\n",
       " {'year': '2023',\n",
       "  'month': '11',\n",
       "  'duration_min': 20.266666666666666,\n",
       "  'calories': 265.0,\n",
       "  'calories_per_min': 13.075657894736842,\n",
       "  'calories_per_hour': 784.5394736842105},\n",
       " {'year': '2023',\n",
       "  'month': '11',\n",
       "  'duration_min': 6.116666666666666,\n",
       "  'calories': 52.0,\n",
       "  'calories_per_min': 8.501362397820165,\n",
       "  'calories_per_hour': 510.0817438692099},\n",
       " {'year': '2023',\n",
       "  'month': '11',\n",
       "  'duration_min': 71.16666666666667,\n",
       "  'calories': 224.0,\n",
       "  'calories_per_min': 3.1475409836065573,\n",
       "  'calories_per_hour': 188.85245901639342},\n",
       " {'year': '2023',\n",
       "  'month': '11',\n",
       "  'duration_min': 67.55,\n",
       "  'calories': 705.0,\n",
       "  'calories_per_min': 10.436713545521837,\n",
       "  'calories_per_hour': 626.2028127313102},\n",
       " {'year': '2023',\n",
       "  'month': '11',\n",
       "  'duration_min': 62.983333333333334,\n",
       "  'calories': 175.0,\n",
       "  'calories_per_min': 2.7785128340830907,\n",
       "  'calories_per_hour': 166.71077004498545},\n",
       " {'year': '2023',\n",
       "  'month': '11',\n",
       "  'duration_min': 54.21666666666667,\n",
       "  'calories': 578.0,\n",
       "  'calories_per_min': 10.660928373808792,\n",
       "  'calories_per_hour': 639.6557024285275},\n",
       " {'year': '2023',\n",
       "  'month': '11',\n",
       "  'duration_min': 53.36666666666667,\n",
       "  'calories': 514.0,\n",
       "  'calories_per_min': 9.631480324797002,\n",
       "  'calories_per_hour': 577.8888194878201},\n",
       " {'year': '2023',\n",
       "  'month': '11',\n",
       "  'duration_min': 35.95,\n",
       "  'calories': 284.0,\n",
       "  'calories_per_min': 7.899860917941585,\n",
       "  'calories_per_hour': 473.99165507649514},\n",
       " {'year': '2023',\n",
       "  'month': '11',\n",
       "  'duration_min': 67.91666666666667,\n",
       "  'calories': 624.0,\n",
       "  'calories_per_min': 9.187730061349692,\n",
       "  'calories_per_hour': 551.2638036809815},\n",
       " {'year': '2023',\n",
       "  'month': '11',\n",
       "  'duration_min': 41.833333333333336,\n",
       "  'calories': 338.0,\n",
       "  'calories_per_min': 8.079681274900398,\n",
       "  'calories_per_hour': 484.7808764940239},\n",
       " {'year': '2023',\n",
       "  'month': '11',\n",
       "  'duration_min': 57.86666666666667,\n",
       "  'calories': 445.0,\n",
       "  'calories_per_min': 7.690092165898617,\n",
       "  'calories_per_hour': 461.40552995391704},\n",
       " {'year': '2023',\n",
       "  'month': '11',\n",
       "  'duration_min': 55.666666666666664,\n",
       "  'calories': 436.0,\n",
       "  'calories_per_min': 7.832335329341317,\n",
       "  'calories_per_hour': 469.94011976047904},\n",
       " {'year': '2023',\n",
       "  'month': '12',\n",
       "  'duration_min': 50.85,\n",
       "  'calories': 463.0,\n",
       "  'calories_per_min': 9.105211406096362,\n",
       "  'calories_per_hour': 546.3126843657817},\n",
       " {'year': '2023',\n",
       "  'month': '12',\n",
       "  'duration_min': 69.28333333333333,\n",
       "  'calories': 537.0,\n",
       "  'calories_per_min': 7.750781813808035,\n",
       "  'calories_per_hour': 465.0469088284821},\n",
       " {'year': '2023',\n",
       "  'month': '12',\n",
       "  'duration_min': 70.76666666666667,\n",
       "  'calories': 803.0,\n",
       "  'calories_per_min': 11.347150259067357,\n",
       "  'calories_per_hour': 680.8290155440415},\n",
       " {'year': '2023',\n",
       "  'month': '12',\n",
       "  'duration_min': 35.11666666666667,\n",
       "  'calories': 154.0,\n",
       "  'calories_per_min': 4.385382059800665,\n",
       "  'calories_per_hour': 263.1229235880399},\n",
       " {'year': '2023',\n",
       "  'month': '12',\n",
       "  'duration_min': 51.35,\n",
       "  'calories': 116.0,\n",
       "  'calories_per_min': 2.2590068159688412,\n",
       "  'calories_per_hour': 135.54040895813048},\n",
       " {'year': '2023',\n",
       "  'month': '12',\n",
       "  'duration_min': 109.01666666666667,\n",
       "  'calories': 1172.0,\n",
       "  'calories_per_min': 10.750649747744994,\n",
       "  'calories_per_hour': 645.0389848646996},\n",
       " {'year': '2023',\n",
       "  'month': '12',\n",
       "  'duration_min': 86.08333333333333,\n",
       "  'calories': 789.0,\n",
       "  'calories_per_min': 9.165537270087125,\n",
       "  'calories_per_hour': 549.9322362052275},\n",
       " {'year': '2023',\n",
       "  'month': '12',\n",
       "  'duration_min': 49.56666666666667,\n",
       "  'calories': 524.0,\n",
       "  'calories_per_min': 10.571620712844654,\n",
       "  'calories_per_hour': 634.2972427706792},\n",
       " {'year': '2023',\n",
       "  'month': '12',\n",
       "  'duration_min': 66.66666666666667,\n",
       "  'calories': 660.0,\n",
       "  'calories_per_min': 9.899999999999999,\n",
       "  'calories_per_hour': 593.9999999999999},\n",
       " {'year': '2023',\n",
       "  'month': '12',\n",
       "  'duration_min': 45.1,\n",
       "  'calories': 461.0,\n",
       "  'calories_per_min': 10.221729490022172,\n",
       "  'calories_per_hour': 613.3037694013303},\n",
       " {'year': '2023',\n",
       "  'month': '12',\n",
       "  'duration_min': 80.61666666666666,\n",
       "  'calories': 789.0,\n",
       "  'calories_per_min': 9.787058093859832,\n",
       "  'calories_per_hour': 587.2234856315899},\n",
       " {'year': '2023',\n",
       "  'month': '12',\n",
       "  'duration_min': 92.71666666666667,\n",
       "  'calories': 717.0,\n",
       "  'calories_per_min': 7.7332374618011865,\n",
       "  'calories_per_hour': 463.9942477080712},\n",
       " {'year': '2023',\n",
       "  'month': '12',\n",
       "  'duration_min': 40.983333333333334,\n",
       "  'calories': 109.0,\n",
       "  'calories_per_min': 2.6596177307848716,\n",
       "  'calories_per_hour': 159.5770638470923},\n",
       " {'year': '2023',\n",
       "  'month': '12',\n",
       "  'duration_min': 79.05,\n",
       "  'calories': 963.0,\n",
       "  'calories_per_min': 12.182163187855789,\n",
       "  'calories_per_hour': 730.9297912713473},\n",
       " {'year': '2023',\n",
       "  'month': '12',\n",
       "  'duration_min': 66.43333333333334,\n",
       "  'calories': 521.0,\n",
       "  'calories_per_min': 7.842448569994982,\n",
       "  'calories_per_hour': 470.5469141996989},\n",
       " {'year': '2023',\n",
       "  'month': '12',\n",
       "  'duration_min': 95.7,\n",
       "  'calories': 913.0,\n",
       "  'calories_per_min': 9.540229885057471,\n",
       "  'calories_per_hour': 572.4137931034483},\n",
       " {'year': '2023',\n",
       "  'month': '12',\n",
       "  'duration_min': 83.0,\n",
       "  'calories': 733.0,\n",
       "  'calories_per_min': 8.831325301204819,\n",
       "  'calories_per_hour': 529.8795180722891},\n",
       " {'year': '2023',\n",
       "  'month': '12',\n",
       "  'duration_min': 34.916666666666664,\n",
       "  'calories': 268.0,\n",
       "  'calories_per_min': 7.675417661097852,\n",
       "  'calories_per_hour': 460.52505966587114},\n",
       " {'year': '2023',\n",
       "  'month': '12',\n",
       "  'duration_min': 30.733333333333334,\n",
       "  'calories': 149.0,\n",
       "  'calories_per_min': 4.848156182212581,\n",
       "  'calories_per_hour': 290.8893709327549},\n",
       " {'year': '2023',\n",
       "  'month': '12',\n",
       "  'duration_min': 26.7,\n",
       "  'calories': 99.0,\n",
       "  'calories_per_min': 3.707865168539326,\n",
       "  'calories_per_hour': 222.47191011235955},\n",
       " {'year': '2023',\n",
       "  'month': '12',\n",
       "  'duration_min': 34.833333333333336,\n",
       "  'calories': 185.0,\n",
       "  'calories_per_min': 5.311004784688995,\n",
       "  'calories_per_hour': 318.66028708133973},\n",
       " {'year': '2024',\n",
       "  'month': '01',\n",
       "  'duration_min': 77.23333333333333,\n",
       "  'calories': 352.0,\n",
       "  'calories_per_min': 4.557617608977125,\n",
       "  'calories_per_hour': 273.4570565386275},\n",
       " {'year': '2024',\n",
       "  'month': '01',\n",
       "  'duration_min': 40.1,\n",
       "  'calories': 416.0,\n",
       "  'calories_per_min': 10.374064837905237,\n",
       "  'calories_per_hour': 622.4438902743143},\n",
       " {'year': '2024',\n",
       "  'month': '01',\n",
       "  'duration_min': 68.9,\n",
       "  'calories': 543.0,\n",
       "  'calories_per_min': 7.880986937590711,\n",
       "  'calories_per_hour': 472.8592162554427},\n",
       " {'year': '2024',\n",
       "  'month': '01',\n",
       "  'duration_min': 45.36666666666667,\n",
       "  'calories': 181.0,\n",
       "  'calories_per_min': 3.9897134459955916,\n",
       "  'calories_per_hour': 239.3828067597355},\n",
       " {'year': '2024',\n",
       "  'month': '01',\n",
       "  'duration_min': 71.75,\n",
       "  'calories': 498.0,\n",
       "  'calories_per_min': 6.940766550522648,\n",
       "  'calories_per_hour': 416.44599303135885},\n",
       " {'year': '2024',\n",
       "  'month': '01',\n",
       "  'duration_min': 65.18333333333334,\n",
       "  'calories': 576.0,\n",
       "  'calories_per_min': 8.83661467655331,\n",
       "  'calories_per_hour': 530.1968805931986},\n",
       " {'year': '2024',\n",
       "  'month': '01',\n",
       "  'duration_min': 85.68333333333334,\n",
       "  'calories': 355.0,\n",
       "  'calories_per_min': 4.143162808792064,\n",
       "  'calories_per_hour': 248.58976852752383},\n",
       " {'year': '2024',\n",
       "  'month': '01',\n",
       "  'duration_min': 86.4,\n",
       "  'calories': 775.0,\n",
       "  'calories_per_min': 8.969907407407407,\n",
       "  'calories_per_hour': 538.1944444444443},\n",
       " {'year': '2024',\n",
       "  'month': '01',\n",
       "  'duration_min': 71.95,\n",
       "  'calories': 584.0,\n",
       "  'calories_per_min': 8.116747741487144,\n",
       "  'calories_per_hour': 487.0048644892286},\n",
       " {'year': '2024',\n",
       "  'month': '01',\n",
       "  'duration_min': 105.43333333333334,\n",
       "  'calories': 533.0,\n",
       "  'calories_per_min': 5.055327220992728,\n",
       "  'calories_per_hour': 303.3196332595637},\n",
       " {'year': '2024',\n",
       "  'month': '01',\n",
       "  'duration_min': 39.733333333333334,\n",
       "  'calories': 319.0,\n",
       "  'calories_per_min': 8.028523489932885,\n",
       "  'calories_per_hour': 481.71140939597313},\n",
       " {'year': '2024',\n",
       "  'month': '01',\n",
       "  'duration_min': 71.93333333333334,\n",
       "  'calories': 681.0,\n",
       "  'calories_per_min': 9.467099165894346,\n",
       "  'calories_per_hour': 568.0259499536608},\n",
       " {'year': '2024',\n",
       "  'month': '01',\n",
       "  'duration_min': 76.56666666666666,\n",
       "  'calories': 728.0,\n",
       "  'calories_per_min': 9.508053983456684,\n",
       "  'calories_per_hour': 570.483239007401},\n",
       " {'year': '2024',\n",
       "  'month': '01',\n",
       "  'duration_min': 55.166666666666664,\n",
       "  'calories': 121.0,\n",
       "  'calories_per_min': 2.193353474320242,\n",
       "  'calories_per_hour': 131.60120845921452},\n",
       " {'year': '2024',\n",
       "  'month': '01',\n",
       "  'duration_min': 79.35,\n",
       "  'calories': 651.0,\n",
       "  'calories_per_min': 8.204158790170133,\n",
       "  'calories_per_hour': 492.249527410208},\n",
       " {'year': '2024',\n",
       "  'month': '01',\n",
       "  'duration_min': 50.46666666666667,\n",
       "  'calories': 115.0,\n",
       "  'calories_per_min': 2.2787318361955085,\n",
       "  'calories_per_hour': 136.7239101717305},\n",
       " {'year': '2024',\n",
       "  'month': '01',\n",
       "  'duration_min': 93.48333333333333,\n",
       "  'calories': 889.0,\n",
       "  'calories_per_min': 9.509716527010163,\n",
       "  'calories_per_hour': 570.5829916206097},\n",
       " {'year': '2024',\n",
       "  'month': '01',\n",
       "  'duration_min': 77.91666666666667,\n",
       "  'calories': 274.0,\n",
       "  'calories_per_min': 3.5165775401069514,\n",
       "  'calories_per_hour': 210.9946524064171},\n",
       " {'year': '2024',\n",
       "  'month': '01',\n",
       "  'duration_min': 122.86666666666666,\n",
       "  'calories': 1005.0,\n",
       "  'calories_per_min': 8.179598480737928,\n",
       "  'calories_per_hour': 490.7759088442757},\n",
       " {'year': '2024',\n",
       "  'month': '01',\n",
       "  'duration_min': 67.38333333333334,\n",
       "  'calories': 429.0,\n",
       "  'calories_per_min': 6.366559485530546,\n",
       "  'calories_per_hour': 381.99356913183277},\n",
       " {'year': '2024',\n",
       "  'month': '01',\n",
       "  'duration_min': 49.71666666666667,\n",
       "  'calories': 252.0,\n",
       "  'calories_per_min': 5.068722762319812,\n",
       "  'calories_per_hour': 304.1233657391887},\n",
       " {'year': '2024',\n",
       "  'month': '01',\n",
       "  'duration_min': 57.21666666666667,\n",
       "  'calories': 522.0,\n",
       "  'calories_per_min': 9.12321584619866,\n",
       "  'calories_per_hour': 547.3929507719196},\n",
       " {'year': '2024',\n",
       "  'month': '01',\n",
       "  'duration_min': 106.31666666666666,\n",
       "  'calories': 869.0,\n",
       "  'calories_per_min': 8.173694936510426,\n",
       "  'calories_per_hour': 490.42169619062554},\n",
       " {'year': '2024',\n",
       "  'month': '01',\n",
       "  'duration_min': 38.65,\n",
       "  'calories': 350.0,\n",
       "  'calories_per_min': 9.055627425614489,\n",
       "  'calories_per_hour': 543.3376455368693},\n",
       " {'year': '2024',\n",
       "  'month': '01',\n",
       "  'duration_min': 72.51666666666667,\n",
       "  'calories': 641.0,\n",
       "  'calories_per_min': 8.839347276488164,\n",
       "  'calories_per_hour': 530.3608365892899},\n",
       " {'year': '2024',\n",
       "  'month': '01',\n",
       "  'duration_min': 78.95,\n",
       "  'calories': 538.0,\n",
       "  'calories_per_min': 6.81443951868271,\n",
       "  'calories_per_hour': 408.86637112096264},\n",
       " {'year': '2024',\n",
       "  'month': '02',\n",
       "  'duration_min': 38.06666666666667,\n",
       "  'calories': 213.0,\n",
       "  'calories_per_min': 5.595446584938704,\n",
       "  'calories_per_hour': 335.72679509632223},\n",
       " {'year': '2024',\n",
       "  'month': '02',\n",
       "  'duration_min': 70.76666666666667,\n",
       "  'calories': 457.0,\n",
       "  'calories_per_min': 6.457842675459256,\n",
       "  'calories_per_hour': 387.47056052755534},\n",
       " {'year': '2024',\n",
       "  'month': '02',\n",
       "  'duration_min': 54.55,\n",
       "  'calories': 357.0,\n",
       "  'calories_per_min': 6.544454628780935,\n",
       "  'calories_per_hour': 392.66727772685607},\n",
       " {'year': '2024',\n",
       "  'month': '02',\n",
       "  'duration_min': 67.2,\n",
       "  'calories': 409.0,\n",
       "  'calories_per_min': 6.086309523809524,\n",
       "  'calories_per_hour': 365.17857142857144},\n",
       " {'year': '2024',\n",
       "  'month': '02',\n",
       "  'duration_min': 66.55,\n",
       "  'calories': 620.0,\n",
       "  'calories_per_min': 9.316303531179564,\n",
       "  'calories_per_hour': 558.9782118707739},\n",
       " {'year': '2024',\n",
       "  'month': '02',\n",
       "  'duration_min': 67.33333333333333,\n",
       "  'calories': 590.0,\n",
       "  'calories_per_min': 8.762376237623762,\n",
       "  'calories_per_hour': 525.7425742574258},\n",
       " {'year': '2024',\n",
       "  'month': '02',\n",
       "  'duration_min': 71.81666666666666,\n",
       "  'calories': 1042.0,\n",
       "  'calories_per_min': 14.50916686006034,\n",
       "  'calories_per_hour': 870.5500116036204},\n",
       " {'year': '2024',\n",
       "  'month': '02',\n",
       "  'duration_min': 74.93333333333334,\n",
       "  'calories': 346.0,\n",
       "  'calories_per_min': 4.617437722419929,\n",
       "  'calories_per_hour': 277.0462633451957},\n",
       " {'year': '2024',\n",
       "  'month': '02',\n",
       "  'duration_min': 78.06666666666666,\n",
       "  'calories': 796.0,\n",
       "  'calories_per_min': 10.196413321947054,\n",
       "  'calories_per_hour': 611.7847993168232},\n",
       " {'year': '2024',\n",
       "  'month': '02',\n",
       "  'duration_min': 57.35,\n",
       "  'calories': 166.0,\n",
       "  'calories_per_min': 2.894507410636443,\n",
       "  'calories_per_hour': 173.67044463818658},\n",
       " {'year': '2024',\n",
       "  'month': '02',\n",
       "  'duration_min': 2.716666666666667,\n",
       "  'calories': 11.0,\n",
       "  'calories_per_min': 4.049079754601227,\n",
       "  'calories_per_hour': 242.94478527607362},\n",
       " {'year': '2024',\n",
       "  'month': '02',\n",
       "  'duration_min': 70.01666666666667,\n",
       "  'calories': 597.0,\n",
       "  'calories_per_min': 8.52654129969055,\n",
       "  'calories_per_hour': 511.592477981433},\n",
       " {'year': '2024',\n",
       "  'month': '02',\n",
       "  'duration_min': 43.38333333333333,\n",
       "  'calories': 403.0,\n",
       "  'calories_per_min': 9.289281598155974,\n",
       "  'calories_per_hour': 557.3568958893584},\n",
       " {'year': '2024',\n",
       "  'month': '02',\n",
       "  'duration_min': 72.78333333333333,\n",
       "  'calories': 367.0,\n",
       "  'calories_per_min': 5.042363178383329,\n",
       "  'calories_per_hour': 302.5417907029998},\n",
       " {'year': '2024',\n",
       "  'month': '02',\n",
       "  'duration_min': 58.4,\n",
       "  'calories': 415.0,\n",
       "  'calories_per_min': 7.106164383561644,\n",
       "  'calories_per_hour': 426.36986301369865},\n",
       " {'year': '2024',\n",
       "  'month': '02',\n",
       "  'duration_min': 91.6,\n",
       "  'calories': 722.0,\n",
       "  'calories_per_min': 7.882096069868996,\n",
       "  'calories_per_hour': 472.92576419213975},\n",
       " {'year': '2024',\n",
       "  'month': '02',\n",
       "  'duration_min': 66.66666666666667,\n",
       "  'calories': 402.0,\n",
       "  'calories_per_min': 6.029999999999999,\n",
       "  'calories_per_hour': 361.79999999999995},\n",
       " {'year': '2024',\n",
       "  'month': '02',\n",
       "  'duration_min': 48.71666666666667,\n",
       "  'calories': 93.0,\n",
       "  'calories_per_min': 1.9089976052001367,\n",
       "  'calories_per_hour': 114.5398563120082},\n",
       " {'year': '2024',\n",
       "  'month': '02',\n",
       "  'duration_min': 56.05,\n",
       "  'calories': 471.0,\n",
       "  'calories_per_min': 8.40321141837645,\n",
       "  'calories_per_hour': 504.192685102587},\n",
       " {'year': '2024',\n",
       "  'month': '02',\n",
       "  'duration_min': 21.8,\n",
       "  'calories': 30.0,\n",
       "  'calories_per_min': 1.3761467889908257,\n",
       "  'calories_per_hour': 82.56880733944953},\n",
       " {'year': '2024',\n",
       "  'month': '02',\n",
       "  'duration_min': 66.7,\n",
       "  'calories': 506.0,\n",
       "  'calories_per_min': 7.586206896551724,\n",
       "  'calories_per_hour': 455.17241379310343},\n",
       " {'year': '2024',\n",
       "  'month': '03',\n",
       "  'duration_min': 55.31666666666667,\n",
       "  'calories': 227.0,\n",
       "  'calories_per_min': 4.103645676408557,\n",
       "  'calories_per_hour': 246.21874058451343},\n",
       " {'year': '2024',\n",
       "  'month': '03',\n",
       "  'duration_min': 37.61666666666667,\n",
       "  'calories': 385.0,\n",
       "  'calories_per_min': 10.23482498892335,\n",
       "  'calories_per_hour': 614.089499335401},\n",
       " {'year': '2024',\n",
       "  'month': '03',\n",
       "  'duration_min': 45.53333333333333,\n",
       "  'calories': 504.0,\n",
       "  'calories_per_min': 11.068814055636896,\n",
       "  'calories_per_hour': 664.1288433382138},\n",
       " {'year': '2024',\n",
       "  'month': '03',\n",
       "  'duration_min': 31.416666666666668,\n",
       "  'calories': 252.0,\n",
       "  'calories_per_min': 8.021220159151193,\n",
       "  'calories_per_hour': 481.27320954907157},\n",
       " {'year': '2024',\n",
       "  'month': '03',\n",
       "  'duration_min': 58.5,\n",
       "  'calories': 546.0,\n",
       "  'calories_per_min': 9.333333333333334,\n",
       "  'calories_per_hour': 560.0},\n",
       " {'year': '2024',\n",
       "  'month': '03',\n",
       "  'duration_min': 2.55,\n",
       "  'calories': 6.0,\n",
       "  'calories_per_min': 2.3529411764705883,\n",
       "  'calories_per_hour': 141.1764705882353},\n",
       " {'year': '2024',\n",
       "  'month': '03',\n",
       "  'duration_min': 70.85,\n",
       "  'calories': 522.0,\n",
       "  'calories_per_min': 7.367678193366268,\n",
       "  'calories_per_hour': 442.06069160197603},\n",
       " {'year': '2024',\n",
       "  'month': '03',\n",
       "  'duration_min': 68.03333333333333,\n",
       "  'calories': 616.0,\n",
       "  'calories_per_min': 9.05438510534052,\n",
       "  'calories_per_hour': 543.2631063204312},\n",
       " {'year': '2024',\n",
       "  'month': '03',\n",
       "  'duration_min': 78.23333333333333,\n",
       "  'calories': 508.0,\n",
       "  'calories_per_min': 6.493395824456753,\n",
       "  'calories_per_hour': 389.6037494674052},\n",
       " {'year': '2024',\n",
       "  'month': '03',\n",
       "  'duration_min': 70.15,\n",
       "  'calories': 359.0,\n",
       "  'calories_per_min': 5.117605131860299,\n",
       "  'calories_per_hour': 307.0563079116179},\n",
       " {'year': '2024',\n",
       "  'month': '03',\n",
       "  'duration_min': 60.833333333333336,\n",
       "  'calories': 299.0,\n",
       "  'calories_per_min': 4.9150684931506845,\n",
       "  'calories_per_hour': 294.90410958904107},\n",
       " {'year': '2024',\n",
       "  'month': '03',\n",
       "  'duration_min': 3.8333333333333335,\n",
       "  'calories': 25.0,\n",
       "  'calories_per_min': 6.521739130434782,\n",
       "  'calories_per_hour': 391.30434782608694},\n",
       " {'year': '2024',\n",
       "  'month': '03',\n",
       "  'duration_min': 84.6,\n",
       "  'calories': 676.0,\n",
       "  'calories_per_min': 7.990543735224587,\n",
       "  'calories_per_hour': 479.4326241134752},\n",
       " {'year': '2024',\n",
       "  'month': '03',\n",
       "  'duration_min': 75.06666666666666,\n",
       "  'calories': 384.0,\n",
       "  'calories_per_min': 5.1154529307282415,\n",
       "  'calories_per_hour': 306.9271758436945},\n",
       " {'year': '2024',\n",
       "  'month': '03',\n",
       "  'duration_min': 30.183333333333334,\n",
       "  'calories': 327.0,\n",
       "  'calories_per_min': 10.833793484262838,\n",
       "  'calories_per_hour': 650.0276090557703},\n",
       " {'year': '2024',\n",
       "  'month': '03',\n",
       "  'duration_min': 55.96666666666667,\n",
       "  'calories': 470.0,\n",
       "  'calories_per_min': 8.397855866587253,\n",
       "  'calories_per_hour': 503.8713519952352},\n",
       " {'year': '2024',\n",
       "  'month': '03',\n",
       "  'duration_min': 40.03333333333333,\n",
       "  'calories': 403.0,\n",
       "  'calories_per_min': 10.06661115736886,\n",
       "  'calories_per_hour': 603.9966694421315},\n",
       " {'year': '2024',\n",
       "  'month': '03',\n",
       "  'duration_min': 65.7,\n",
       "  'calories': 427.0,\n",
       "  'calories_per_min': 6.499238964992389,\n",
       "  'calories_per_hour': 389.95433789954336},\n",
       " {'year': '2024',\n",
       "  'month': '03',\n",
       "  'duration_min': 76.51666666666667,\n",
       "  'calories': 721.0,\n",
       "  'calories_per_min': 9.422783707253322,\n",
       "  'calories_per_hour': 565.3670224351993},\n",
       " {'year': '2024',\n",
       "  'month': '03',\n",
       "  'duration_min': 49.516666666666666,\n",
       "  'calories': 470.0,\n",
       "  'calories_per_min': 9.491753618310334,\n",
       "  'calories_per_hour': 569.50521709862},\n",
       " {'year': '2024',\n",
       "  'month': '03',\n",
       "  'duration_min': 80.03333333333333,\n",
       "  'calories': 553.0,\n",
       "  'calories_per_min': 6.909620991253645,\n",
       "  'calories_per_hour': 414.5772594752187},\n",
       " {'year': '2024',\n",
       "  'month': '03',\n",
       "  'duration_min': 66.51666666666667,\n",
       "  'calories': 368.0,\n",
       "  'calories_per_min': 5.532448008018041,\n",
       "  'calories_per_hour': 331.9468804810825},\n",
       " {'year': '2024',\n",
       "  'month': '03',\n",
       "  'duration_min': 82.26666666666667,\n",
       "  'calories': 513.0,\n",
       "  'calories_per_min': 6.2358184764991895,\n",
       "  'calories_per_hour': 374.14910858995137},\n",
       " {'year': '2024',\n",
       "  'month': '03',\n",
       "  'duration_min': 68.81666666666666,\n",
       "  'calories': 396.0,\n",
       "  'calories_per_min': 5.7544199564059095,\n",
       "  'calories_per_hour': 345.26519738435456},\n",
       " {'year': '2024',\n",
       "  'month': '04',\n",
       "  'duration_min': 102.31666666666666,\n",
       "  'calories': 815.0,\n",
       "  'calories_per_min': 7.965466688385731,\n",
       "  'calories_per_hour': 477.92800130314384},\n",
       " {'year': '2024',\n",
       "  'month': '04',\n",
       "  'duration_min': 71.93333333333334,\n",
       "  'calories': 482.0,\n",
       "  'calories_per_min': 6.70064874884152,\n",
       "  'calories_per_hour': 402.0389249304912},\n",
       " {'year': '2024',\n",
       "  'month': '04',\n",
       "  'duration_min': 79.96666666666667,\n",
       "  'calories': 621.0,\n",
       "  'calories_per_min': 7.7657357232180075,\n",
       "  'calories_per_hour': 465.9441433930805},\n",
       " {'year': '2024',\n",
       "  'month': '04',\n",
       "  'duration_min': 43.46666666666667,\n",
       "  'calories': 444.0,\n",
       "  'calories_per_min': 10.214723926380367,\n",
       "  'calories_per_hour': 612.883435582822},\n",
       " {'year': '2024',\n",
       "  'month': '04',\n",
       "  'duration_min': 70.9,\n",
       "  'calories': 508.0,\n",
       "  'calories_per_min': 7.165021156558533,\n",
       "  'calories_per_hour': 429.90126939351194},\n",
       " {'year': '2024',\n",
       "  'month': '04',\n",
       "  'duration_min': 57.766666666666666,\n",
       "  'calories': 534.0,\n",
       "  'calories_per_min': 9.244085401038662,\n",
       "  'calories_per_hour': 554.6451240623197},\n",
       " {'year': '2024',\n",
       "  'month': '04',\n",
       "  'duration_min': 103.05,\n",
       "  'calories': 811.0,\n",
       "  'calories_per_min': 7.869966035904901,\n",
       "  'calories_per_hour': 472.1979621542941},\n",
       " {'year': '2024',\n",
       "  'month': '04',\n",
       "  'duration_min': 80.98333333333333,\n",
       "  'calories': 623.0,\n",
       "  'calories_per_min': 7.6929409343486315,\n",
       "  'calories_per_hour': 461.5764560609179},\n",
       " {'year': '2024',\n",
       "  'month': '04',\n",
       "  'duration_min': 71.8,\n",
       "  'calories': 597.0,\n",
       "  'calories_per_min': 8.314763231197771,\n",
       "  'calories_per_hour': 498.88579387186627},\n",
       " {'year': '2024',\n",
       "  'month': '04',\n",
       "  'duration_min': 70.35,\n",
       "  'calories': 636.0,\n",
       "  'calories_per_min': 9.040511727078892,\n",
       "  'calories_per_hour': 542.4307036247335},\n",
       " {'year': '2024',\n",
       "  'month': '04',\n",
       "  'duration_min': 58.266666666666666,\n",
       "  'calories': 449.0,\n",
       "  'calories_per_min': 7.7059496567505725,\n",
       "  'calories_per_hour': 462.35697940503434},\n",
       " {'year': '2024',\n",
       "  'month': '04',\n",
       "  'duration_min': 68.91666666666667,\n",
       "  'calories': 628.0,\n",
       "  'calories_per_min': 9.112454655380894,\n",
       "  'calories_per_hour': 546.7472793228536},\n",
       " {'year': '2024',\n",
       "  'month': '04',\n",
       "  'duration_min': 78.75,\n",
       "  'calories': 538.0,\n",
       "  'calories_per_min': 6.8317460317460315,\n",
       "  'calories_per_hour': 409.90476190476187},\n",
       " {'year': '2024',\n",
       "  'month': '04',\n",
       "  'duration_min': 84.78333333333333,\n",
       "  'calories': 605.0,\n",
       "  'calories_per_min': 7.135836445842344,\n",
       "  'calories_per_hour': 428.1501867505406},\n",
       " {'year': '2024',\n",
       "  'month': '04',\n",
       "  'duration_min': 59.65,\n",
       "  'calories': 242.0,\n",
       "  'calories_per_min': 4.056999161777033,\n",
       "  'calories_per_hour': 243.41994970662196},\n",
       " {'year': '2024',\n",
       "  'month': '04',\n",
       "  'duration_min': 67.0,\n",
       "  'calories': 633.0,\n",
       "  'calories_per_min': 9.447761194029852,\n",
       "  'calories_per_hour': 566.8656716417911},\n",
       " {'year': '2024',\n",
       "  'month': '05',\n",
       "  'duration_min': 45.78333333333333,\n",
       "  'calories': 257.0,\n",
       "  'calories_per_min': 5.613396432471788,\n",
       "  'calories_per_hour': 336.8037859483073},\n",
       " {'year': '2024',\n",
       "  'month': '05',\n",
       "  'duration_min': 65.45,\n",
       "  'calories': 501.0,\n",
       "  'calories_per_min': 7.654698242933537,\n",
       "  'calories_per_hour': 459.28189457601223},\n",
       " {'year': '2024',\n",
       "  'month': '05',\n",
       "  'duration_min': 79.1,\n",
       "  'calories': 652.0,\n",
       "  'calories_per_min': 8.242730720606827,\n",
       "  'calories_per_hour': 494.56384323640964},\n",
       " {'year': '2024',\n",
       "  'month': '05',\n",
       "  'duration_min': 74.66666666666667,\n",
       "  'calories': 633.0,\n",
       "  'calories_per_min': 8.477678571428571,\n",
       "  'calories_per_hour': 508.6607142857143},\n",
       " {'year': '2024',\n",
       "  'month': '05',\n",
       "  'duration_min': 99.76666666666667,\n",
       "  'calories': 443.0,\n",
       "  'calories_per_min': 4.440360841964584,\n",
       "  'calories_per_hour': 266.42165051787504},\n",
       " {'year': '2024',\n",
       "  'month': '05',\n",
       "  'duration_min': 75.15,\n",
       "  'calories': 500.0,\n",
       "  'calories_per_min': 6.6533599467731195,\n",
       "  'calories_per_hour': 399.20159680638716},\n",
       " {'year': '2024',\n",
       "  'month': '05',\n",
       "  'duration_min': 71.18333333333334,\n",
       "  'calories': 463.0,\n",
       "  'calories_per_min': 6.504331538281432,\n",
       "  'calories_per_hour': 390.25989229688594},\n",
       " {'year': '2024',\n",
       "  'month': '05',\n",
       "  'duration_min': 71.85,\n",
       "  'calories': 525.0,\n",
       "  'calories_per_min': 7.306889352818372,\n",
       "  'calories_per_hour': 438.4133611691023},\n",
       " {'year': '2024',\n",
       "  'month': '05',\n",
       "  'duration_min': 69.0,\n",
       "  'calories': 647.0,\n",
       "  'calories_per_min': 9.376811594202898,\n",
       "  'calories_per_hour': 562.6086956521739},\n",
       " {'year': '2024',\n",
       "  'month': '05',\n",
       "  'duration_min': 61.21666666666667,\n",
       "  'calories': 495.0,\n",
       "  'calories_per_min': 8.086033215355295,\n",
       "  'calories_per_hour': 485.1619929213177},\n",
       " {'year': '2024',\n",
       "  'month': '05',\n",
       "  'duration_min': 66.48333333333333,\n",
       "  'calories': 532.0,\n",
       "  'calories_per_min': 8.002005515166708,\n",
       "  'calories_per_hour': 480.1203309100025},\n",
       " {'year': '2024',\n",
       "  'month': '05',\n",
       "  'duration_min': 63.03333333333333,\n",
       "  'calories': 467.0,\n",
       "  'calories_per_min': 7.408778424114225,\n",
       "  'calories_per_hour': 444.5267054468535},\n",
       " {'year': '2024',\n",
       "  'month': '05',\n",
       "  'duration_min': 50.983333333333334,\n",
       "  'calories': 440.0,\n",
       "  'calories_per_min': 8.630271330500163,\n",
       "  'calories_per_hour': 517.8162798300098},\n",
       " {'year': '2024',\n",
       "  'month': '05',\n",
       "  'duration_min': 72.81666666666666,\n",
       "  'calories': 738.0,\n",
       "  'calories_per_min': 10.135042343785765,\n",
       "  'calories_per_hour': 608.1025406271459},\n",
       " {'year': '2024',\n",
       "  'month': '05',\n",
       "  'duration_min': 63.95,\n",
       "  'calories': 582.0,\n",
       "  'calories_per_min': 9.100860046911649,\n",
       "  'calories_per_hour': 546.051602814699},\n",
       " {'year': '2024',\n",
       "  'month': '05',\n",
       "  'duration_min': 80.91666666666667,\n",
       "  'calories': 642.0,\n",
       "  'calories_per_min': 7.9340885684860964,\n",
       "  'calories_per_hour': 476.0453141091658},\n",
       " {'year': '2024',\n",
       "  'month': '05',\n",
       "  'duration_min': 72.46666666666667,\n",
       "  'calories': 520.0,\n",
       "  'calories_per_min': 7.175712971481141,\n",
       "  'calories_per_hour': 430.5427782888684},\n",
       " {'year': '2024',\n",
       "  'month': '06',\n",
       "  'duration_min': 30.083333333333332,\n",
       "  'calories': 263.0,\n",
       "  'calories_per_min': 8.742382271468145,\n",
       "  'calories_per_hour': 524.5429362880886},\n",
       " {'year': '2024',\n",
       "  'month': '06',\n",
       "  'duration_min': 68.05,\n",
       "  'calories': 435.0,\n",
       "  'calories_per_min': 6.39235855988244,\n",
       "  'calories_per_hour': 383.5415135929464},\n",
       " {'year': '2024',\n",
       "  'month': '06',\n",
       "  'duration_min': 54.68333333333333,\n",
       "  'calories': 463.0,\n",
       "  'calories_per_min': 8.466930813776289,\n",
       "  'calories_per_hour': 508.0158488265773},\n",
       " {'year': '2024',\n",
       "  'month': '06',\n",
       "  'duration_min': 87.23333333333333,\n",
       "  'calories': 762.0,\n",
       "  'calories_per_min': 8.735192969048528,\n",
       "  'calories_per_hour': 524.1115781429116},\n",
       " {'year': '2024',\n",
       "  'month': '06',\n",
       "  'duration_min': 62.333333333333336,\n",
       "  'calories': 506.0,\n",
       "  'calories_per_min': 8.117647058823529,\n",
       "  'calories_per_hour': 487.0588235294117},\n",
       " {'year': '2024',\n",
       "  'month': '06',\n",
       "  'duration_min': 61.86666666666667,\n",
       "  'calories': 346.0,\n",
       "  'calories_per_min': 5.592672413793103,\n",
       "  'calories_per_hour': 335.56034482758616},\n",
       " {'year': '2024',\n",
       "  'month': '06',\n",
       "  'duration_min': 79.93333333333334,\n",
       "  'calories': 479.0,\n",
       "  'calories_per_min': 5.992493744787322,\n",
       "  'calories_per_hour': 359.5496246872393},\n",
       " {'year': '2024',\n",
       "  'month': '06',\n",
       "  'duration_min': 64.15,\n",
       "  'calories': 407.0,\n",
       "  'calories_per_min': 6.344505066250973,\n",
       "  'calories_per_hour': 380.6703039750584},\n",
       " {'year': '2024',\n",
       "  'month': '06',\n",
       "  'duration_min': 85.91666666666667,\n",
       "  'calories': 578.0,\n",
       "  'calories_per_min': 6.7274490785645,\n",
       "  'calories_per_hour': 403.64694471386997},\n",
       " {'year': '2024',\n",
       "  'month': '06',\n",
       "  'duration_min': 90.31666666666666,\n",
       "  'calories': 712.0,\n",
       "  'calories_per_min': 7.883373316109984,\n",
       "  'calories_per_hour': 473.00239896659906},\n",
       " {'year': '2024',\n",
       "  'month': '06',\n",
       "  'duration_min': 59.95,\n",
       "  'calories': 296.0,\n",
       "  'calories_per_min': 4.93744787322769,\n",
       "  'calories_per_hour': 296.2468723936614},\n",
       " {'year': '2024',\n",
       "  'month': '06',\n",
       "  'duration_min': 63.916666666666664,\n",
       "  'calories': 450.0,\n",
       "  'calories_per_min': 7.040417209908735,\n",
       "  'calories_per_hour': 422.4250325945241},\n",
       " {'year': '2024',\n",
       "  'month': '06',\n",
       "  'duration_min': 69.8,\n",
       "  'calories': 571.0,\n",
       "  'calories_per_min': 8.180515759312321,\n",
       "  'calories_per_hour': 490.83094555873924},\n",
       " {'year': '2024',\n",
       "  'month': '06',\n",
       "  'duration_min': 65.08333333333333,\n",
       "  'calories': 338.0,\n",
       "  'calories_per_min': 5.193341869398208,\n",
       "  'calories_per_hour': 311.60051216389246},\n",
       " {'year': '2024',\n",
       "  'month': '07',\n",
       "  'duration_min': 73.6,\n",
       "  'calories': 411.0,\n",
       "  'calories_per_min': 5.584239130434783,\n",
       "  'calories_per_hour': 335.054347826087},\n",
       " {'year': '2024',\n",
       "  'month': '07',\n",
       "  'duration_min': 69.03333333333333,\n",
       "  'calories': 352.0,\n",
       "  'calories_per_min': 5.098985997102849,\n",
       "  'calories_per_hour': 305.93915982617096},\n",
       " {'year': '2024',\n",
       "  'month': '07',\n",
       "  'duration_min': 78.4,\n",
       "  'calories': 702.0,\n",
       "  'calories_per_min': 8.954081632653061,\n",
       "  'calories_per_hour': 537.2448979591836},\n",
       " {'year': '2024',\n",
       "  'month': '07',\n",
       "  'duration_min': 64.71666666666667,\n",
       "  'calories': 508.0,\n",
       "  'calories_per_min': 7.849600824105073,\n",
       "  'calories_per_hour': 470.9760494463044},\n",
       " {'year': '2024',\n",
       "  'month': '07',\n",
       "  'duration_min': 70.3,\n",
       "  'calories': 537.0,\n",
       "  'calories_per_min': 7.63869132290185,\n",
       "  'calories_per_hour': 458.321479374111},\n",
       " {'year': '2024',\n",
       "  'month': '07',\n",
       "  'duration_min': 70.7,\n",
       "  'calories': 545.0,\n",
       "  'calories_per_min': 7.708628005657708,\n",
       "  'calories_per_hour': 462.51768033946246},\n",
       " {'year': '2024',\n",
       "  'month': '07',\n",
       "  'duration_min': 68.33333333333333,\n",
       "  'calories': 649.0,\n",
       "  'calories_per_min': 9.497560975609757,\n",
       "  'calories_per_hour': 569.8536585365854},\n",
       " {'year': '2024',\n",
       "  'month': '07',\n",
       "  'duration_min': 64.48333333333333,\n",
       "  'calories': 378.0,\n",
       "  'calories_per_min': 5.861979839751874,\n",
       "  'calories_per_hour': 351.71879038511247},\n",
       " {'year': '2024',\n",
       "  'month': '07',\n",
       "  'duration_min': 66.91666666666667,\n",
       "  'calories': 497.0,\n",
       "  'calories_per_min': 7.427148194271481,\n",
       "  'calories_per_hour': 445.6288916562889},\n",
       " {'year': '2024',\n",
       "  'month': '07',\n",
       "  'duration_min': 67.7,\n",
       "  'calories': 558.0,\n",
       "  'calories_per_min': 8.242245199409158,\n",
       "  'calories_per_hour': 494.5347119645495},\n",
       " {'year': '2024',\n",
       "  'month': '07',\n",
       "  'duration_min': 55.93333333333333,\n",
       "  'calories': 341.0,\n",
       "  'calories_per_min': 6.096543504171633,\n",
       "  'calories_per_hour': 365.79261025029797},\n",
       " {'year': '2024',\n",
       "  'month': '07',\n",
       "  'duration_min': 56.25,\n",
       "  'calories': 576.0,\n",
       "  'calories_per_min': 10.24,\n",
       "  'calories_per_hour': 614.4},\n",
       " {'year': '2024',\n",
       "  'month': '07',\n",
       "  'duration_min': 29.733333333333334,\n",
       "  'calories': 142.0,\n",
       "  'calories_per_min': 4.7757847533632285,\n",
       "  'calories_per_hour': 286.5470852017937},\n",
       " {'year': '2024',\n",
       "  'month': '07',\n",
       "  'duration_min': 70.15,\n",
       "  'calories': 628.0,\n",
       "  'calories_per_min': 8.952245188880969,\n",
       "  'calories_per_hour': 537.1347113328582},\n",
       " {'year': '2024',\n",
       "  'month': '07',\n",
       "  'duration_min': 66.25,\n",
       "  'calories': 515.0,\n",
       "  'calories_per_min': 7.773584905660377,\n",
       "  'calories_per_hour': 466.41509433962267},\n",
       " {'year': '2024',\n",
       "  'month': '07',\n",
       "  'duration_min': 90.53333333333333,\n",
       "  'calories': 785.0,\n",
       "  'calories_per_min': 8.670839469808541,\n",
       "  'calories_per_hour': 520.2503681885125},\n",
       " {'year': '2024',\n",
       "  'month': '08',\n",
       "  'duration_min': 65.75,\n",
       "  'calories': 516.0,\n",
       "  'calories_per_min': 7.847908745247148,\n",
       "  'calories_per_hour': 470.87452471482885},\n",
       " {'year': '2024',\n",
       "  'month': '08',\n",
       "  'duration_min': 65.85,\n",
       "  'calories': 536.0,\n",
       "  'calories_per_min': 8.139711465451786,\n",
       "  'calories_per_hour': 488.38268792710716},\n",
       " {'year': '2024',\n",
       "  'month': '08',\n",
       "  'duration_min': 64.36666666666666,\n",
       "  'calories': 509.0,\n",
       "  'calories_per_min': 7.907819782496117,\n",
       "  'calories_per_hour': 474.469186949767},\n",
       " {'year': '2024',\n",
       "  'month': '08',\n",
       "  'duration_min': 63.766666666666666,\n",
       "  'calories': 397.0,\n",
       "  'calories_per_min': 6.225823314166231,\n",
       "  'calories_per_hour': 373.54939884997384},\n",
       " {'year': '2024',\n",
       "  'month': '08',\n",
       "  'duration_min': 71.23333333333333,\n",
       "  'calories': 332.0,\n",
       "  'calories_per_min': 4.6607393542349085,\n",
       "  'calories_per_hour': 279.6443612540945},\n",
       " {'year': '2024',\n",
       "  'month': '08',\n",
       "  'duration_min': 59.71666666666667,\n",
       "  'calories': 347.0,\n",
       "  'calories_per_min': 5.810773095171644,\n",
       "  'calories_per_hour': 348.64638571029866},\n",
       " {'year': '2024',\n",
       "  'month': '08',\n",
       "  'duration_min': 74.93333333333334,\n",
       "  'calories': 594.0,\n",
       "  'calories_per_min': 7.927046263345195,\n",
       "  'calories_per_hour': 475.62277580071174},\n",
       " {'year': '2024',\n",
       "  'month': '08',\n",
       "  'duration_min': 63.55,\n",
       "  'calories': 407.0,\n",
       "  'calories_per_min': 6.404405979543666,\n",
       "  'calories_per_hour': 384.26435877261997},\n",
       " {'year': '2024',\n",
       "  'month': '08',\n",
       "  'duration_min': 66.66666666666667,\n",
       "  'calories': 668.0,\n",
       "  'calories_per_min': 10.02,\n",
       "  'calories_per_hour': 601.1999999999999},\n",
       " {'year': '2024',\n",
       "  'month': '08',\n",
       "  'duration_min': 58.56666666666667,\n",
       "  'calories': 426.0,\n",
       "  'calories_per_min': 7.273762094479226,\n",
       "  'calories_per_hour': 436.42572566875356},\n",
       " {'year': '2024',\n",
       "  'month': '08',\n",
       "  'duration_min': 85.51666666666667,\n",
       "  'calories': 615.0,\n",
       "  'calories_per_min': 7.1915805885792246,\n",
       "  'calories_per_hour': 431.49483531475346},\n",
       " {'year': '2024',\n",
       "  'month': '08',\n",
       "  'duration_min': 76.73333333333333,\n",
       "  'calories': 673.0,\n",
       "  'calories_per_min': 8.770634231103388,\n",
       "  'calories_per_hour': 526.2380538662032},\n",
       " {'year': '2024',\n",
       "  'month': '08',\n",
       "  'duration_min': 55.233333333333334,\n",
       "  'calories': 411.0,\n",
       "  'calories_per_min': 7.44115872057936,\n",
       "  'calories_per_hour': 446.4695232347616},\n",
       " {'year': '2024',\n",
       "  'month': '08',\n",
       "  'duration_min': 75.5,\n",
       "  'calories': 519.0,\n",
       "  'calories_per_min': 6.874172185430464,\n",
       "  'calories_per_hour': 412.4503311258278},\n",
       " {'year': '2024',\n",
       "  'month': '08',\n",
       "  'duration_min': 84.8,\n",
       "  'calories': 503.0,\n",
       "  'calories_per_min': 5.931603773584905,\n",
       "  'calories_per_hour': 355.8962264150943},\n",
       " {'year': '2024',\n",
       "  'month': '08',\n",
       "  'duration_min': 63.483333333333334,\n",
       "  'calories': 467.0,\n",
       "  'calories_per_min': 7.3562614859543185,\n",
       "  'calories_per_hour': 441.3756891572591},\n",
       " {'year': '2024',\n",
       "  'month': '08',\n",
       "  'duration_min': 64.95,\n",
       "  'calories': 474.0,\n",
       "  'calories_per_min': 7.297921478060045,\n",
       "  'calories_per_hour': 437.8752886836027},\n",
       " {'year': '2024',\n",
       "  'month': '08',\n",
       "  'duration_min': 51.86666666666667,\n",
       "  'calories': 348.0,\n",
       "  'calories_per_min': 6.709511568123394,\n",
       "  'calories_per_hour': 402.57069408740364},\n",
       " {'year': '2024',\n",
       "  'month': '09',\n",
       "  'duration_min': 83.65,\n",
       "  'calories': 629.0,\n",
       "  'calories_per_min': 7.5194261805140465,\n",
       "  'calories_per_hour': 451.1655708308428},\n",
       " {'year': '2024',\n",
       "  'month': '09',\n",
       "  'duration_min': 92.11666666666666,\n",
       "  'calories': 728.0,\n",
       "  'calories_per_min': 7.903021530667632,\n",
       "  'calories_per_hour': 474.18129184005795},\n",
       " {'year': '2024',\n",
       "  'month': '09',\n",
       "  'duration_min': 78.81666666666666,\n",
       "  'calories': 617.0,\n",
       "  'calories_per_min': 7.828293508141257,\n",
       "  'calories_per_hour': 469.6976104884754},\n",
       " {'year': '2024',\n",
       "  'month': '09',\n",
       "  'duration_min': 86.46666666666667,\n",
       "  'calories': 718.0,\n",
       "  'calories_per_min': 8.303777949113337,\n",
       "  'calories_per_hour': 498.22667694680024},\n",
       " {'year': '2024',\n",
       "  'month': '09',\n",
       "  'duration_min': 58.31666666666667,\n",
       "  'calories': 464.0,\n",
       "  'calories_per_min': 7.95655901686196,\n",
       "  'calories_per_hour': 477.3935410117176},\n",
       " {'year': '2024',\n",
       "  'month': '09',\n",
       "  'duration_min': 75.5,\n",
       "  'calories': 494.0,\n",
       "  'calories_per_min': 6.543046357615894,\n",
       "  'calories_per_hour': 392.5827814569536},\n",
       " {'year': '2024',\n",
       "  'month': '09',\n",
       "  'duration_min': 67.46666666666667,\n",
       "  'calories': 328.0,\n",
       "  'calories_per_min': 4.861660079051383,\n",
       "  'calories_per_hour': 291.699604743083},\n",
       " {'year': '2024',\n",
       "  'month': '09',\n",
       "  'duration_min': 59.93333333333333,\n",
       "  'calories': 448.0,\n",
       "  'calories_per_min': 7.474972191323693,\n",
       "  'calories_per_hour': 448.4983314794216},\n",
       " {'year': '2024',\n",
       "  'month': '09',\n",
       "  'duration_min': 63.81666666666667,\n",
       "  'calories': 554.0,\n",
       "  'calories_per_min': 8.681117785322538,\n",
       "  'calories_per_hour': 520.8670671193523},\n",
       " {'year': '2024',\n",
       "  'month': '09',\n",
       "  'duration_min': 72.95,\n",
       "  'calories': 629.0,\n",
       "  'calories_per_min': 8.622344071281699,\n",
       "  'calories_per_hour': 517.3406442769019},\n",
       " {'year': '2024',\n",
       "  'month': '09',\n",
       "  'duration_min': 77.3,\n",
       "  'calories': 613.0,\n",
       "  'calories_per_min': 7.930142302716688,\n",
       "  'calories_per_hour': 475.8085381630013},\n",
       " {'year': '2024',\n",
       "  'month': '09',\n",
       "  'duration_min': 71.43333333333334,\n",
       "  'calories': 566.0,\n",
       "  'calories_per_min': 7.923471768548763,\n",
       "  'calories_per_hour': 475.40830611292574},\n",
       " {'year': '2024',\n",
       "  'month': '09',\n",
       "  'duration_min': 78.18333333333334,\n",
       "  'calories': 373.0,\n",
       "  'calories_per_min': 4.770837774461735,\n",
       "  'calories_per_hour': 286.2502664677041},\n",
       " {'year': '2024',\n",
       "  'month': '09',\n",
       "  'duration_min': 82.93333333333334,\n",
       "  'calories': 531.0,\n",
       "  'calories_per_min': 6.402733118971061,\n",
       "  'calories_per_hour': 384.1639871382637},\n",
       " {'year': '2024',\n",
       "  'month': '09',\n",
       "  'duration_min': 77.03333333333333,\n",
       "  'calories': 466.0,\n",
       "  'calories_per_min': 6.049329294677629,\n",
       "  'calories_per_hour': 362.95975768065773},\n",
       " {'year': '2024',\n",
       "  'month': '09',\n",
       "  'duration_min': 57.25,\n",
       "  'calories': 286.0,\n",
       "  'calories_per_min': 4.995633187772926,\n",
       "  'calories_per_hour': 299.73799126637556},\n",
       " {'year': '2024',\n",
       "  'month': '09',\n",
       "  'duration_min': 70.0,\n",
       "  'calories': 589.0,\n",
       "  'calories_per_min': 8.414285714285715,\n",
       "  'calories_per_hour': 504.8571428571429},\n",
       " {'year': '2024',\n",
       "  'month': '09',\n",
       "  'duration_min': 67.98333333333333,\n",
       "  'calories': 519.0,\n",
       "  'calories_per_min': 7.6342240745280705,\n",
       "  'calories_per_hour': 458.0534444716842},\n",
       " {'year': '2024',\n",
       "  'month': '09',\n",
       "  'duration_min': 67.45,\n",
       "  'calories': 553.0,\n",
       "  'calories_per_min': 8.198665678280207,\n",
       "  'calories_per_hour': 491.91994069681243},\n",
       " {'year': '2024',\n",
       "  'month': '10',\n",
       "  'duration_min': 82.56666666666666,\n",
       "  'calories': 819.0,\n",
       "  'calories_per_min': 9.919257165926524,\n",
       "  'calories_per_hour': 595.1554299555914},\n",
       " {'year': '2024',\n",
       "  'month': '10',\n",
       "  'duration_min': 68.7,\n",
       "  'calories': 383.0,\n",
       "  'calories_per_min': 5.5749636098981075,\n",
       "  'calories_per_hour': 334.49781659388645},\n",
       " {'year': '2024',\n",
       "  'month': '10',\n",
       "  'duration_min': 101.86666666666666,\n",
       "  'calories': 1041.0,\n",
       "  'calories_per_min': 10.219240837696336,\n",
       "  'calories_per_hour': 613.1544502617802},\n",
       " {'year': '2024',\n",
       "  'month': '10',\n",
       "  'duration_min': 128.11666666666667,\n",
       "  'calories': 1094.0,\n",
       "  'calories_per_min': 8.539091973461687,\n",
       "  'calories_per_hour': 512.3455184077012},\n",
       " {'year': '2024',\n",
       "  'month': '10',\n",
       "  'duration_min': 73.98333333333333,\n",
       "  'calories': 716.0,\n",
       "  'calories_per_min': 9.677855372831718,\n",
       "  'calories_per_hour': 580.6713223699031},\n",
       " {'year': '2024',\n",
       "  'month': '10',\n",
       "  'duration_min': 66.9,\n",
       "  'calories': 549.0,\n",
       "  'calories_per_min': 8.20627802690583,\n",
       "  'calories_per_hour': 492.37668161434976},\n",
       " {'year': '2024',\n",
       "  'month': '10',\n",
       "  'duration_min': 94.0,\n",
       "  'calories': 944.0,\n",
       "  'calories_per_min': 10.042553191489361,\n",
       "  'calories_per_hour': 602.5531914893617},\n",
       " {'year': '2024',\n",
       "  'month': '10',\n",
       "  'duration_min': 74.36666666666666,\n",
       "  'calories': 605.0,\n",
       "  'calories_per_min': 8.135365307037203,\n",
       "  'calories_per_hour': 488.12191842223217},\n",
       " {'year': '2024',\n",
       "  'month': '10',\n",
       "  'duration_min': 84.75,\n",
       "  'calories': 876.0,\n",
       "  'calories_per_min': 10.336283185840708,\n",
       "  'calories_per_hour': 620.1769911504425},\n",
       " {'year': '2024',\n",
       "  'month': '10',\n",
       "  'duration_min': 90.63333333333334,\n",
       "  'calories': 858.0,\n",
       "  'calories_per_min': 9.466715704303052,\n",
       "  'calories_per_hour': 568.0029422581831},\n",
       " {'year': '2024',\n",
       "  'month': '10',\n",
       "  'duration_min': 98.5,\n",
       "  'calories': 927.0,\n",
       "  'calories_per_min': 9.411167512690355,\n",
       "  'calories_per_hour': 564.6700507614213},\n",
       " {'year': '2024',\n",
       "  'month': '10',\n",
       "  'duration_min': 74.66666666666667,\n",
       "  'calories': 781.0,\n",
       "  'calories_per_min': 10.459821428571427,\n",
       "  'calories_per_hour': 627.5892857142857},\n",
       " {'year': '2024',\n",
       "  'month': '10',\n",
       "  'duration_min': 36.416666666666664,\n",
       "  'calories': 302.0,\n",
       "  'calories_per_min': 8.292906178489703,\n",
       "  'calories_per_hour': 497.5743707093822},\n",
       " {'year': '2024',\n",
       "  'month': '10',\n",
       "  'duration_min': 61.1,\n",
       "  'calories': 626.0,\n",
       "  'calories_per_min': 10.245499181669395,\n",
       "  'calories_per_hour': 614.7299509001637},\n",
       " {'year': '2024',\n",
       "  'month': '10',\n",
       "  'duration_min': 82.48333333333333,\n",
       "  'calories': 739.0,\n",
       "  'calories_per_min': 8.959385734491816,\n",
       "  'calories_per_hour': 537.563144069509},\n",
       " {'year': '2024',\n",
       "  'month': '10',\n",
       "  'duration_min': 97.78333333333333,\n",
       "  'calories': 981.0,\n",
       "  'calories_per_min': 10.032384523606613,\n",
       "  'calories_per_hour': 601.9430714163967},\n",
       " {'year': '2024',\n",
       "  'month': '10',\n",
       "  'duration_min': 68.45,\n",
       "  'calories': 557.0,\n",
       "  'calories_per_min': 8.137326515704894,\n",
       "  'calories_per_hour': 488.2395909422936},\n",
       " {'year': '2024',\n",
       "  'month': '10',\n",
       "  'duration_min': 90.81666666666666,\n",
       "  'calories': 686.0,\n",
       "  'calories_per_min': 7.553679574233804,\n",
       "  'calories_per_hour': 453.2207744540283},\n",
       " {'year': '2024',\n",
       "  'month': '10',\n",
       "  'duration_min': 119.96666666666667,\n",
       "  'calories': 1084.0,\n",
       "  'calories_per_min': 9.035843289802722,\n",
       "  'calories_per_hour': 542.1505973881633},\n",
       " {'year': '2024',\n",
       "  'month': '10',\n",
       "  'duration_min': 75.53333333333333,\n",
       "  'calories': 578.0,\n",
       "  'calories_per_min': 7.6522506619594,\n",
       "  'calories_per_hour': 459.135039717564},\n",
       " {'year': '2024',\n",
       "  'month': '11',\n",
       "  'duration_min': 101.88333333333334,\n",
       "  'calories': 837.0,\n",
       "  'calories_per_min': 8.215278913790282,\n",
       "  'calories_per_hour': 492.9167348274169},\n",
       " {'year': '2024',\n",
       "  'month': '11',\n",
       "  'duration_min': 90.56666666666666,\n",
       "  'calories': 698.0,\n",
       "  'calories_per_min': 7.70702981229297,\n",
       "  'calories_per_hour': 462.4217887375782},\n",
       " {'year': '2024',\n",
       "  'month': '11',\n",
       "  'duration_min': 91.3,\n",
       "  'calories': 899.0,\n",
       "  'calories_per_min': 9.846659364731654,\n",
       "  'calories_per_hour': 590.7995618838992},\n",
       " {'year': '2024',\n",
       "  'month': '11',\n",
       "  'duration_min': 90.81666666666666,\n",
       "  'calories': 933.0,\n",
       "  'calories_per_min': 10.27344466874656,\n",
       "  'calories_per_hour': 616.4066801247936},\n",
       " {'year': '2024',\n",
       "  'month': '11',\n",
       "  'duration_min': 73.85,\n",
       "  'calories': 577.0,\n",
       "  'calories_per_min': 7.813134732566013,\n",
       "  'calories_per_hour': 468.7880839539608},\n",
       " {'year': '2024',\n",
       "  'month': '11',\n",
       "  'duration_min': 120.75,\n",
       "  'calories': 1137.0,\n",
       "  'calories_per_min': 9.416149068322982,\n",
       "  'calories_per_hour': 564.9689440993789},\n",
       " {'year': '2024',\n",
       "  'month': '11',\n",
       "  'duration_min': 112.93333333333334,\n",
       "  'calories': 850.0,\n",
       "  'calories_per_min': 7.526564344746163,\n",
       "  'calories_per_hour': 451.59386068476977},\n",
       " {'year': '2024',\n",
       "  'month': '11',\n",
       "  'duration_min': 82.1,\n",
       "  'calories': 739.0,\n",
       "  'calories_per_min': 9.00121802679659,\n",
       "  'calories_per_hour': 540.0730816077954},\n",
       " {'year': '2024',\n",
       "  'month': '11',\n",
       "  'duration_min': 102.85,\n",
       "  'calories': 934.0,\n",
       "  'calories_per_min': 9.081186193485658,\n",
       "  'calories_per_hour': 544.8711716091395},\n",
       " {'year': '2024',\n",
       "  'month': '11',\n",
       "  'duration_min': 90.43333333333334,\n",
       "  'calories': 854.0,\n",
       "  'calories_per_min': 9.443420567637302,\n",
       "  'calories_per_hour': 566.6052340582381},\n",
       " {'year': '2024',\n",
       "  'month': '11',\n",
       "  'duration_min': 100.35,\n",
       "  'calories': 994.0,\n",
       "  'calories_per_min': 9.90533134030892,\n",
       "  'calories_per_hour': 594.3198804185351},\n",
       " {'year': '2024',\n",
       "  'month': '11',\n",
       "  'duration_min': 86.95,\n",
       "  'calories': 789.0,\n",
       "  'calories_per_min': 9.074180563542265,\n",
       "  'calories_per_hour': 544.450833812536},\n",
       " {'year': '2024',\n",
       "  'month': '11',\n",
       "  'duration_min': 93.28333333333333,\n",
       "  'calories': 784.0,\n",
       "  'calories_per_min': 8.404502412006432,\n",
       "  'calories_per_hour': 504.2701447203859},\n",
       " {'year': '2024',\n",
       "  'month': '11',\n",
       "  'duration_min': 91.23333333333333,\n",
       "  'calories': 821.0,\n",
       "  'calories_per_min': 8.998903909389842,\n",
       "  'calories_per_hour': 539.9342345633905},\n",
       " {'year': '2024',\n",
       "  'month': '11',\n",
       "  'duration_min': 64.66666666666667,\n",
       "  'calories': 541.0,\n",
       "  'calories_per_min': 8.365979381443298,\n",
       "  'calories_per_hour': 501.95876288659787},\n",
       " {'year': '2024',\n",
       "  'month': '11',\n",
       "  'duration_min': 87.63333333333334,\n",
       "  'calories': 774.0,\n",
       "  'calories_per_min': 8.832255610498288,\n",
       "  'calories_per_hour': 529.9353366298973},\n",
       " {'year': '2024',\n",
       "  'month': '11',\n",
       "  'duration_min': 116.76666666666667,\n",
       "  'calories': 968.0,\n",
       "  'calories_per_min': 8.290037111047674,\n",
       "  'calories_per_hour': 497.40222666286047},\n",
       " {'year': '2024',\n",
       "  'month': '12',\n",
       "  'duration_min': 73.6,\n",
       "  'calories': 798.0,\n",
       "  'calories_per_min': 10.842391304347826,\n",
       "  'calories_per_hour': 650.5434782608696},\n",
       " {'year': '2024',\n",
       "  'month': '12',\n",
       "  'duration_min': 126.53333333333333,\n",
       "  'calories': 813.0,\n",
       "  'calories_per_min': 6.425184404636459,\n",
       "  'calories_per_hour': 385.5110642781876},\n",
       " {'year': '2024',\n",
       "  'month': '12',\n",
       "  'duration_min': 78.76666666666667,\n",
       "  'calories': 725.0,\n",
       "  'calories_per_min': 9.204401184934406,\n",
       "  'calories_per_hour': 552.2640710960644},\n",
       " {'year': '2024',\n",
       "  'month': '12',\n",
       "  'duration_min': 73.41666666666667,\n",
       "  'calories': 672.0,\n",
       "  'calories_per_min': 9.153234960272417,\n",
       "  'calories_per_hour': 549.1940976163451},\n",
       " {'year': '2024',\n",
       "  'month': '12',\n",
       "  'duration_min': 104.51666666666667,\n",
       "  'calories': 867.0,\n",
       "  'calories_per_min': 8.29532769893159,\n",
       "  'calories_per_hour': 497.71966193589543},\n",
       " {'year': '2024',\n",
       "  'month': '12',\n",
       "  'duration_min': 141.25,\n",
       "  'calories': 1398.0,\n",
       "  'calories_per_min': 9.897345132743363,\n",
       "  'calories_per_hour': 593.8407079646017},\n",
       " {'year': '2024',\n",
       "  'month': '12',\n",
       "  'duration_min': 112.53333333333333,\n",
       "  'calories': 1140.0,\n",
       "  'calories_per_min': 10.130331753554502,\n",
       "  'calories_per_hour': 607.8199052132701},\n",
       " {'year': '2024',\n",
       "  'month': '12',\n",
       "  'duration_min': 106.7,\n",
       "  'calories': 900.0,\n",
       "  'calories_per_min': 8.434864104967197,\n",
       "  'calories_per_hour': 506.0918462980318},\n",
       " {'year': '2024',\n",
       "  'month': '12',\n",
       "  'duration_min': 111.6,\n",
       "  'calories': 1087.0,\n",
       "  'calories_per_min': 9.740143369175629,\n",
       "  'calories_per_hour': 584.4086021505377},\n",
       " {'year': '2024',\n",
       "  'month': '12',\n",
       "  'duration_min': 106.71666666666667,\n",
       "  'calories': 900.0,\n",
       "  'calories_per_min': 8.433546774949242,\n",
       "  'calories_per_hour': 506.01280649695457},\n",
       " {'year': '2024',\n",
       "  'month': '12',\n",
       "  'duration_min': 94.48333333333333,\n",
       "  'calories': 926.0,\n",
       "  'calories_per_min': 9.800670312224378,\n",
       "  'calories_per_hour': 588.0402187334627},\n",
       " {'year': '2024',\n",
       "  'month': '12',\n",
       "  'duration_min': 73.53333333333333,\n",
       "  'calories': 768.0,\n",
       "  'calories_per_min': 10.44424297370807,\n",
       "  'calories_per_hour': 626.6545784224842},\n",
       " {'year': '2024',\n",
       "  'month': '12',\n",
       "  'duration_min': 94.26666666666667,\n",
       "  'calories': 844.0,\n",
       "  'calories_per_min': 8.953323903818953,\n",
       "  'calories_per_hour': 537.1994342291372},\n",
       " {'year': '2024',\n",
       "  'month': '12',\n",
       "  'duration_min': 107.66666666666667,\n",
       "  'calories': 1118.0,\n",
       "  'calories_per_min': 10.383900928792569,\n",
       "  'calories_per_hour': 623.0340557275541},\n",
       " {'year': '2024',\n",
       "  'month': '12',\n",
       "  'duration_min': 105.1,\n",
       "  'calories': 1054.0,\n",
       "  'calories_per_min': 10.028544243577546,\n",
       "  'calories_per_hour': 601.7126546146527},\n",
       " {'year': '2024',\n",
       "  'month': '12',\n",
       "  'duration_min': 119.43333333333334,\n",
       "  'calories': 1040.0,\n",
       "  'calories_per_min': 8.707786770862405,\n",
       "  'calories_per_hour': 522.4672062517443},\n",
       " {'year': '2024',\n",
       "  'month': '12',\n",
       "  'duration_min': 99.38333333333334,\n",
       "  'calories': 883.0,\n",
       "  'calories_per_min': 8.884789535468723,\n",
       "  'calories_per_hour': 533.0873721281234},\n",
       " {'year': '2024',\n",
       "  'month': '12',\n",
       "  'duration_min': 92.03333333333333,\n",
       "  'calories': 652.0,\n",
       "  'calories_per_min': 7.0843897138717855,\n",
       "  'calories_per_hour': 425.0633828323071},\n",
       " {'year': '2025',\n",
       "  'month': '01',\n",
       "  'duration_min': 125.85,\n",
       "  'calories': 900.0,\n",
       "  'calories_per_min': 7.151370679380215,\n",
       "  'calories_per_hour': 429.0822407628129},\n",
       " {'year': '2025',\n",
       "  'month': '01',\n",
       "  'duration_min': 114.85,\n",
       "  'calories': 897.0,\n",
       "  'calories_per_min': 7.810187200696561,\n",
       "  'calories_per_hour': 468.61123204179364},\n",
       " {'year': '2025',\n",
       "  'month': '01',\n",
       "  'duration_min': 89.6,\n",
       "  'calories': 730.0,\n",
       "  'calories_per_min': 8.147321428571429,\n",
       "  'calories_per_hour': 488.8392857142857},\n",
       " {'year': '2025',\n",
       "  'month': '01',\n",
       "  'duration_min': 102.86666666666666,\n",
       "  'calories': 1102.0,\n",
       "  'calories_per_min': 10.712896953985743,\n",
       "  'calories_per_hour': 642.7738172391446},\n",
       " {'year': '2025',\n",
       "  'month': '01',\n",
       "  'duration_min': 2.55,\n",
       "  'calories': 9.0,\n",
       "  'calories_per_min': 3.5294117647058827,\n",
       "  'calories_per_hour': 211.76470588235296},\n",
       " {'year': '2025',\n",
       "  'month': '01',\n",
       "  'duration_min': 73.65,\n",
       "  'calories': 747.0,\n",
       "  'calories_per_min': 10.142566191446027,\n",
       "  'calories_per_hour': 608.5539714867616},\n",
       " {'year': '2025',\n",
       "  'month': '01',\n",
       "  'duration_min': 105.93333333333334,\n",
       "  'calories': 876.0,\n",
       "  'calories_per_min': 8.269351793580869,\n",
       "  'calories_per_hour': 496.16110761485214},\n",
       " {'year': '2025',\n",
       "  'month': '01',\n",
       "  'duration_min': 77.13333333333334,\n",
       "  'calories': 646.0,\n",
       "  'calories_per_min': 8.375108038029385,\n",
       "  'calories_per_hour': 502.5064822817631},\n",
       " {'year': '2025',\n",
       "  'month': '01',\n",
       "  'duration_min': 125.13333333333334,\n",
       "  'calories': 1111.0,\n",
       "  'calories_per_min': 8.878529568460308,\n",
       "  'calories_per_hour': 532.7117741076186},\n",
       " {'year': '2025',\n",
       "  'month': '01',\n",
       "  'duration_min': 59.233333333333334,\n",
       "  'calories': 512.0,\n",
       "  'calories_per_min': 8.643781654473832,\n",
       "  'calories_per_hour': 518.62689926843},\n",
       " {'year': '2025',\n",
       "  'month': '01',\n",
       "  'duration_min': 111.65,\n",
       "  'calories': 900.0,\n",
       "  'calories_per_min': 8.06090461262875,\n",
       "  'calories_per_hour': 483.65427675772503},\n",
       " {'year': '2025',\n",
       "  'month': '01',\n",
       "  'duration_min': 111.61666666666666,\n",
       "  'calories': 1020.0,\n",
       "  'calories_per_min': 9.138420188143945,\n",
       "  'calories_per_hour': 548.3052112886367},\n",
       " {'year': '2025',\n",
       "  'month': '01',\n",
       "  'duration_min': 90.36666666666666,\n",
       "  'calories': 851.0,\n",
       "  'calories_per_min': 9.417189229066766,\n",
       "  'calories_per_hour': 565.031353744006},\n",
       " {'year': '2025',\n",
       "  'month': '01',\n",
       "  'duration_min': 1.1,\n",
       "  'calories': 5.0,\n",
       "  'calories_per_min': 4.545454545454545,\n",
       "  'calories_per_hour': 272.7272727272727},\n",
       " {'year': '2025',\n",
       "  'month': '01',\n",
       "  'duration_min': 104.95,\n",
       "  'calories': 802.0,\n",
       "  'calories_per_min': 7.641734159123392,\n",
       "  'calories_per_hour': 458.50404954740355},\n",
       " {'year': '2025',\n",
       "  'month': '01',\n",
       "  'duration_min': 131.28333333333333,\n",
       "  'calories': 1084.0,\n",
       "  'calories_per_min': 8.256950615716644,\n",
       "  'calories_per_hour': 495.4170369429986},\n",
       " {'year': '2025',\n",
       "  'month': '01',\n",
       "  'duration_min': 81.46666666666667,\n",
       "  'calories': 765.0,\n",
       "  'calories_per_min': 9.390343698854338,\n",
       "  'calories_per_hour': 563.4206219312603},\n",
       " {'year': '2025',\n",
       "  'month': '01',\n",
       "  'duration_min': 91.41666666666667,\n",
       "  'calories': 814.0,\n",
       "  'calories_per_min': 8.904284412032816,\n",
       "  'calories_per_hour': 534.257064721969},\n",
       " {'year': '2025',\n",
       "  'month': '01',\n",
       "  'duration_min': 98.96666666666667,\n",
       "  'calories': 769.0,\n",
       "  'calories_per_min': 7.770293027955541,\n",
       "  'calories_per_hour': 466.2175816773324},\n",
       " {'year': '2025',\n",
       "  'month': '01',\n",
       "  'duration_min': 90.43333333333334,\n",
       "  'calories': 702.0,\n",
       "  'calories_per_min': 7.762624401032068,\n",
       "  'calories_per_hour': 465.75746406192405},\n",
       " {'year': '2025',\n",
       "  'month': '01',\n",
       "  'duration_min': 78.91666666666667,\n",
       "  'calories': 822.0,\n",
       "  'calories_per_min': 10.416050686378036,\n",
       "  'calories_per_hour': 624.9630411826821},\n",
       " {'year': '2025',\n",
       "  'month': '01',\n",
       "  'duration_min': 96.6,\n",
       "  'calories': 898.0,\n",
       "  'calories_per_min': 9.296066252587993,\n",
       "  'calories_per_hour': 557.7639751552796},\n",
       " {'year': '2025',\n",
       "  'month': '02',\n",
       "  'duration_min': 112.21666666666667,\n",
       "  'calories': 892.0,\n",
       "  'calories_per_min': 7.948908361800089,\n",
       "  'calories_per_hour': 476.9345017080053},\n",
       " {'year': '2025',\n",
       "  'month': '02',\n",
       "  'duration_min': 65.95,\n",
       "  'calories': 655.0,\n",
       "  'calories_per_min': 9.931766489764973,\n",
       "  'calories_per_hour': 595.9059893858984},\n",
       " {'year': '2025',\n",
       "  'month': '02',\n",
       "  'duration_min': 112.23333333333333,\n",
       "  'calories': 681.0,\n",
       "  'calories_per_min': 6.067716067716067,\n",
       "  'calories_per_hour': 364.06296406296406},\n",
       " {'year': '2025',\n",
       "  'month': '02',\n",
       "  'duration_min': 112.21666666666667,\n",
       "  'calories': 850.0,\n",
       "  'calories_per_min': 7.574632407544928,\n",
       "  'calories_per_hour': 454.4779444526957},\n",
       " {'year': '2025',\n",
       "  'month': '02',\n",
       "  'duration_min': 89.8,\n",
       "  'calories': 715.0,\n",
       "  'calories_per_min': 7.962138084632517,\n",
       "  'calories_per_hour': 477.72828507795106},\n",
       " {'year': '2025',\n",
       "  'month': '02',\n",
       "  'duration_min': 117.76666666666667,\n",
       "  'calories': 800.0,\n",
       "  'calories_per_min': 6.793093688083782,\n",
       "  'calories_per_hour': 407.5856212850269},\n",
       " {'year': '2025',\n",
       "  'month': '02',\n",
       "  'duration_min': 104.83333333333333,\n",
       "  'calories': 789.0,\n",
       "  'calories_per_min': 7.526232114467409,\n",
       "  'calories_per_hour': 451.57392686804457},\n",
       " {'year': '2025',\n",
       "  'month': '02',\n",
       "  'duration_min': 105.88333333333334,\n",
       "  'calories': 775.0,\n",
       "  'calories_per_min': 7.319376672438218,\n",
       "  'calories_per_hour': 439.16260034629306},\n",
       " {'year': '2025',\n",
       "  'month': '02',\n",
       "  'duration_min': 123.13333333333334,\n",
       "  'calories': 770.0,\n",
       "  'calories_per_min': 6.253383865728208,\n",
       "  'calories_per_hour': 375.20303194369245},\n",
       " {'year': '2025',\n",
       "  'month': '02',\n",
       "  'duration_min': 115.25,\n",
       "  'calories': 862.0,\n",
       "  'calories_per_min': 7.479392624728851,\n",
       "  'calories_per_hour': 448.76355748373106},\n",
       " {'year': '2025',\n",
       "  'month': '02',\n",
       "  'duration_min': 111.93333333333334,\n",
       "  'calories': 902.0,\n",
       "  'calories_per_min': 8.058368076235855,\n",
       "  'calories_per_hour': 483.5020845741513},\n",
       " {'year': '2025',\n",
       "  'month': '02',\n",
       "  'duration_min': 121.2,\n",
       "  'calories': 853.0,\n",
       "  'calories_per_min': 7.037953795379538,\n",
       "  'calories_per_hour': 422.2772277227723},\n",
       " {'year': '2025',\n",
       "  'month': '02',\n",
       "  'duration_min': 132.46666666666667,\n",
       "  'calories': 934.0,\n",
       "  'calories_per_min': 7.050830397584297,\n",
       "  'calories_per_hour': 423.04982385505787},\n",
       " {'year': '2025',\n",
       "  'month': '02',\n",
       "  'duration_min': 133.85,\n",
       "  'calories': 762.0,\n",
       "  'calories_per_min': 5.692939858050056,\n",
       "  'calories_per_hour': 341.57639148300336},\n",
       " {'year': '2025',\n",
       "  'month': '02',\n",
       "  'duration_min': 108.66666666666667,\n",
       "  'calories': 722.0,\n",
       "  'calories_per_min': 6.644171779141104,\n",
       "  'calories_per_hour': 398.6503067484662},\n",
       " {'year': '2025',\n",
       "  'month': '02',\n",
       "  'duration_min': 92.68333333333334,\n",
       "  'calories': 664.0,\n",
       "  'calories_per_min': 7.164179104477611,\n",
       "  'calories_per_hour': 429.8507462686567},\n",
       " {'year': '2025',\n",
       "  'month': '03',\n",
       "  'duration_min': 52.85,\n",
       "  'calories': 407.0,\n",
       "  'calories_per_min': 7.701040681173131,\n",
       "  'calories_per_hour': 462.0624408703879},\n",
       " {'year': '2025',\n",
       "  'month': '03',\n",
       "  'duration_min': 121.18333333333334,\n",
       "  'calories': 926.0,\n",
       "  'calories_per_min': 7.641314812267914,\n",
       "  'calories_per_hour': 458.47888873607485},\n",
       " {'year': '2025',\n",
       "  'month': '03',\n",
       "  'duration_min': 118.95,\n",
       "  'calories': 869.0,\n",
       "  'calories_per_min': 7.305590584279109,\n",
       "  'calories_per_hour': 438.3354350567465},\n",
       " {'year': '2025',\n",
       "  'month': '03',\n",
       "  'duration_min': 16.0,\n",
       "  'calories': 143.0,\n",
       "  'calories_per_min': 8.9375,\n",
       "  'calories_per_hour': 536.25},\n",
       " {'year': '2025',\n",
       "  'month': '03',\n",
       "  'duration_min': 123.65,\n",
       "  'calories': 1016.0,\n",
       "  'calories_per_min': 8.216740800646987,\n",
       "  'calories_per_hour': 493.0044480388192},\n",
       " {'year': '2025',\n",
       "  'month': '03',\n",
       "  'duration_min': 58.53333333333333,\n",
       "  'calories': 350.0,\n",
       "  'calories_per_min': 5.979498861047836,\n",
       "  'calories_per_hour': 358.7699316628702},\n",
       " {'year': '2025',\n",
       "  'month': '03',\n",
       "  'duration_min': 131.35,\n",
       "  'calories': 1021.0,\n",
       "  'calories_per_min': 7.773125237913971,\n",
       "  'calories_per_hour': 466.3875142748382},\n",
       " {'year': '2025',\n",
       "  'month': '03',\n",
       "  'duration_min': 94.55,\n",
       "  'calories': 629.0,\n",
       "  'calories_per_min': 6.6525647805393975,\n",
       "  'calories_per_hour': 399.15388683236387},\n",
       " {'year': '2025',\n",
       "  'month': '03',\n",
       "  'duration_min': 94.35,\n",
       "  'calories': 929.0,\n",
       "  'calories_per_min': 9.846316905140435,\n",
       "  'calories_per_hour': 590.7790143084261},\n",
       " {'year': '2025',\n",
       "  'month': '03',\n",
       "  'duration_min': 109.0,\n",
       "  'calories': 1033.0,\n",
       "  'calories_per_min': 9.477064220183486,\n",
       "  'calories_per_hour': 568.6238532110092},\n",
       " {'year': '2025',\n",
       "  'month': '03',\n",
       "  'duration_min': 100.06666666666666,\n",
       "  'calories': 773.0,\n",
       "  'calories_per_min': 7.724850099933378,\n",
       "  'calories_per_hour': 463.4910059960027},\n",
       " {'year': '2025',\n",
       "  'month': '04',\n",
       "  'duration_min': 100.2,\n",
       "  'calories': 825.0,\n",
       "  'calories_per_min': 8.233532934131736,\n",
       "  'calories_per_hour': 494.01197604790417},\n",
       " {'year': '2025',\n",
       "  'month': '04',\n",
       "  'duration_min': 122.51666666666667,\n",
       "  'calories': 1017.0,\n",
       "  'calories_per_min': 8.300911440620323,\n",
       "  'calories_per_hour': 498.0546864372194},\n",
       " {'year': '2025',\n",
       "  'month': '04',\n",
       "  'duration_min': 124.66666666666667,\n",
       "  'calories': 1050.0,\n",
       "  'calories_per_min': 8.422459893048128,\n",
       "  'calories_per_hour': 505.34759358288767},\n",
       " {'year': '2025',\n",
       "  'month': '04',\n",
       "  'duration_min': 20.616666666666667,\n",
       "  'calories': 190.0,\n",
       "  'calories_per_min': 9.21584478577203,\n",
       "  'calories_per_hour': 552.9506871463218},\n",
       " {'year': '2025',\n",
       "  'month': '04',\n",
       "  'duration_min': 112.06666666666666,\n",
       "  'calories': 1132.0,\n",
       "  'calories_per_min': 10.101130279595479,\n",
       "  'calories_per_hour': 606.0678167757287},\n",
       " {'year': '2025',\n",
       "  'month': '04',\n",
       "  'duration_min': 150.21666666666667,\n",
       "  'calories': 908.0,\n",
       "  'calories_per_min': 6.044602241207145,\n",
       "  'calories_per_hour': 362.6761344724287},\n",
       " {'year': '2025',\n",
       "  'month': '04',\n",
       "  'duration_min': 122.95,\n",
       "  'calories': 1145.0,\n",
       "  'calories_per_min': 9.31272875152501,\n",
       "  'calories_per_hour': 558.7637250915005},\n",
       " {'year': '2025',\n",
       "  'month': '04',\n",
       "  'duration_min': 120.38333333333334,\n",
       "  'calories': 967.0,\n",
       "  'calories_per_min': 8.032673404402603,\n",
       "  'calories_per_hour': 481.9604042641562},\n",
       " {'year': '2025',\n",
       "  'month': '04',\n",
       "  'duration_min': 122.53333333333333,\n",
       "  'calories': 1061.0,\n",
       "  'calories_per_min': 8.658868335146899,\n",
       "  'calories_per_hour': 519.5321001088139},\n",
       " {'year': '2025',\n",
       "  'month': '04',\n",
       "  'duration_min': 132.38333333333333,\n",
       "  'calories': 1164.0,\n",
       "  'calories_per_min': 8.792647614251543,\n",
       "  'calories_per_hour': 527.5588568550926},\n",
       " {'year': '2025',\n",
       "  'month': '04',\n",
       "  'duration_min': 113.81666666666666,\n",
       "  'calories': 836.0,\n",
       "  'calories_per_min': 7.3451457021525846,\n",
       "  'calories_per_hour': 440.7087421291551},\n",
       " {'year': '2025',\n",
       "  'month': '04',\n",
       "  'duration_min': 10.5,\n",
       "  'calories': 71.0,\n",
       "  'calories_per_min': 6.761904761904762,\n",
       "  'calories_per_hour': 405.7142857142857},\n",
       " {'year': '2025',\n",
       "  'month': '04',\n",
       "  'duration_min': 100.0,\n",
       "  'calories': 840.0,\n",
       "  'calories_per_min': 8.4,\n",
       "  'calories_per_hour': 504.0},\n",
       " {'year': '2025',\n",
       "  'month': '04',\n",
       "  'duration_min': 120.96666666666667,\n",
       "  'calories': 970.0,\n",
       "  'calories_per_min': 8.018737944337284,\n",
       "  'calories_per_hour': 481.124276660237},\n",
       " {'year': '2025',\n",
       "  'month': '04',\n",
       "  'duration_min': 110.26666666666667,\n",
       "  'calories': 887.0,\n",
       "  'calories_per_min': 8.044135429262393,\n",
       "  'calories_per_hour': 482.6481257557436},\n",
       " {'year': '2025',\n",
       "  'month': '04',\n",
       "  'duration_min': 84.45,\n",
       "  'calories': 771.0,\n",
       "  'calories_per_min': 9.129662522202487,\n",
       "  'calories_per_hour': 547.7797513321492},\n",
       " {'year': '2025',\n",
       "  'month': '05',\n",
       "  'duration_min': 113.9,\n",
       "  'calories': 862.0,\n",
       "  'calories_per_min': 7.568042142230026,\n",
       "  'calories_per_hour': 454.08252853380156},\n",
       " {'year': '2025',\n",
       "  'month': '05',\n",
       "  'duration_min': 92.36666666666666,\n",
       "  'calories': 613.0,\n",
       "  'calories_per_min': 6.636593287621798,\n",
       "  'calories_per_hour': 398.1955972573079},\n",
       " {'year': '2025',\n",
       "  'month': '05',\n",
       "  'duration_min': 118.81666666666666,\n",
       "  'calories': 701.0,\n",
       "  'calories_per_min': 5.899845700659279,\n",
       "  'calories_per_hour': 353.9907420395567},\n",
       " {'year': '2025',\n",
       "  'month': '05',\n",
       "  'duration_min': 130.4,\n",
       "  'calories': 1140.0,\n",
       "  'calories_per_min': 8.742331288343557,\n",
       "  'calories_per_hour': 524.5398773006134},\n",
       " {'year': '2025',\n",
       "  'month': '05',\n",
       "  'duration_min': 113.55,\n",
       "  'calories': 893.0,\n",
       "  'calories_per_min': 7.864376926464113,\n",
       "  'calories_per_hour': 471.86261558784673},\n",
       " {'year': '2025',\n",
       "  'month': '05',\n",
       "  'duration_min': 110.61666666666666,\n",
       "  'calories': 840.0,\n",
       "  'calories_per_min': 7.5937923760735275,\n",
       "  'calories_per_hour': 455.62754256441167},\n",
       " {'year': '2025',\n",
       "  'month': '05',\n",
       "  'duration_min': 94.86666666666666,\n",
       "  'calories': 637.0,\n",
       "  'calories_per_min': 6.714687280393536,\n",
       "  'calories_per_hour': 402.88123682361214},\n",
       " {'year': '2025',\n",
       "  'month': '05',\n",
       "  'duration_min': 118.06666666666666,\n",
       "  'calories': 795.0,\n",
       "  'calories_per_min': 6.733483907396951,\n",
       "  'calories_per_hour': 404.0090344438171},\n",
       " {'year': '2025',\n",
       "  'month': '05',\n",
       "  'duration_min': 80.23333333333333,\n",
       "  'calories': 794.0,\n",
       "  'calories_per_min': 9.89613626921479,\n",
       "  'calories_per_hour': 593.7681761528873},\n",
       " {'year': '2025',\n",
       "  'month': '05',\n",
       "  'duration_min': 149.45,\n",
       "  'calories': 986.0,\n",
       "  'calories_per_min': 6.597524255603881,\n",
       "  'calories_per_hour': 395.85145533623285},\n",
       " {'year': '2025',\n",
       "  'month': '05',\n",
       "  'duration_min': 109.0,\n",
       "  'calories': 832.0,\n",
       "  'calories_per_min': 7.63302752293578,\n",
       "  'calories_per_hour': 457.98165137614683},\n",
       " {'year': '2025',\n",
       "  'month': '05',\n",
       "  'duration_min': 77.6,\n",
       "  'calories': 672.0,\n",
       "  'calories_per_min': 8.659793814432991,\n",
       "  'calories_per_hour': 519.5876288659795},\n",
       " {'year': '2025',\n",
       "  'month': '05',\n",
       "  'duration_min': 132.95,\n",
       "  'calories': 629.0,\n",
       "  'calories_per_min': 4.731101918014292,\n",
       "  'calories_per_hour': 283.8661150808575},\n",
       " {'year': '2025',\n",
       "  'month': '05',\n",
       "  'duration_min': 93.08333333333333,\n",
       "  'calories': 710.0,\n",
       "  'calories_per_min': 7.627573858549687,\n",
       "  'calories_per_hour': 457.65443151298126},\n",
       " {'year': '2025',\n",
       "  'month': '05',\n",
       "  'duration_min': 118.81666666666666,\n",
       "  'calories': 971.0,\n",
       "  'calories_per_min': 8.172254173095807,\n",
       "  'calories_per_hour': 490.3352503857484},\n",
       " {'year': '2025',\n",
       "  'month': '05',\n",
       "  'duration_min': 137.35,\n",
       "  'calories': 993.0,\n",
       "  'calories_per_min': 7.229705132872224,\n",
       "  'calories_per_hour': 433.78230797233346},\n",
       " {'year': '2025',\n",
       "  'month': '05',\n",
       "  'duration_min': 127.2,\n",
       "  'calories': 1007.0,\n",
       "  'calories_per_min': 7.916666666666666,\n",
       "  'calories_per_hour': 474.99999999999994},\n",
       " {'year': '2025',\n",
       "  'month': '05',\n",
       "  'duration_min': 142.3,\n",
       "  'calories': 1055.0,\n",
       "  'calories_per_min': 7.41391426563598,\n",
       "  'calories_per_hour': 444.8348559381588},\n",
       " {'year': '2025',\n",
       "  'month': '06',\n",
       "  'duration_min': 154.26666666666668,\n",
       "  'calories': 1069.0,\n",
       "  'calories_per_min': 6.929559204840103,\n",
       "  'calories_per_hour': 415.7735522904062},\n",
       " {'year': '2025',\n",
       "  'month': '06',\n",
       "  'duration_min': 112.51666666666667,\n",
       "  'calories': 794.0,\n",
       "  'calories_per_min': 7.05673233595023,\n",
       "  'calories_per_hour': 423.4039401570138},\n",
       " {'year': '2025',\n",
       "  'month': '06',\n",
       "  'duration_min': 120.0,\n",
       "  'calories': 771.0,\n",
       "  'calories_per_min': 6.425,\n",
       "  'calories_per_hour': 385.5},\n",
       " {'year': '2025',\n",
       "  'month': '06',\n",
       "  'duration_min': 143.95,\n",
       "  'calories': 827.0,\n",
       "  'calories_per_min': 5.745050364709969,\n",
       "  'calories_per_hour': 344.70302188259814},\n",
       " {'year': '2025',\n",
       "  'month': '06',\n",
       "  'duration_min': 87.05,\n",
       "  'calories': 750.0,\n",
       "  'calories_per_min': 8.61573808156232,\n",
       "  'calories_per_hour': 516.9442848937392},\n",
       " {'year': '2025',\n",
       "  'month': '06',\n",
       "  'duration_min': 111.01666666666667,\n",
       "  'calories': 964.0,\n",
       "  'calories_per_min': 8.683380873742681,\n",
       "  'calories_per_hour': 521.0028524245608},\n",
       " {'year': '2025',\n",
       "  'month': '06',\n",
       "  'duration_min': 151.16666666666666,\n",
       "  'calories': 849.0,\n",
       "  'calories_per_min': 5.616317530319736,\n",
       "  'calories_per_hour': 336.9790518191842},\n",
       " {'year': '2025',\n",
       "  'month': '06',\n",
       "  'duration_min': 121.16666666666667,\n",
       "  'calories': 647.0,\n",
       "  'calories_per_min': 5.339752407152682,\n",
       "  'calories_per_hour': 320.3851444291609},\n",
       " {'year': '2025',\n",
       "  'month': '06',\n",
       "  'duration_min': 125.08333333333333,\n",
       "  'calories': 784.0,\n",
       "  'calories_per_min': 6.26782145236509,\n",
       "  'calories_per_hour': 376.0692871419054},\n",
       " {'year': '2025',\n",
       "  'month': '06',\n",
       "  'duration_min': 90.51666666666667,\n",
       "  'calories': 861.0,\n",
       "  'calories_per_min': 9.512060394034249,\n",
       "  'calories_per_hour': 570.7236236420549},\n",
       " {'year': '2025',\n",
       "  'month': '06',\n",
       "  'duration_min': 133.81666666666666,\n",
       "  'calories': 786.0,\n",
       "  'calories_per_min': 5.87370780919168,\n",
       "  'calories_per_hour': 352.4224685515008},\n",
       " {'year': '2025',\n",
       "  'month': '07',\n",
       "  'duration_min': 191.36666666666667,\n",
       "  'calories': 1069.0,\n",
       "  'calories_per_min': 5.586134819717819,\n",
       "  'calories_per_hour': 335.1680891830692},\n",
       " {'year': '2025',\n",
       "  'month': '07',\n",
       "  'duration_min': 73.88333333333334,\n",
       "  'calories': 813.0,\n",
       "  'calories_per_min': 11.003834874802616,\n",
       "  'calories_per_hour': 660.230092488157},\n",
       " {'year': '2025',\n",
       "  'month': '07',\n",
       "  'duration_min': 164.13333333333333,\n",
       "  'calories': 1389.0,\n",
       "  'calories_per_min': 8.462632006498781,\n",
       "  'calories_per_hour': 507.7579203899269},\n",
       " {'year': '2025',\n",
       "  'month': '07',\n",
       "  'duration_min': 72.91666666666667,\n",
       "  'calories': 344.0,\n",
       "  'calories_per_min': 4.717714285714285,\n",
       "  'calories_per_hour': 283.0628571428571},\n",
       " {'year': '2025',\n",
       "  'month': '07',\n",
       "  'duration_min': 53.6,\n",
       "  'calories': 881.0,\n",
       "  'calories_per_min': 16.436567164179102,\n",
       "  'calories_per_hour': 986.1940298507461},\n",
       " {'year': '2025',\n",
       "  'month': '07',\n",
       "  'duration_min': 98.63333333333334,\n",
       "  'calories': 940.0,\n",
       "  'calories_per_min': 9.530246704967894,\n",
       "  'calories_per_hour': 571.8148022980736},\n",
       " {'year': '2025',\n",
       "  'month': '07',\n",
       "  'duration_min': 93.28333333333333,\n",
       "  'calories': 811.0,\n",
       "  'calories_per_min': 8.693943183848491,\n",
       "  'calories_per_hour': 521.6365910309095},\n",
       " {'year': '2025',\n",
       "  'month': '07',\n",
       "  'duration_min': 89.93333333333334,\n",
       "  'calories': 871.0,\n",
       "  'calories_per_min': 9.684951816160119,\n",
       "  'calories_per_hour': 581.0971089696071},\n",
       " {'year': '2025',\n",
       "  'month': '07',\n",
       "  'duration_min': 98.46666666666667,\n",
       "  'calories': 838.0,\n",
       "  'calories_per_min': 8.510494245091401,\n",
       "  'calories_per_hour': 510.6296547054841},\n",
       " {'year': '2025',\n",
       "  'month': '07',\n",
       "  'duration_min': 89.11666666666666,\n",
       "  'calories': 739.0,\n",
       "  'calories_per_min': 8.292500467551898,\n",
       "  'calories_per_hour': 497.55002805311386},\n",
       " {'year': '2025',\n",
       "  'month': '07',\n",
       "  'duration_min': 96.13333333333334,\n",
       "  'calories': 882.0,\n",
       "  'calories_per_min': 9.174757281553397,\n",
       "  'calories_per_hour': 550.4854368932038}]"
      ]
     },
     "execution_count": 4,
     "metadata": {},
     "output_type": "execute_result"
    }
   ],
   "source": [
    "def duration_to_minutes(duration_str):\n",
    "    # Format: HH:MM:SS\n",
    "    h, m, s = map(int, duration_str.split(\":\"))\n",
    "    return h * 60 + m + s / 60\n",
    "\n",
    "\n",
    "def safe_float(val):\n",
    "    try:\n",
    "        return float(val)\n",
    "    except (ValueError, TypeError):\n",
    "        return None\n",
    "\n",
    "\n",
    "calories_stats = []\n",
    "for year, months in data.items():\n",
    "    for month, workouts in months.items():\n",
    "        for workout in workouts:\n",
    "            meta = workout[\"metadata\"]\n",
    "            sport = meta.get(\"Sport\", \"\").upper()\n",
    "            if sport in [\"OTHER_INDOOR\", \"STRENGTH_TRAINING\"]:\n",
    "                duration = meta.get(\"Duration\")\n",
    "                calories = meta.get(\"Calories\")\n",
    "                duration_min = duration_to_minutes(duration) if duration else None\n",
    "                calories_val = safe_float(calories) if calories else None\n",
    "                if duration_min and calories_val:\n",
    "                    cal_per_min = calories_val / duration_min\n",
    "                    cal_per_hour = cal_per_min * 60\n",
    "                    calories_stats.append(\n",
    "                        {\n",
    "                            \"year\": year,\n",
    "                            \"month\": month,\n",
    "                            \"duration_min\": duration_min,\n",
    "                            \"calories\": calories_val,\n",
    "                            \"calories_per_min\": cal_per_min,\n",
    "                            \"calories_per_hour\": cal_per_hour,\n",
    "                        }\n",
    "                    )\n",
    "calories_stats"
   ]
  },
  {
   "cell_type": "code",
   "execution_count": 5,
   "id": "399e8f8b",
   "metadata": {},
   "outputs": [
    {
     "data": {
      "application/vnd.plotly.v1+json": {
       "config": {
        "plotlyServerURL": "https://plot.ly"
       },
       "data": [
        {
         "customdata": [
          [
           "2022",
           307,
           415.02065339842284
          ],
          [
           "2022",
           477,
           527.3955773955774
          ],
          [
           "2022",
           356,
           493.8728323699422
          ],
          [
           "2022",
           388,
           588.1263157894737
          ],
          [
           "2022",
           149,
           516.7630057803468
          ],
          [
           "2023",
           885,
           512.4658195271031
          ],
          [
           "2023",
           434,
           404.1386445938955
          ],
          [
           "2023",
           469,
           514.7560975609756
          ],
          [
           "2023",
           14,
           110.28446389496716
          ],
          [
           "2023",
           567,
           445.3851189177395
          ],
          [
           "2023",
           685,
           612.214498510427
          ],
          [
           "2023",
           128,
           664.9350649350649
          ],
          [
           "2023",
           144,
           714.0495867768595
          ],
          [
           "2023",
           123,
           559.0909090909091
          ],
          [
           "2023",
           540,
           424.91803278688525
          ],
          [
           "2023",
           589,
           579.8195242001641
          ],
          [
           "2023",
           608,
           476.3438520130577
          ],
          [
           "2023",
           9,
           87.33153638814015
          ],
          [
           "2023",
           369,
           820
          ],
          [
           "2023",
           494,
           515.3288901767604
          ],
          [
           "2023",
           406,
           500.2053388090349
          ],
          [
           "2023",
           524,
           441.2631578947368
          ],
          [
           "2023",
           409,
           400.6530612244898
          ],
          [
           "2023",
           560,
           534.6062052505966
          ],
          [
           "2023",
           490,
           488.37209302325584
          ],
          [
           "2024",
           629,
           451.1655708308428
          ],
          [
           "2024",
           728,
           474.18129184005795
          ],
          [
           "2024",
           617,
           469.6976104884754
          ],
          [
           "2024",
           718,
           498.22667694680024
          ],
          [
           "2024",
           464,
           477.3935410117176
          ],
          [
           "2024",
           494,
           392.5827814569536
          ],
          [
           "2024",
           328,
           291.699604743083
          ],
          [
           "2024",
           448,
           448.4983314794216
          ],
          [
           "2024",
           554,
           520.8670671193523
          ],
          [
           "2024",
           629,
           517.3406442769019
          ],
          [
           "2024",
           613,
           475.8085381630013
          ],
          [
           "2024",
           566,
           475.40830611292574
          ],
          [
           "2024",
           373,
           286.2502664677041
          ],
          [
           "2024",
           531,
           384.1639871382637
          ],
          [
           "2024",
           466,
           362.95975768065773
          ],
          [
           "2024",
           286,
           299.73799126637556
          ],
          [
           "2024",
           589,
           504.8571428571429
          ],
          [
           "2024",
           519,
           458.0534444716842
          ],
          [
           "2024",
           553,
           491.91994069681243
          ]
         ],
         "hovertemplate": "month=09<br>duration_min=%{x}<br>calories_per_min=%{y}<br>year=%{customdata[0]}<br>calories=%{customdata[1]}<br>calories_per_hour=%{customdata[2]}<extra></extra>",
         "legendgroup": "09",
         "marker": {
          "color": "#636efa",
          "symbol": "circle"
         },
         "mode": "markers",
         "name": "09",
         "orientation": "v",
         "showlegend": true,
         "type": "scatter",
         "x": {
          "bdata": "ERERERExRkAiIiIiIiJLQAAAAAAAoEVAq6qqqqrKQ0DNzMzMzEwxQHd3d3d351lAvLu7u7sbUEBVVVVVVVVLQHh3d3d3dx5AiYiIiIgYU0CJiIiIiMhQQJqZmZmZGSdAMzMzMzMzKEBmZmZmZmYqQAAAAAAAEFNAmpmZmZl5TkBVVVVVVSVTQLy7u7u7uxhAAAAAAAAAO0AiIiIiIsJMQJqZmZmZWUhAAAAAAADQUUAAAAAAAKBOQM3MzMzMbE9AmpmZmZkZTkCamZmZmelUQHd3d3d3B1dARERERES0U0De3d3d3Z1VQImIiIiIKE1AAAAAAADgUkDe3d3d3d1QQHd3d3d3901AiYiIiIjoT0DNzMzMzDxSQDMzMzMzU1NAvLu7u7vbUUC8u7u7u4tTQLy7u7u7u1RAIiIiIiJCU0AAAAAAAKBMQAAAAAAAgFFA7+7u7u7+UEDNzMzMzNxQQA==",
          "dtype": "f8"
         },
         "xaxis": "x",
         "y": {
          "bdata": "RA0a5wSrG0DT9/o3cZQhQKBkLKphdiBA3myCiq2aI0BBpPUCtjkhQJE5OqoKFSFAsV5JrkzxGkCpXYnalSghQFyKQbPAaP0/Z3PiRj2xHUCST6n6OmgkQHOoWNAcKiZAK0y8HznNJ0Cjiy666KIiQEOwjjbvUxxARmbzE8tTI0DPHbMLmsEfQB9m5DfVSfc/VVVVVVVVK0BQcGIjeS0hQJalczxrrCBArtaFJ+RqHUAUGUjvz7UaQMz/WBP50SFAEnfEHXFHIEDh+ed05BMeQJM0F62xnB9Av9JjLCxQH0AfYInIiJsgQNF2+DSE0x9AUbAoWBQsGkCILQ8FV3ITQJf6MBxf5h1AVl5peLtcIUBeB9Lhoz4hQF8tSzl3uB9A7chSlaKxH0CbVl9/VhUTQLX8GxJmnBlAK4DtYIMyGEASMDFEh/sTQEId1EEd1CBAWLwpCXKJHkAwGv6Bt2UgQA==",
          "dtype": "f8"
         },
         "yaxis": "y"
        },
        {
         "customdata": [
          [
           "2022",
           510,
           500.8183306055646
          ],
          [
           "2022",
           248,
           267.7061469265367
          ],
          [
           "2022",
           371,
           399.7605507333134
          ],
          [
           "2022",
           275,
           304.52168563518916
          ],
          [
           "2022",
           96,
           211.89454322501533
          ],
          [
           "2022",
           220,
           360.8200455580865
          ],
          [
           "2022",
           627,
           521.8959537572255
          ],
          [
           "2022",
           333,
           459.8388952819333
          ],
          [
           "2022",
           370,
           468.6840253342716
          ],
          [
           "2022",
           402,
           480.31861931629606
          ],
          [
           "2022",
           307,
           258.64732038380527
          ],
          [
           "2022",
           227,
           318.2242990654206
          ],
          [
           "2022",
           264,
           354.6268656716418
          ],
          [
           "2022",
           55,
           269.3877551020408
          ],
          [
           "2022",
           565,
           566.5738161559889
          ],
          [
           "2022",
           279,
           482.65257087938494
          ],
          [
           "2022",
           231,
           279.06040268456377
          ],
          [
           "2022",
           424,
           491.59420289855075
          ],
          [
           "2023",
           686,
           403.0026109660574
          ],
          [
           "2023",
           202,
           208.0091533180778
          ],
          [
           "2023",
           414,
           412.5103791862718
          ],
          [
           "2023",
           556,
           523.8419261973306
          ],
          [
           "2023",
           217,
           250.1440922190202
          ],
          [
           "2023",
           71,
           449.20913884007035
          ],
          [
           "2023",
           428,
           363.3962264150943
          ],
          [
           "2023",
           349,
           588.2022471910111
          ],
          [
           "2023",
           633,
           645.3695836873407
          ],
          [
           "2023",
           472,
           303.2661074424415
          ],
          [
           "2023",
           501,
           532.349468713105
          ],
          [
           "2023",
           634,
           538.5559226050023
          ],
          [
           "2023",
           538,
           454.0084388185654
          ],
          [
           "2023",
           467,
           549.0529065969955
          ],
          [
           "2023",
           570,
           425.46133112170844
          ],
          [
           "2023",
           584,
           579.652605459057
          ],
          [
           "2023",
           547,
           459.1280018652367
          ],
          [
           "2023",
           4,
           214.92537313432837
          ],
          [
           "2023",
           678,
           594.4471505114467
          ],
          [
           "2024",
           819,
           595.1554299555914
          ],
          [
           "2024",
           383,
           334.49781659388645
          ],
          [
           "2024",
           1041,
           613.1544502617802
          ],
          [
           "2024",
           1094,
           512.3455184077012
          ],
          [
           "2024",
           716,
           580.6713223699031
          ],
          [
           "2024",
           549,
           492.37668161434976
          ],
          [
           "2024",
           944,
           602.5531914893617
          ],
          [
           "2024",
           605,
           488.12191842223217
          ],
          [
           "2024",
           876,
           620.1769911504425
          ],
          [
           "2024",
           858,
           568.0029422581831
          ],
          [
           "2024",
           927,
           564.6700507614213
          ],
          [
           "2024",
           781,
           627.5892857142857
          ],
          [
           "2024",
           302,
           497.5743707093822
          ],
          [
           "2024",
           626,
           614.7299509001637
          ],
          [
           "2024",
           739,
           537.563144069509
          ],
          [
           "2024",
           981,
           601.9430714163967
          ],
          [
           "2024",
           557,
           488.2395909422936
          ],
          [
           "2024",
           686,
           453.2207744540283
          ],
          [
           "2024",
           1084,
           542.1505973881633
          ],
          [
           "2024",
           578,
           459.135039717564
          ]
         ],
         "hovertemplate": "month=10<br>duration_min=%{x}<br>calories_per_min=%{y}<br>year=%{customdata[0]}<br>calories=%{customdata[1]}<br>calories_per_hour=%{customdata[2]}<extra></extra>",
         "legendgroup": "10",
         "marker": {
          "color": "#EF553B",
          "symbol": "circle"
         },
         "mode": "markers",
         "name": "10",
         "orientation": "v",
         "showlegend": true,
         "type": "scatter",
         "x": {
          "bdata": "zczMzMyMTkCrqqqqqspLQHd3d3d310tAd3d3d3cXS0Dv7u7u7i47QKuqqqqqSkJAVVVVVVUFUkCamZmZmblFQO/u7u7urkdAvLu7u7sbSUDe3d3d3c1RQGZmZmZmZkVAVVVVVVVVRkAAAAAAAIAoQKuqqqqq6k1Ad3d3d3dXQUBVVVVVVdVIQAAAAAAA4ElAiYiIiIiIWUAiIiIiIiJNQLy7u7u7G05Ad3d3d3fXT0BmZmZmZgZKQHd3d3d39yJAq6qqqqqqUUDNzMzMzMxBQM3MzMzMbE1AiYiIiIhYV0C8u7u7uztMQImIiIiIqFFAZmZmZmbGUUBERERERIRJQImIiIiIGFRAmpmZmZk5TkDv7u7u7t5RQN7d3d3d3fE/vLu7u7sbUUBERERERKRUQM3MzMzMLFFAd3d3d3d3WUC8u7u7uwNgQO/u7u7uflJAmpmZmZm5UEAAAAAAAIBXQHd3d3d3l1JAAAAAAAAwVUCJiIiIiKhWQAAAAAAAoFhAq6qqqqqqUkBVVVVVVTVCQM3MzMzMjE5A7+7u7u6eVEAiIiIiInJYQM3MzMzMHFFARERERES0VkDe3d3d3f1dQCIiIiIi4lJA",
          "dtype": "f8"
         },
         "xaxis": "x",
         "y": {
          "bdata": "cZtPVqaxIEB+gsQA2tgRQAsJMn+UphpAjLrFiytNFEB7TnTFqkAMQNA2btX+DRhAKxGGG4NlIUBn+hbK6qceQInjlcDfPh9AuBzWCLgCIEA5GctiPz4RQNE7dS0HNxVA2i38akykF0B9aKwPjfURQLepHmPD4iJAID4noaIWIEBi69uAoZoSQFxqNuzvYiBA28kuRundGkD5+Fu3C7wLQINf7FgtgBtAaF8wJh52IUD84hU3IK0QQGUpxKyA8h1AaoLxVvY5GECpTW1qU5sjQOqsLV4ngyVArghW1703FEB/hs0ot74hQLgvY12t8yFAwursImlEHkDjQlBgQE0iQI9bdes0XRxAPpg5cF5SI0CVREPZyJseQPGrMZEeqAxAhZF9nZ3QI0BAiRDgqNYjQCKcs0LDTBZA8rTHVUBwJECsG/fcAxQhQNJ1A9wPWyNATeMGRp1pIEAQkyuIyRUkQL95/ZlORSBA1cJKTy2sJEC+BV1c9e4iQJBdWIyE0iJAtm3btm3rJEC50XLM95UgQPztmBGyfSRAV8hjmzTrIUDqkku0lBAkQP2mO6lPRiBAiDA/x/c2HkCt9zoNWhIiQNCj95jnmx5A",
          "dtype": "f8"
         },
         "yaxis": "y"
        },
        {
         "customdata": [
          [
           "2022",
           421,
           378.0493888750312
          ],
          [
           "2022",
           36,
           133.47064881565396
          ],
          [
           "2022",
           194,
           272.0685625243475
          ],
          [
           "2022",
           504,
           408.740707366524
          ],
          [
           "2022",
           317,
           295.4945624029001
          ],
          [
           "2022",
           285,
           304.3607238208247
          ],
          [
           "2022",
           159,
           159.53177257525084
          ],
          [
           "2022",
           128,
           136.21046408513155
          ],
          [
           "2022",
           43,
           196.44670050761422
          ],
          [
           "2023",
           591,
           522.8803145736053
          ],
          [
           "2023",
           401,
           373.8927738927739
          ],
          [
           "2023",
           476,
           455.5023923444976
          ],
          [
           "2023",
           418,
           743.1111111111111
          ],
          [
           "2023",
           531,
           448.41660802251937
          ],
          [
           "2023",
           172,
           694.949494949495
          ],
          [
           "2023",
           635,
           386.40973630831644
          ],
          [
           "2023",
           45,
           121.0762331838565
          ],
          [
           "2023",
           338,
           778.5028790786948
          ],
          [
           "2023",
           188,
           350.85536547433907
          ],
          [
           "2023",
           247,
           673.1264193792582
          ],
          [
           "2023",
           261,
           401.1955593509821
          ],
          [
           "2023",
           229,
           226.23490669593852
          ],
          [
           "2023",
           546,
           405.0278178446322
          ],
          [
           "2023",
           738,
           472.06823027718553
          ],
          [
           "2023",
           674,
           570.2467685076381
          ],
          [
           "2023",
           519,
           492.33201581027674
          ],
          [
           "2023",
           237,
           420.29556650246303
          ],
          [
           "2023",
           705,
           443.31877729257644
          ],
          [
           "2023",
           265,
           784.5394736842105
          ],
          [
           "2023",
           52,
           510.0817438692099
          ],
          [
           "2023",
           224,
           188.85245901639342
          ],
          [
           "2023",
           705,
           626.2028127313102
          ],
          [
           "2023",
           175,
           166.71077004498545
          ],
          [
           "2023",
           578,
           639.6557024285275
          ],
          [
           "2023",
           514,
           577.8888194878201
          ],
          [
           "2023",
           284,
           473.99165507649514
          ],
          [
           "2023",
           624,
           551.2638036809815
          ],
          [
           "2023",
           338,
           484.7808764940239
          ],
          [
           "2023",
           445,
           461.40552995391704
          ],
          [
           "2023",
           436,
           469.94011976047904
          ],
          [
           "2024",
           837,
           492.9167348274169
          ],
          [
           "2024",
           698,
           462.4217887375782
          ],
          [
           "2024",
           899,
           590.7995618838992
          ],
          [
           "2024",
           933,
           616.4066801247936
          ],
          [
           "2024",
           577,
           468.7880839539608
          ],
          [
           "2024",
           1137,
           564.9689440993789
          ],
          [
           "2024",
           850,
           451.59386068476977
          ],
          [
           "2024",
           739,
           540.0730816077954
          ],
          [
           "2024",
           934,
           544.8711716091395
          ],
          [
           "2024",
           854,
           566.6052340582381
          ],
          [
           "2024",
           994,
           594.3198804185351
          ],
          [
           "2024",
           789,
           544.450833812536
          ],
          [
           "2024",
           784,
           504.2701447203859
          ],
          [
           "2024",
           821,
           539.9342345633905
          ],
          [
           "2024",
           541,
           501.95876288659787
          ],
          [
           "2024",
           774,
           529.9353366298973
          ],
          [
           "2024",
           968,
           497.40222666286047
          ]
         ],
         "hovertemplate": "month=11<br>duration_min=%{x}<br>calories_per_min=%{y}<br>year=%{customdata[0]}<br>calories=%{customdata[1]}<br>calories_per_hour=%{customdata[2]}<extra></extra>",
         "legendgroup": "11",
         "marker": {
          "color": "#00cc96",
          "symbol": "circle"
         },
         "mode": "markers",
         "name": "11",
         "orientation": "v",
         "showlegend": true,
         "type": "scatter",
         "x": {
          "bdata": "RERERES0UEDv7u7u7i4wQEREREREZEVA7+7u7u5+UkB3d3d3dxdQQHd3d3d3F0xAZmZmZmbmTUARERERETFMQERERERERCpARERERET0UEBmZmZmZhZQQJqZmZmZWU9AAAAAAADgQEAzMzMzM8NRQDMzMzMzsy1AZmZmZmamWEDNzMzMzEw2QM3MzMzMDDpAMzMzMzMTQEBERERERAQ2QEREREREhENA3t3d3d1dTkCJiIiIiDhUQDMzMzMzc1dAq6qqqqq6UUAAAAAAAKBPQKuqqqqq6kBAq6qqqqraV0BEREREREQ0QHd3d3d3dxhAq6qqqqrKUUAzMzMzM+NQQN7d3d3dfU9AvLu7u7sbS0Dv7u7u7q5KQJqZmZmZ+UFAq6qqqqr6UECrqqqqqupEQO/u7u7u7kxAVVVVVVXVS0CJiIiIiHhZQEREREREpFZAMzMzMzPTVkBERERERLRWQGZmZmZmdlJAAAAAAAAwXkC8u7u7uztcQGZmZmZmhlRAZmZmZma2WUC8u7u7u5tWQGZmZmZmFllAzczMzMy8VUAiIiIiIlJXQO/u7u7uzlZAq6qqqqoqUECJiIiIiOhVQBERERERMV1A",
          "dtype": "f8"
         },
         "xaxis": "x",
         "y": {
          "bdata": "gby4+wo0GUB54k9TzMsBQHPJBLBNIxJAs4pdZtc/G0CiwFlxG7MTQHDSB0tsShRAS3tQ5llFBUCme1IyUSkCQIH5QHZhMQpAZNz9eeltIUAvA5B0Gu0YQA2gqFHoXR5AU4wa/jbFKEDbVA0O+uQdQEf+MVY8KidAzFgJ5rnCGUAmAeFEvCQAQEYpTH058ylA7uRre+5jF0D0P8YZA3AmQGkxKiUSvxpADFuExyYqDkCEh7uJeQAbQEJovZGheB9AkarzEhsCI0DkSxmzO2kgQEd1iVkLBRxAyEnmSvmNHUBsKK+hvCYqQNspfJKyACFAWEeb9ykuCUAWeffqmN8kQKY5z+9kOgZAswMtNGVSJUAjJJ5jUUMjQNUH9iN1mR9ALfKTJx5gIkACmuv7yyggQJ4KT4Wnwh5ALk5rtk9UH0DOfqwJOW4gQJ1hhJ//0x5Ayr8UVn2xI0BmEIvwAIwkQHBzLmSmQB9AiWqdfRHVIkCgsv+uMxseQJaDMqafACJAtdCbPJEpIkB/wEgFCOMiQGBX5ZaHzyNAZdOs/volIkAFca3wGs8gQBJaTVVw/yFAWZ5EpmG7IEBdAUpoHaohQPQmhb5/lCBA",
          "dtype": "f8"
         },
         "yaxis": "y"
        },
        {
         "customdata": [
          [
           "2022",
           260,
           264.03385049365306
          ],
          [
           "2022",
           280,
           351.3419309864064
          ],
          [
           "2022",
           312,
           305.0516023900054
          ],
          [
           "2022",
           108,
           108.6944366787811
          ],
          [
           "2022",
           281,
           326.00708991298745
          ],
          [
           "2022",
           26,
           30.548302872062663
          ],
          [
           "2022",
           385,
           475.9615384615385
          ],
          [
           "2022",
           429,
           371.42857142857144
          ],
          [
           "2022",
           458,
           465.2370203160271
          ],
          [
           "2022",
           445,
           463.4075788255713
          ],
          [
           "2022",
           252,
           252.42070116861436
          ],
          [
           "2022",
           409,
           408.09312638580934
          ],
          [
           "2022",
           266,
           488.3222845486997
          ],
          [
           "2022",
           444,
           416.9014084507042
          ],
          [
           "2022",
           512,
           597.4716369529984
          ],
          [
           "2022",
           178,
           264.4655385885266
          ],
          [
           "2022",
           338,
           446.04105571847504
          ],
          [
           "2023",
           463,
           546.3126843657817
          ],
          [
           "2023",
           537,
           465.0469088284821
          ],
          [
           "2023",
           803,
           680.8290155440415
          ],
          [
           "2023",
           154,
           263.1229235880399
          ],
          [
           "2023",
           116,
           135.54040895813048
          ],
          [
           "2023",
           1172,
           645.0389848646996
          ],
          [
           "2023",
           789,
           549.9322362052275
          ],
          [
           "2023",
           524,
           634.2972427706792
          ],
          [
           "2023",
           660,
           593.9999999999999
          ],
          [
           "2023",
           461,
           613.3037694013303
          ],
          [
           "2023",
           789,
           587.2234856315899
          ],
          [
           "2023",
           717,
           463.9942477080712
          ],
          [
           "2023",
           109,
           159.5770638470923
          ],
          [
           "2023",
           963,
           730.9297912713473
          ],
          [
           "2023",
           521,
           470.5469141996989
          ],
          [
           "2023",
           913,
           572.4137931034483
          ],
          [
           "2023",
           733,
           529.8795180722891
          ],
          [
           "2023",
           268,
           460.52505966587114
          ],
          [
           "2023",
           149,
           290.8893709327549
          ],
          [
           "2023",
           99,
           222.47191011235955
          ],
          [
           "2023",
           185,
           318.66028708133973
          ],
          [
           "2024",
           798,
           650.5434782608696
          ],
          [
           "2024",
           813,
           385.5110642781876
          ],
          [
           "2024",
           725,
           552.2640710960644
          ],
          [
           "2024",
           672,
           549.1940976163451
          ],
          [
           "2024",
           867,
           497.71966193589543
          ],
          [
           "2024",
           1398,
           593.8407079646017
          ],
          [
           "2024",
           1140,
           607.8199052132701
          ],
          [
           "2024",
           900,
           506.0918462980318
          ],
          [
           "2024",
           1087,
           584.4086021505377
          ],
          [
           "2024",
           900,
           506.01280649695457
          ],
          [
           "2024",
           926,
           588.0402187334627
          ],
          [
           "2024",
           768,
           626.6545784224842
          ],
          [
           "2024",
           844,
           537.1994342291372
          ],
          [
           "2024",
           1118,
           623.0340557275541
          ],
          [
           "2024",
           1054,
           601.7126546146527
          ],
          [
           "2024",
           1040,
           522.4672062517443
          ],
          [
           "2024",
           883,
           533.0873721281234
          ],
          [
           "2024",
           652,
           425.0633828323071
          ]
         ],
         "hovertemplate": "month=12<br>duration_min=%{x}<br>calories_per_min=%{y}<br>year=%{customdata[0]}<br>calories=%{customdata[1]}<br>calories_per_hour=%{customdata[2]}<extra></extra>",
         "legendgroup": "12",
         "marker": {
          "color": "#ab63fa",
          "symbol": "circle"
         },
         "mode": "markers",
         "name": "12",
         "orientation": "v",
         "showlegend": true,
         "type": "scatter",
         "x": {
          "bdata": "q6qqqqqKTUCJiIiIiOhHQO/u7u7urk5A7+7u7u7OTUC8u7u7u9tJQImIiIiIiElARERERERESEAzMzMzM1NRQImIiIiIiE1A7+7u7u7OTEAzMzMzM/NNQBEREREREU5Ad3d3d3dXQEAzMzMzM/NPQFVVVVVVtUlAERERERExREC8u7u7u7tGQM3MzMzMbElAIiIiIiJSUUAREREREbFRQO/u7u7ujkFAzczMzMysSUAREREREUFbQFVVVVVVhVVAiYiIiIjISECrqqqqqqpQQM3MzMzMjEZAd3d3d3cnVEDe3d3d3S1XQN7d3d3dfURAMzMzMzPDU0C8u7u7u5tQQM3MzMzM7FdAAAAAAADAVEBVVVVVVXVBQLy7u7u7uz5AMzMzMzOzOkCrqqqqqmpBQGZmZmZmZlJAIiIiIiKiX0AREREREbFTQKuqqqqqWlJAEREREREhWkAAAAAAAKhhQCIiIiIiIlxAzczMzMysWkBmZmZmZuZbQN7d3d3drVpA7+7u7u6eV0AiIiIiImJSQBERERERkVdAq6qqqqrqWkBmZmZmZkZaQLy7u7u7211AiYiIiIjYWEAiIiIiIgJXQA==",
          "dtype": "f8"
         },
         "xaxis": "x",
         "y": {
          "bdata": "xHq8fi2aEUDIAbxRPGwXQCIqock2VhRAMavo9TT8/D+1saq12rsVQCKzDJPcSuA/shM7sRO7H0AxDMMwDMMYQGVjvI4LBB9AQ/UQm9LkHkB/gRff+tMQQDWhTBPKNBtAMn3ZTgRHIEC5zgQMHssbQMGw5rRs6iNAKnOykYuhEUC88cYbb7wdQDqz+ETeNSJAw/Ki8swAH0AF/MKtvbEmQGM8PZihihFA1jdgKnISAkB8oeopVYAlQC6WEk3BVCJAm8RWeKskJUDMzMzMzMwjQHFoGIeGcSRAM1xKR/mSI0B2jRrN1e4eQHypLKnlRgVAXsBMfkRdKED8woLWql4fQJBJ8QKZFCNAKwZKeKOpIUBvOfavoLMeQFUD4g2DZBNA29SmNrWpDUAWjswJeD4VQKc3velNryVANrtiimOzGUAlHalFp2giQKLyDdB0TiJAOgcxMTWXIEANtzzScMsjQDlL9te6QiRArBMKgqbeIEDR61kS9HojQPRix9f53SBAfcOLdfGZI0CfG6fQc+MkQH/LGhIa6CFA3yKcqY7EJEAqT+FZnQ4kQHzKEgdjaiFAxlxNIgPFIUDfytRBalYcQA==",
          "dtype": "f8"
         },
         "yaxis": "y"
        },
        {
         "customdata": [
          [
           "2023",
           697,
           462.01436199594923
          ],
          [
           "2023",
           483,
           499.79879275653917
          ],
          [
           "2023",
           270,
           314.35963777490304
          ],
          [
           "2023",
           405,
           375.38619979402677
          ],
          [
           "2023",
           57,
           55.042918454935624
          ],
          [
           "2023",
           666,
           394.21243012167054
          ],
          [
           "2023",
           264,
           288.6122077133313
          ],
          [
           "2023",
           201,
           418.2658959537572
          ],
          [
           "2023",
           339,
           339
          ],
          [
           "2023",
           596,
           569.1246684350133
          ],
          [
           "2023",
           221,
           319.26163723916534
          ],
          [
           "2023",
           388,
           432.4458204334365
          ],
          [
           "2023",
           363,
           357.04918032786884
          ],
          [
           "2023",
           51,
           137.1172516803585
          ],
          [
           "2023",
           464,
           494.49378330373
          ],
          [
           "2023",
           366,
           411.75
          ],
          [
           "2023",
           395,
           361.1887223774448
          ],
          [
           "2024",
           352,
           273.4570565386275
          ],
          [
           "2024",
           416,
           622.4438902743143
          ],
          [
           "2024",
           543,
           472.8592162554427
          ],
          [
           "2024",
           181,
           239.3828067597355
          ],
          [
           "2024",
           498,
           416.44599303135885
          ],
          [
           "2024",
           576,
           530.1968805931986
          ],
          [
           "2024",
           355,
           248.58976852752383
          ],
          [
           "2024",
           775,
           538.1944444444443
          ],
          [
           "2024",
           584,
           487.0048644892286
          ],
          [
           "2024",
           533,
           303.3196332595637
          ],
          [
           "2024",
           319,
           481.71140939597313
          ],
          [
           "2024",
           681,
           568.0259499536608
          ],
          [
           "2024",
           728,
           570.483239007401
          ],
          [
           "2024",
           121,
           131.60120845921452
          ],
          [
           "2024",
           651,
           492.249527410208
          ],
          [
           "2024",
           115,
           136.7239101717305
          ],
          [
           "2024",
           889,
           570.5829916206097
          ],
          [
           "2024",
           274,
           210.9946524064171
          ],
          [
           "2024",
           1005,
           490.7759088442757
          ],
          [
           "2024",
           429,
           381.99356913183277
          ],
          [
           "2024",
           252,
           304.1233657391887
          ],
          [
           "2024",
           522,
           547.3929507719196
          ],
          [
           "2024",
           869,
           490.42169619062554
          ],
          [
           "2024",
           350,
           543.3376455368693
          ],
          [
           "2024",
           641,
           530.3608365892899
          ],
          [
           "2024",
           538,
           408.86637112096264
          ],
          [
           "2025",
           900,
           429.0822407628129
          ],
          [
           "2025",
           897,
           468.61123204179364
          ],
          [
           "2025",
           730,
           488.8392857142857
          ],
          [
           "2025",
           1102,
           642.7738172391446
          ],
          [
           "2025",
           9,
           211.76470588235296
          ],
          [
           "2025",
           747,
           608.5539714867616
          ],
          [
           "2025",
           876,
           496.16110761485214
          ],
          [
           "2025",
           646,
           502.5064822817631
          ],
          [
           "2025",
           1111,
           532.7117741076186
          ],
          [
           "2025",
           512,
           518.62689926843
          ],
          [
           "2025",
           900,
           483.65427675772503
          ],
          [
           "2025",
           1020,
           548.3052112886367
          ],
          [
           "2025",
           851,
           565.031353744006
          ],
          [
           "2025",
           5,
           272.7272727272727
          ],
          [
           "2025",
           802,
           458.50404954740355
          ],
          [
           "2025",
           1084,
           495.4170369429986
          ],
          [
           "2025",
           765,
           563.4206219312603
          ],
          [
           "2025",
           814,
           534.257064721969
          ],
          [
           "2025",
           769,
           466.2175816773324
          ],
          [
           "2025",
           702,
           465.75746406192405
          ],
          [
           "2025",
           822,
           624.9630411826821
          ],
          [
           "2025",
           898,
           557.7639751552796
          ]
         ],
         "hovertemplate": "month=01<br>duration_min=%{x}<br>calories_per_min=%{y}<br>year=%{customdata[0]}<br>calories=%{customdata[1]}<br>calories_per_hour=%{customdata[2]}<extra></extra>",
         "legendgroup": "01",
         "marker": {
          "color": "#FFA15A",
          "symbol": "circle"
         },
         "mode": "markers",
         "name": "01",
         "orientation": "v",
         "showlegend": true,
         "type": "scatter",
         "x": {
          "bdata": "ERERERGhVkDe3d3d3f1MQERERERExElA7+7u7u4uUEARERERERFPQHd3d3d3V1lAERERERFxS0BVVVVVVdU8QAAAAAAAAE5Aq6qqqqpqT0BERERERMREQKuqqqqq6kpAAAAAAACATkAREREREVE2QGZmZmZmJkxAq6qqqqqqSkB3d3d3d2dQQO/u7u7uTlNAzczMzMwMRECamZmZmTlRQO/u7u7urkZAAAAAAADwUUC8u7u7u0tQQLy7u7u7a1VAmpmZmZmZVUDNzMzMzPxRQLy7u7u7W1pA3t3d3d3dQ0C8u7u7u/tRQEREREREJFNAVVVVVVWVS0BmZmZmZtZTQLy7u7u7O0lA7+7u7u5eV0CrqqqqqnpTQHd3d3d3t15AiYiIiIjYUEC8u7u7u9tIQLy7u7u7m0xARERERESUWkAzMzMzM1NDQBERERERIVJAzczMzMy8U0BmZmZmZnZfQGZmZmZmtlxAZmZmZmZmVkB3d3d3d7dZQGZmZmZmZgRAmpmZmZlpUkC8u7u7u3taQImIiIiISFNAiYiIiIhIX0De3d3d3Z1NQJqZmZmZ6VtAd3d3d3fnW0B3d3d3d5dWQJqZmZmZmfE/zczMzMw8WkAREREREWlgQN7d3d3dXVRAq6qqqqraVkDe3d3d3b1YQLy7u7u7m1ZAq6qqqqq6U0BmZmZmZiZYQA==",
          "dtype": "f8"
         },
         "xaxis": "x",
         "y": {
          "bdata": "FalrjAvNHkBnp2sf86ggQCi1+TYS9RRAelYoVZcGGUCM2SpxMVvtP2DzVWPkRxpAqqzv+aU9E0DY5nSVZ+IbQJqZmZmZmRZAQtcbz4f4IkBepJBgu0gVQAqRg55o1BxAcckQrKPNF0BT8NXTREgCQOXTGieueyBAMzMzMzNzG0CKAnmbSRQYQADsSBwAOxJA6MUqbYW/JEAGn5RwIYYfQEKzF+Lu6g9Aeql+TljDG0DYTEbCWKwhQMkPd0WZkhBACe0ltJfwIUBnIydcxjsgQCb48rKnOBRA69uAoZoOIECcAjOfJ+8iQBQZ16YfBCNA9C8G6PyLAUB88T2Ah2ggQImCxsHXOgJAjHqLkPkEI0Ah3MRn8yEMQINcAlX0WyBAspGpXlt3GUAUnoJCX0YUQF+LuyUWPyJADpbviu5YIEDAjKsyexwiQLUBHe2+rSFAtz/lbvxBG0CZC1bqAJscQKCEqrahPR9At23btm1LIEDVkl3UAG0lQD08PDw8PAxAS42Tb/5IJED5GHF66IkgQBqbJykOwCBASDaqoM7BIUCzdb+/nUkhQALVruMuHyBAa17KAt9GIkChK57TmdUiQC666KKLLhJA5aRowiKRHkBOYfYHj4MgQOCOGSHbxyJAVO3PXf7OIUCanw2yxxQfQN1BNmntDB9ArPF2mATVJEAhofD+lZciQA==",
          "dtype": "f8"
         },
         "yaxis": "y"
        },
        {
         "customdata": [
          [
           "2023",
           316,
           234.5083487940631
          ],
          [
           "2023",
           426,
           445.42550101655536
          ],
          [
           "2023",
           310,
           371.5046604527297
          ],
          [
           "2023",
           196,
           302.4432061723103
          ],
          [
           "2023",
           14,
           30.92024539877301
          ],
          [
           "2023",
           391,
           376.9683985002678
          ],
          [
           "2023",
           500,
           501.1135857461024
          ],
          [
           "2023",
           307,
           446.00484261501214
          ],
          [
           "2023",
           83,
           96.88715953307393
          ],
          [
           "2023",
           414,
           478.9203084832905
          ],
          [
           "2023",
           428,
           534.4432882414152
          ],
          [
           "2023",
           316,
           351.65378670788255
          ],
          [
           "2023",
           510,
           458.6560079940045
          ],
          [
           "2023",
           305,
           356.8410789730257
          ],
          [
           "2023",
           555,
           457.9417831767133
          ],
          [
           "2023",
           504,
           596.8421052631579
          ],
          [
           "2023",
           232,
           417.80890445222605
          ],
          [
           "2023",
           343,
           331.93548387096774
          ],
          [
           "2023",
           562,
           496.00392253003184
          ],
          [
           "2023",
           367,
           371.12359550561797
          ],
          [
           "2023",
           534,
           531.637168141593
          ],
          [
           "2024",
           213,
           335.72679509632223
          ],
          [
           "2024",
           457,
           387.47056052755534
          ],
          [
           "2024",
           357,
           392.66727772685607
          ],
          [
           "2024",
           409,
           365.17857142857144
          ],
          [
           "2024",
           620,
           558.9782118707739
          ],
          [
           "2024",
           590,
           525.7425742574258
          ],
          [
           "2024",
           1042,
           870.5500116036204
          ],
          [
           "2024",
           346,
           277.0462633451957
          ],
          [
           "2024",
           796,
           611.7847993168232
          ],
          [
           "2024",
           166,
           173.67044463818658
          ],
          [
           "2024",
           11,
           242.94478527607362
          ],
          [
           "2024",
           597,
           511.592477981433
          ],
          [
           "2024",
           403,
           557.3568958893584
          ],
          [
           "2024",
           367,
           302.5417907029998
          ],
          [
           "2024",
           415,
           426.36986301369865
          ],
          [
           "2024",
           722,
           472.92576419213975
          ],
          [
           "2024",
           402,
           361.79999999999995
          ],
          [
           "2024",
           93,
           114.5398563120082
          ],
          [
           "2024",
           471,
           504.192685102587
          ],
          [
           "2024",
           30,
           82.56880733944953
          ],
          [
           "2024",
           506,
           455.17241379310343
          ],
          [
           "2025",
           892,
           476.9345017080053
          ],
          [
           "2025",
           655,
           595.9059893858984
          ],
          [
           "2025",
           681,
           364.06296406296406
          ],
          [
           "2025",
           850,
           454.4779444526957
          ],
          [
           "2025",
           715,
           477.72828507795106
          ],
          [
           "2025",
           800,
           407.5856212850269
          ],
          [
           "2025",
           789,
           451.57392686804457
          ],
          [
           "2025",
           775,
           439.16260034629306
          ],
          [
           "2025",
           770,
           375.20303194369245
          ],
          [
           "2025",
           862,
           448.76355748373106
          ],
          [
           "2025",
           902,
           483.5020845741513
          ],
          [
           "2025",
           853,
           422.2772277227723
          ],
          [
           "2025",
           934,
           423.04982385505787
          ],
          [
           "2025",
           762,
           341.57639148300336
          ],
          [
           "2025",
           722,
           398.6503067484662
          ],
          [
           "2025",
           664,
           429.8507462686567
          ]
         ],
         "hovertemplate": "month=02<br>duration_min=%{x}<br>calories_per_min=%{y}<br>year=%{customdata[0]}<br>calories=%{customdata[1]}<br>calories_per_hour=%{customdata[2]}<extra></extra>",
         "legendgroup": "02",
         "marker": {
          "color": "#19d3f3",
          "symbol": "circle"
         },
         "mode": "markers",
         "name": "02",
         "orientation": "v",
         "showlegend": true,
         "type": "scatter",
         "x": {
          "bdata": "ZmZmZmY2VEAREREREbFMQImIiIiICElAERERERFxQ0Crqqqqqio7QN7d3d3dHU9A7+7u7u7uTUBmZmZmZqZEQDMzMzMzs0lA7+7u7u7uSUBmZmZmZgZIQFVVVVVV9UpA3t3d3d2tUEBERERERKRJQN7d3d3dLVJAVVVVVVVVSUCJiIiIiKhAQAAAAAAAAE9A7+7u7u7+UECrqqqqqqpNQCIiIiIiIk5AiYiIiIgIQ0AREREREbFRQGZmZmZmRktAzczMzMzMUEAzMzMzM6NQQFVVVVVV1VBARERERET0UUC8u7u7u7tSQEREREREhFNAzczMzMysTEC8u7u7u7sFQBERERERgVFAERERERGxRUAiIiIiIjJSQDMzMzMzM01AZmZmZmbmVkCrqqqqqqpQQLy7u7u7W0hAZmZmZmYGTEDNzMzMzMw1QM3MzMzMrFBA3t3d3d0NXEDNzMzMzHxQQO/u7u7uDlxA3t3d3d0NXEAzMzMzM3NWQBERERERcV1AVVVVVVU1WkCJiIiIiHhaQImIiIiIyF5AAAAAAADQXEC8u7u7u/tbQM3MzMzMTF5A7+7u7u6OYEAzMzMzM7tgQKuqqqqqKltAvLu7u7srV0A=",
          "dtype": "f8"
         },
         "xaxis": "x",
         "y": {
          "bdata": "o+0zOI1ED0A1Xn+17bEdQBES5aBYxBhASX/Yh7IpFEBrFHHopH3gP8FGdBCYIRlA1wb0VCu0IEAMRhvk0LsdQCrWKdYp1vk/dBB7wZLtH0Dhc40tldAhQOJTdNaOcRdAquANrbqTHkBg5qN2FsoXQM5kHi6Khx5AUV5DeQ3lI0CfUx31mtobQCGEEEIIIRZAi84rGpGIIEDsXve6170YQDKKcx2juCFAdU7jv7xhFkAaPte11NQZQGoUo4OFLRpAhmEYhmFYGEAUDVSJ8qEiQOSuny1WhiFAFFXIhLEELUD4cCSYQXgSQMuFdEmQZCRAkLRVgPMnB0DEoZP2QTIQQBhUPNKWDSFAPNS2txyUIkAU2MZAYSsUQMyWLVu2bBxA4xEwMUSHH0AehetRuB4YQGmhpxJBi/4/7JkeunHOIEBLYNN+sgT2P2qE5Z5GWB5AS1Qzoq7LH0A7GVJ/EN0jQFUEYVxXRRhAQ4IWcGxMHkBU7t65OtkfQHvvc8AgLBtARfhml9waHkDp6KytCkcdQP2LYg93AxlAtp105uXqHUB6IKVr4h0gQCKoF1zdJhxAphE94gw0HEDzrbEGksUWQDCrUcShkxpA8KsxkR6oHEA=",
          "dtype": "f8"
         },
         "yaxis": "y"
        },
        {
         "customdata": [
          [
           "2023",
           395,
           445.9078080903105
          ],
          [
           "2023",
           435,
           469.00269541778977
          ],
          [
           "2023",
           460,
           487.4889608478069
          ],
          [
           "2023",
           217,
           360.99815157116444
          ],
          [
           "2023",
           537,
           471.3972201901975
          ],
          [
           "2023",
           232,
           461.94690265486724
          ],
          [
           "2023",
           235,
           373.8400353513036
          ],
          [
           "2023",
           424,
           441.538906566387
          ],
          [
           "2023",
           547,
           510.8171206225681
          ],
          [
           "2023",
           372,
           405.8181818181818
          ],
          [
           "2023",
           401,
           292.93831168831167
          ],
          [
           "2023",
           377,
           451.797603195739
          ],
          [
           "2023",
           413,
           460.16713091922
          ],
          [
           "2023",
           391,
           269.91371045062317
          ],
          [
           "2023",
           289,
           307.7196095829636
          ],
          [
           "2023",
           530,
           525.9095920617419
          ],
          [
           "2023",
           430,
           492.2098569157393
          ],
          [
           "2023",
           476,
           476
          ],
          [
           "2023",
           109,
           111.85860889395667
          ],
          [
           "2024",
           227,
           246.21874058451343
          ],
          [
           "2024",
           385,
           614.089499335401
          ],
          [
           "2024",
           504,
           664.1288433382138
          ],
          [
           "2024",
           252,
           481.27320954907157
          ],
          [
           "2024",
           546,
           560
          ],
          [
           "2024",
           6,
           141.1764705882353
          ],
          [
           "2024",
           522,
           442.06069160197603
          ],
          [
           "2024",
           616,
           543.2631063204312
          ],
          [
           "2024",
           508,
           389.6037494674052
          ],
          [
           "2024",
           359,
           307.0563079116179
          ],
          [
           "2024",
           299,
           294.90410958904107
          ],
          [
           "2024",
           25,
           391.30434782608694
          ],
          [
           "2024",
           676,
           479.4326241134752
          ],
          [
           "2024",
           384,
           306.9271758436945
          ],
          [
           "2024",
           327,
           650.0276090557703
          ],
          [
           "2024",
           470,
           503.8713519952352
          ],
          [
           "2024",
           403,
           603.9966694421315
          ],
          [
           "2024",
           427,
           389.95433789954336
          ],
          [
           "2024",
           721,
           565.3670224351993
          ],
          [
           "2024",
           470,
           569.50521709862
          ],
          [
           "2024",
           553,
           414.5772594752187
          ],
          [
           "2024",
           368,
           331.9468804810825
          ],
          [
           "2024",
           513,
           374.14910858995137
          ],
          [
           "2024",
           396,
           345.26519738435456
          ],
          [
           "2025",
           407,
           462.0624408703879
          ],
          [
           "2025",
           926,
           458.47888873607485
          ],
          [
           "2025",
           869,
           438.3354350567465
          ],
          [
           "2025",
           143,
           536.25
          ],
          [
           "2025",
           1016,
           493.0044480388192
          ],
          [
           "2025",
           350,
           358.7699316628702
          ],
          [
           "2025",
           1021,
           466.3875142748382
          ],
          [
           "2025",
           629,
           399.15388683236387
          ],
          [
           "2025",
           929,
           590.7790143084261
          ],
          [
           "2025",
           1033,
           568.6238532110092
          ],
          [
           "2025",
           773,
           463.4910059960027
          ]
         ],
         "hovertemplate": "month=03<br>duration_min=%{x}<br>calories_per_min=%{y}<br>year=%{customdata[0]}<br>calories=%{customdata[1]}<br>calories_per_hour=%{customdata[2]}<extra></extra>",
         "legendgroup": "03",
         "marker": {
          "color": "#FF6692",
          "symbol": "circle"
         },
         "mode": "markers",
         "name": "03",
         "orientation": "v",
         "showlegend": true,
         "type": "scatter",
         "x": {
          "bdata": "MzMzMzOTSkAzMzMzM9NLQO/u7u7uTkxAiYiIiIgIQkBmZmZmZhZRQCIiIiIiIj5AvLu7u7vbQkDv7u7u7s5MQAAAAAAAEFBAAAAAAACAS0CJiIiIiIhUQImIiIiICElAzczMzMzsSkCrqqqqqrpVQM3MzMzMLExAvLu7u7s7TkBVVVVVVTVKQAAAAAAAAE5AvLu7u7s7TUCJiIiIiKhLQO/u7u7uzkJARERERETERkCrqqqqqmo/QAAAAAAAQE1AZmZmZmZmBEBmZmZmZrZRQCIiIiIiAlFA7+7u7u6OU0CamZmZmYlRQKuqqqqqak5Aq6qqqqqqDkBmZmZmZiZVQERERERExFJA7+7u7u4uPkC8u7u7u/tLQEREREREBERAzczMzMxsUEARERERESFTQCIiIiIiwkhAIiIiIiICVEAREREREaFQQBERERERkVRAREREREQ0UUDNzMzMzGxKQLy7u7u7S15AzczMzMy8XUAAAAAAAAAwQJqZmZmZ6V5ARERERERETUAzMzMzM2tgQDMzMzMzo1dAZmZmZmaWV0AAAAAAAEBbQEREREREBFlA",
          "dtype": "f8"
         },
         "xaxis": "x",
         "y": {
          "bdata": "s+3T8Ci6HUC0WQoLUEQfQG5pdeLnPyBAjE6i/QgRGEAKe6nhLW0fQE2+bNDkyx5AR5+ACTTsGEDk8jDrmG8dQPkG+Qb5BiFADmvfsPYNG0DsHVMDe4cTQNLKI9mtHh5A43pv34StHkBP1MX+hv4RQE0dKX2/gxRA7+2/CMOHIUA4u+TWMGggQLy7u7u7ux9A3ijE4DbU/T+rL5oXImoQQDBrH/s6eCRAYu6MmDsjJkD9I2Ne3QogQKuqqqqqqiJA09LS0tLSAkCJ19+hgHgdQHOnUV3YGyJAThlIwTz5GUAdusx6bXgUQJC6DrcHqRNAIQtZyEIWGkBrMNAYUfYfQBPSBks5dhRAtg3F+uaqJUAqB5/Ds8sgQFvljNsaIiRA8x/Ofzj/GUCL3icbd9giQESqWCHH+yJADsJkr3OjG0AFCPUMOiEWQB9tEWZ68RhAPtpAqoYEF0B2N7ub3c0eQDeGhNS0kB5A+Mb1vOw4HUAAAAAAAOAhQK/5dKb4biBAx63avwHrF0D9NXIkrhcfQKXAG/E5nBpAnUILc1CxI0BEj+/CQfQiQGHdxho/5h5A",
          "dtype": "f8"
         },
         "yaxis": "y"
        },
        {
         "customdata": [
          [
           "2023",
           101,
           725.748502994012
          ],
          [
           "2023",
           299,
           317.61581587488934
          ],
          [
           "2023",
           159,
           155.1219512195122
          ],
          [
           "2023",
           289,
           358.5113714679531
          ],
          [
           "2023",
           174,
           395.7043588123816
          ],
          [
           "2023",
           355,
           653.0403679100664
          ],
          [
           "2023",
           142,
           716.9705469845723
          ],
          [
           "2023",
           158,
           769.6887686062247
          ],
          [
           "2023",
           373,
           633.9943342776204
          ],
          [
           "2023",
           155,
           816.9838945827233
          ],
          [
           "2023",
           392,
           279.3902197584637
          ],
          [
           "2023",
           9,
           229.78723404255317
          ],
          [
           "2023",
           301,
           388.805166846071
          ],
          [
           "2023",
           326,
           350.6423662981775
          ],
          [
           "2023",
           6,
           89.6265560165975
          ],
          [
           "2023",
           392,
           490.6815020862309
          ],
          [
           "2023",
           422,
           912.9807692307692
          ],
          [
           "2023",
           389,
           729.7550807712349
          ],
          [
           "2023",
           203,
           259.2408655551614
          ],
          [
           "2023",
           215,
           261.3981762917933
          ],
          [
           "2023",
           62,
           174.64788732394365
          ],
          [
           "2023",
           60,
           175.3246753246753
          ],
          [
           "2023",
           313,
           348.3153013910355
          ],
          [
           "2023",
           90,
           462.8571428571429
          ],
          [
           "2024",
           815,
           477.92800130314384
          ],
          [
           "2024",
           482,
           402.0389249304912
          ],
          [
           "2024",
           621,
           465.9441433930805
          ],
          [
           "2024",
           444,
           612.883435582822
          ],
          [
           "2024",
           508,
           429.90126939351194
          ],
          [
           "2024",
           534,
           554.6451240623197
          ],
          [
           "2024",
           811,
           472.1979621542941
          ],
          [
           "2024",
           623,
           461.5764560609179
          ],
          [
           "2024",
           597,
           498.88579387186627
          ],
          [
           "2024",
           636,
           542.4307036247335
          ],
          [
           "2024",
           449,
           462.35697940503434
          ],
          [
           "2024",
           628,
           546.7472793228536
          ],
          [
           "2024",
           538,
           409.90476190476187
          ],
          [
           "2024",
           605,
           428.1501867505406
          ],
          [
           "2024",
           242,
           243.41994970662196
          ],
          [
           "2024",
           633,
           566.8656716417911
          ],
          [
           "2025",
           825,
           494.01197604790417
          ],
          [
           "2025",
           1017,
           498.0546864372194
          ],
          [
           "2025",
           1050,
           505.34759358288767
          ],
          [
           "2025",
           190,
           552.9506871463218
          ],
          [
           "2025",
           1132,
           606.0678167757287
          ],
          [
           "2025",
           908,
           362.6761344724287
          ],
          [
           "2025",
           1145,
           558.7637250915005
          ],
          [
           "2025",
           967,
           481.9604042641562
          ],
          [
           "2025",
           1061,
           519.5321001088139
          ],
          [
           "2025",
           1164,
           527.5588568550926
          ],
          [
           "2025",
           836,
           440.7087421291551
          ],
          [
           "2025",
           71,
           405.7142857142857
          ],
          [
           "2025",
           840,
           504
          ],
          [
           "2025",
           970,
           481.124276660237
          ],
          [
           "2025",
           887,
           482.6481257557436
          ],
          [
           "2025",
           771,
           547.7797513321492
          ]
         ],
         "hovertemplate": "month=04<br>duration_min=%{x}<br>calories_per_min=%{y}<br>year=%{customdata[0]}<br>calories=%{customdata[1]}<br>calories_per_hour=%{customdata[2]}<extra></extra>",
         "legendgroup": "04",
         "marker": {
          "color": "#B6E880",
          "symbol": "circle"
         },
         "mode": "markers",
         "name": "04",
         "orientation": "v",
         "showlegend": true,
         "type": "scatter",
         "x": {
          "bdata": "MzMzMzOzIEDe3d3d3T1MQAAAAAAAwE5A7+7u7u4uSEAiIiIiImI6QO/u7u7uTkBARERERETEJ0AiIiIiIqIoQGZmZmZmpkFARERERETEJkC8u7u7uwtVQM3MzMzMzAJAmpmZmZk5R0BERERERORLQBERERERERBAd3d3d3f3R0C8u7u7u7s7QLy7u7u7+z9A3t3d3d19R0DNzMzMzKxIQM3MzMzMTDVAiYiIiIiINEBVVVVVVfVKQFVVVVVVVSdARERERESUWUC8u7u7u/tRQN7d3d3d/VNAvLu7u7u7RUCamZmZmblRQCIiIiIi4kxAMzMzMzPDWUDv7u7u7j5UQDMzMzMz81FAZmZmZmaWUUAiIiIiIiJNQKuqqqqqOlFAAAAAAACwU0AiIiIiIjJVQDMzMzMz001AAAAAAADAUEDNzMzMzAxZQBERERERoV5Aq6qqqqoqX0De3d3d3Z00QEREREREBFxA7+7u7u7GYkDNzMzMzLxeQImIiIiIGF5AIiIiIiKiXkBERERERIxgQEREREREdFxAAAAAAAAAJUAAAAAAAABZQN7d3d3dPV5AERERERGRW0DNzMzMzBxVQA==",
          "dtype": "f8"
         },
         "xaxis": "x",
         "y": {
          "bdata": "YVfhyw0xKEDLqoespCwVQK9E7UrUrgRAW+4rFZjmF0BWQVS5WmEaQIBio3OcxCVANHcUDybmJ0DWvXTFAqgpQO64ocEVIiVANGLujJg7K0CE/QJ/QqASQPrORn1now5AMFC9sZvrGUCBLuDfS2AXQJiB5peB5vc/0WrsGCZbIEDsxE7sxG4uQDu+kkw+UyhA+2jUn2BIEUAqJwsPMm0RQH8+nIZQSQdAqYG9Y2pgB0AJD9bFlDgXQLdt27Zt2x5A//mvTKPcH0DUB5ndds0aQKhmggYdEB9A3fFiS/BtJECaRFpO+6gcQMHI/cL4fCJAh15jYNh6H0AlWexOksUeQJf0b6UooSBAD9H9870UIkDsdoF35NIeQKxJFqiTOSJAO7VTO7VTG0Cw/ZG1GIscQFXt/vxdOhBAYI2J9EDlIkD7RPWgkXcgQL/peBARmiBA2AbBqUzYIEBVzi81g24iQO/+FlnHMyRAgUC9NawtGEA9o6D7HaAiQGG3hpG6ECBA3Ka/MFdRIUD07Hjo1ZUhQLdm/N9tYR1AwzAMwzAMG0DNzMzMzMwgQO0+FAWYCSBAxo1C65gWIEDMwEggY0IiQA==",
          "dtype": "f8"
         },
         "yaxis": "y"
        },
        {
         "customdata": [
          [
           "2023",
           474,
           344.8666127728375
          ],
          [
           "2023",
           144,
           735.3191489361702
          ],
          [
           "2023",
           91,
           246.13072877535689
          ],
          [
           "2023",
           561,
           1074.8270356572646
          ],
          [
           "2023",
           399,
           352.663884114903
          ],
          [
           "2023",
           561,
           437.5216637781629
          ],
          [
           "2023",
           509,
           359.6467124631992
          ],
          [
           "2023",
           159,
           206.1217140799424
          ],
          [
           "2023",
           430,
           373.7324963785611
          ],
          [
           "2023",
           88,
           856.2162162162163
          ],
          [
           "2023",
           257,
           232.2289156626506
          ],
          [
           "2023",
           241,
           271.80451127819543
          ],
          [
           "2023",
           252,
           293.1179321486268
          ],
          [
           "2023",
           562,
           515.990818668707
          ],
          [
           "2023",
           101,
           254.9789621318373
          ],
          [
           "2023",
           411,
           730.3060217176703
          ],
          [
           "2023",
           379,
           417.3753441419394
          ],
          [
           "2023",
           667,
           572.3957091775924
          ],
          [
           "2024",
           257,
           336.8037859483073
          ],
          [
           "2024",
           501,
           459.28189457601223
          ],
          [
           "2024",
           652,
           494.56384323640964
          ],
          [
           "2024",
           633,
           508.6607142857143
          ],
          [
           "2024",
           443,
           266.42165051787504
          ],
          [
           "2024",
           500,
           399.20159680638716
          ],
          [
           "2024",
           463,
           390.25989229688594
          ],
          [
           "2024",
           525,
           438.4133611691023
          ],
          [
           "2024",
           647,
           562.6086956521739
          ],
          [
           "2024",
           495,
           485.1619929213177
          ],
          [
           "2024",
           532,
           480.1203309100025
          ],
          [
           "2024",
           467,
           444.5267054468535
          ],
          [
           "2024",
           440,
           517.8162798300098
          ],
          [
           "2024",
           738,
           608.1025406271459
          ],
          [
           "2024",
           582,
           546.051602814699
          ],
          [
           "2024",
           642,
           476.0453141091658
          ],
          [
           "2024",
           520,
           430.5427782888684
          ],
          [
           "2025",
           862,
           454.08252853380156
          ],
          [
           "2025",
           613,
           398.1955972573079
          ],
          [
           "2025",
           701,
           353.9907420395567
          ],
          [
           "2025",
           1140,
           524.5398773006134
          ],
          [
           "2025",
           893,
           471.86261558784673
          ],
          [
           "2025",
           840,
           455.62754256441167
          ],
          [
           "2025",
           637,
           402.88123682361214
          ],
          [
           "2025",
           795,
           404.0090344438171
          ],
          [
           "2025",
           794,
           593.7681761528873
          ],
          [
           "2025",
           986,
           395.85145533623285
          ],
          [
           "2025",
           832,
           457.98165137614683
          ],
          [
           "2025",
           672,
           519.5876288659795
          ],
          [
           "2025",
           629,
           283.8661150808575
          ],
          [
           "2025",
           710,
           457.65443151298126
          ],
          [
           "2025",
           971,
           490.3352503857484
          ],
          [
           "2025",
           993,
           433.78230797233346
          ],
          [
           "2025",
           1007,
           474.99999999999994
          ],
          [
           "2025",
           1055,
           444.8348559381588
          ]
         ],
         "hovertemplate": "month=05<br>duration_min=%{x}<br>calories_per_min=%{y}<br>year=%{customdata[0]}<br>calories=%{customdata[1]}<br>calories_per_hour=%{customdata[2]}<extra></extra>",
         "legendgroup": "05",
         "marker": {
          "color": "#FF97FF",
          "symbol": "circle"
         },
         "mode": "markers",
         "name": "05",
         "orientation": "v",
         "showlegend": true,
         "type": "scatter",
         "x": {
          "bdata": "3t3d3d2dVEAAAAAAAIAnQO/u7u7uLjZAERERERFRP0CJiIiIiPhQQLy7u7u7O1NAq6qqqqo6VUBERERERCRHQCIiIiIiQlFAq6qqqqqqGECamZmZmZlQQJqZmZmZmUpAq6qqqqrKSUBmZmZmZlZQQERERERExDdAIiIiIiLiQEDe3d3d3T1LQKuqqqqqelFARERERETkRkDNzMzMzFxQQGZmZmZmxlNAq6qqqqqqUkAREREREfFYQJqZmZmZyVJAvLu7u7vLUUBmZmZmZvZRQAAAAAAAQFFAvLu7u7ubTkDv7u7u7p5QQEREREREhE9A3t3d3d19SUBERERERDRSQJqZmZmZ+U9Aq6qqqqo6VEDe3d3d3R1SQJqZmZmZeVxAd3d3d3cXV0BERERERLRdQM3MzMzMTGBAMzMzMzNjXEB3d3d3d6dbQHd3d3d3t1dARERERESEXUDv7u7u7g5UQGZmZmZmrmJAAAAAAABAW0BmZmZmZmZTQGZmZmZmnmBAVVVVVVVFV0BERERERLRdQDMzMzMzK2FAzczMzMzMX0CamZmZmclhQA==",
          "dtype": "f8"
         },
         "xaxis": "x",
         "y": {
          "bdata": "NHHpOLn9FkBicgUxuYIoQA5jD5ChaBBAMr5Uvu3pMUDolkcFzIIXQHI/MVEJKx1ARzmUdvj5F0DlLEEFn3sLQKaOMjFe6hhApshn3WCKLECEN5o6v/YOQOwBswfMHhJAHqJoyYuKE0CynKAkHzMhQG/zihWk/xBAr/kU2fFXKEAiwh20NNMbQMCdrYFxFCNAMMzDMR50FkDDl1g3aZ4eQE97dTNHfCBASZIkSZL0IEAptdrz7cIRQJ2gz2MKnRpAXgqdfG8EGkDOYdczQTodQMy1A3PtwCJANaSsiwwsIED0GuzdBgEgQCmGq8+Woh1AjzWA7LJCIUAlRSRFJEUkQMjqle2jMyJAaNy0toG8H0BZ+ucZ7rMcQM+C3tasRR5ARsFcHN+LGkB6HL8mcZkXQFx3vNgSfCFASlKaOR91H0BVZs8bC2AeQDKhgPvW2xpAF6bJZxbvGkDuEoJf0sojQKqKAWbdYxpAhOjxXTiIHkCCL65+0FEhQDOoL/ul7BJAhy65uKKCHkCPF/CyMVggQF6jhdI36xxAqqqqqqqqH0B/BCkk2acdQA==",
          "dtype": "f8"
         },
         "yaxis": "y"
        },
        {
         "customdata": [
          [
           "2023",
           371,
           303.47648261758695
          ],
          [
           "2023",
           637,
           613.3190692698582
          ],
          [
           "2023",
           960,
           635.8785648574058
          ],
          [
           "2023",
           497,
           413.59223300970876
          ],
          [
           "2023",
           370,
           289.1252441936184
          ],
          [
           "2023",
           610,
           594.9607152533189
          ],
          [
           "2023",
           205,
           248.90387858347387
          ],
          [
           "2023",
           192,
           194.5398254995778
          ],
          [
           "2023",
           497,
           516.8110918544194
          ],
          [
           "2023",
           392,
           289.7741273100616
          ],
          [
           "2023",
           404,
           375.71686902609144
          ],
          [
           "2023",
           307,
           320.9059233449477
          ],
          [
           "2023",
           412,
           444.6043165467626
          ],
          [
           "2024",
           263,
           524.5429362880886
          ],
          [
           "2024",
           435,
           383.5415135929464
          ],
          [
           "2024",
           463,
           508.0158488265773
          ],
          [
           "2024",
           762,
           524.1115781429116
          ],
          [
           "2024",
           506,
           487.0588235294117
          ],
          [
           "2024",
           346,
           335.56034482758616
          ],
          [
           "2024",
           479,
           359.5496246872393
          ],
          [
           "2024",
           407,
           380.6703039750584
          ],
          [
           "2024",
           578,
           403.64694471386997
          ],
          [
           "2024",
           712,
           473.00239896659906
          ],
          [
           "2024",
           296,
           296.2468723936614
          ],
          [
           "2024",
           450,
           422.4250325945241
          ],
          [
           "2024",
           571,
           490.83094555873924
          ],
          [
           "2024",
           338,
           311.60051216389246
          ],
          [
           "2025",
           1069,
           415.7735522904062
          ],
          [
           "2025",
           794,
           423.4039401570138
          ],
          [
           "2025",
           771,
           385.5
          ],
          [
           "2025",
           827,
           344.70302188259814
          ],
          [
           "2025",
           750,
           516.9442848937392
          ],
          [
           "2025",
           964,
           521.0028524245608
          ],
          [
           "2025",
           849,
           336.9790518191842
          ],
          [
           "2025",
           647,
           320.3851444291609
          ],
          [
           "2025",
           784,
           376.0692871419054
          ],
          [
           "2025",
           861,
           570.7236236420549
          ],
          [
           "2025",
           786,
           352.4224685515008
          ]
         ],
         "hovertemplate": "month=06<br>duration_min=%{x}<br>calories_per_min=%{y}<br>year=%{customdata[0]}<br>calories=%{customdata[1]}<br>calories_per_hour=%{customdata[2]}<extra></extra>",
         "legendgroup": "06",
         "marker": {
          "color": "#FECB52",
          "symbol": "circle"
         },
         "mode": "markers",
         "name": "06",
         "orientation": "v",
         "showlegend": true,
         "type": "scatter",
         "x": {
          "bdata": "ZmZmZmZWUkCJiIiIiChPQFVVVVVVpVZAZmZmZmYGUkAiIiIiIjJTQCIiIiIiwk5AVVVVVVW1SEC8u7u7u5tNQJqZmZmZ2UxAq6qqqqpKVEARERERESFQQDMzMzMzs0xAzczMzMzMS0BVVVVVVRU+QDMzMzMzA1FAd3d3d3dXS0Dv7u7u7s5VQKuqqqqqKk9A7+7u7u7uTkC8u7u7u/tTQJqZmZmZCVBAq6qqqqp6VUBERERERJRWQJqZmZmZ+U1AVVVVVVX1T0AzMzMzM3NRQFVVVVVVRVBAiYiIiIhIY0ARERERESFcQAAAAAAAAF5AZmZmZmb+YUAzMzMzM8NVQBERERERwVtAVVVVVVXlYkCrqqqqqkpeQFVVVVVVRV9AERERERGhVkAiIiIiIrpgQA==",
          "dtype": "f8"
         },
         "xaxis": "x",
         "y": {
          "bdata": "iIL8+1Q7FEAb6Gbzp3EkQMT/vuspMiVAXxbxCaSSG0Dto4Z3Z0YTQP/stYP/1CNAWZKdo/WXEEBOXRHvSvAJQNEopA4fOiFAtpMBe3pRE0Cr1m4MPAwZQEBIcV/LZBVAdkA35umjHUD4K3KHGXwhQMEAPHHGkRlA4VM9jhHvIEAJoHw2a3ghQDw8PDw8PCBAWO5phOVeFkBtYr1HUPgXQL9qo+/FYBlAa8JHaejoGkDjZ7sDk4gfQOje1FXyvxNArAMLIWMpHEBsUcWPbFwgQB0NOGn7xRRAoO9BXt63G0CwIJ4KGDocQDMzMzMzsxlAcTWZe+76FkCEbJYFQjshQJrfDhnkXSFA87JS8Rt3FkAK1RUO6FsVQBdNbMk/EhlAb+irxywGI0DK84pCrX4XQA==",
          "dtype": "f8"
         },
         "yaxis": "y"
        },
        {
         "customdata": [
          [
           "2023",
           484,
           469.77622000539225
          ],
          [
           "2023",
           503,
           367.45129870129864
          ],
          [
           "2023",
           579,
           491.3719943422914
          ],
          [
           "2023",
           477,
           431.8913480885312
          ],
          [
           "2023",
           610,
           549.4120590442832
          ],
          [
           "2023",
           372,
           306.87442713107237
          ],
          [
           "2023",
           455,
           384.77801268498945
          ],
          [
           "2023",
           415,
           586.342229199372
          ],
          [
           "2023",
           446,
           476.15658362989325
          ],
          [
           "2023",
           220,
           226.93409742120343
          ],
          [
           "2023",
           911,
           478.91355140186914
          ],
          [
           "2024",
           411,
           335.054347826087
          ],
          [
           "2024",
           352,
           305.93915982617096
          ],
          [
           "2024",
           702,
           537.2448979591836
          ],
          [
           "2024",
           508,
           470.9760494463044
          ],
          [
           "2024",
           537,
           458.321479374111
          ],
          [
           "2024",
           545,
           462.51768033946246
          ],
          [
           "2024",
           649,
           569.8536585365854
          ],
          [
           "2024",
           378,
           351.71879038511247
          ],
          [
           "2024",
           497,
           445.6288916562889
          ],
          [
           "2024",
           558,
           494.5347119645495
          ],
          [
           "2024",
           341,
           365.79261025029797
          ],
          [
           "2024",
           576,
           614.4
          ],
          [
           "2024",
           142,
           286.5470852017937
          ],
          [
           "2024",
           628,
           537.1347113328582
          ],
          [
           "2024",
           515,
           466.41509433962267
          ],
          [
           "2024",
           785,
           520.2503681885125
          ],
          [
           "2025",
           1069,
           335.1680891830692
          ],
          [
           "2025",
           813,
           660.230092488157
          ],
          [
           "2025",
           1389,
           507.7579203899269
          ],
          [
           "2025",
           344,
           283.0628571428571
          ],
          [
           "2025",
           881,
           986.1940298507461
          ],
          [
           "2025",
           940,
           571.8148022980736
          ],
          [
           "2025",
           811,
           521.6365910309095
          ],
          [
           "2025",
           871,
           581.0971089696071
          ],
          [
           "2025",
           838,
           510.6296547054841
          ],
          [
           "2025",
           739,
           497.55002805311386
          ],
          [
           "2025",
           882,
           550.4854368932038
          ]
         ],
         "hovertemplate": "month=07<br>duration_min=%{x}<br>calories_per_min=%{y}<br>year=%{customdata[0]}<br>calories=%{customdata[1]}<br>calories_per_hour=%{customdata[2]}<extra></extra>",
         "legendgroup": "07",
         "marker": {
          "color": "#636efa",
          "symbol": "circle"
         },
         "mode": "markers",
         "name": "07",
         "orientation": "v",
         "showlegend": true,
         "type": "scatter",
         "x": {
          "bdata": "iYiIiIjoTkCJiIiIiIhUQM3MzMzMrFFAERERERGRUEB3d3d3d6dQQO/u7u7uLlJAzczMzMy8UUC8u7u7uztFQJqZmZmZGUxAVVVVVVUVTUCJiIiIiIhcQGZmZmZmZlJAIiIiIiJCUUCamZmZmZlTQN7d3d3dLVBAMzMzMzOTUUDNzMzMzKxRQFVVVVVVFVFA7+7u7u4eUECrqqqqqrpQQM3MzMzM7FBAd3d3d3f3S0AAAAAAACBMQLy7u7u7uz1AmpmZmZmJUUAAAAAAAJBQQCIiIiIiolZAvLu7u7vrZ0CJiIiIiHhSQEREREREhGRAq6qqqqo6UkDNzMzMzMxKQImIiIiIqFhAIiIiIiJSV0C8u7u7u3tWQN7d3d3dnVhAd3d3d3dHVkCJiIiIiAhYQA==",
          "dtype": "f8"
         },
         "xaxis": "x",
         "y": {
          "bdata": "rXGln4NRH0Cs/IQ4K38YQBNZLoAKYSBAzLSxF/LKHEDKcOv0UFAiQNwcl9RSdRRAJMsOyuCmGUAAK/kkdIsjQDMIj9tnvh9ATYOxZgRCDkBHJtA7de0fQCILWchCVhZAVkbRlVxlFEAa60NjfeghQGa+KML9ZR9A4WggGQWOHkB4UXWUotUeQP8E7E/A/iJAty7W16pyF0AQxBNWZrUdQJImEpAHfCBAzjvkTNxiGEB7FK5H4XokQNO4gVFnGhNAwghwroznIUBX9jmkJhgfQChjX0V4VyFAh/DmuTNYFkAVuQul9gEmQIH9Mxre7CBANg9kfvDeEkAeqJzdwm8wQDhMAX98DyNAodJfhUxjIUCufCMBsl4jQHTtboBfBSFAdWYMn8KVIED4BFLJeVkiQA==",
          "dtype": "f8"
         },
         "yaxis": "y"
        },
        {
         "customdata": [
          [
           "2023",
           275,
           211.44809910294748
          ],
          [
           "2023",
           59,
           170.46548956661317
          ],
          [
           "2023",
           660,
           551.1482254697287
          ],
          [
           "2023",
           837,
           499.37023533311236
          ],
          [
           "2023",
           562,
           530.4667016255898
          ],
          [
           "2023",
           1003,
           539.4890183774093
          ],
          [
           "2023",
           959,
           561.7312072892938
          ],
          [
           "2023",
           486,
           475.8226815338591
          ],
          [
           "2023",
           597,
           462.49193027759844
          ],
          [
           "2023",
           567,
           464.22560836934275
          ],
          [
           "2023",
           997,
           578.1572164948453
          ],
          [
           "2023",
           246,
           198.47601972209773
          ],
          [
           "2023",
           416,
           416.5785813630042
          ],
          [
           "2023",
           506,
           493.6585365853659
          ],
          [
           "2023",
           1020,
           534.5756296404135
          ],
          [
           "2023",
           349,
           342.90393013100436
          ],
          [
           "2024",
           516,
           470.87452471482885
          ],
          [
           "2024",
           536,
           488.38268792710716
          ],
          [
           "2024",
           509,
           474.469186949767
          ],
          [
           "2024",
           397,
           373.54939884997384
          ],
          [
           "2024",
           332,
           279.6443612540945
          ],
          [
           "2024",
           347,
           348.64638571029866
          ],
          [
           "2024",
           594,
           475.62277580071174
          ],
          [
           "2024",
           407,
           384.26435877261997
          ],
          [
           "2024",
           668,
           601.1999999999999
          ],
          [
           "2024",
           426,
           436.42572566875356
          ],
          [
           "2024",
           615,
           431.49483531475346
          ],
          [
           "2024",
           673,
           526.2380538662032
          ],
          [
           "2024",
           411,
           446.4695232347616
          ],
          [
           "2024",
           519,
           412.4503311258278
          ],
          [
           "2024",
           503,
           355.8962264150943
          ],
          [
           "2024",
           467,
           441.3756891572591
          ],
          [
           "2024",
           474,
           437.8752886836027
          ],
          [
           "2024",
           348,
           402.57069408740364
          ]
         ],
         "hovertemplate": "month=08<br>duration_min=%{x}<br>calories_per_min=%{y}<br>year=%{customdata[0]}<br>calories=%{customdata[1]}<br>calories_per_hour=%{customdata[2]}<extra></extra>",
         "legendgroup": "08",
         "marker": {
          "color": "#EF553B",
          "symbol": "circle"
         },
         "mode": "markers",
         "name": "08",
         "orientation": "v",
         "showlegend": true,
         "type": "scatter",
         "x": {
          "bdata": "IiIiIiKCU0BERERERMQ0QGZmZmZm9lFAREREREQkWUCJiIiIiMhPQDMzMzMz41tAvLu7u7ubWUBERERERKROQM3MzMzMXFNAIiIiIiJSUkDe3d3d3d1ZQHd3d3d3l1JAVVVVVVX1TUAAAAAAAMBOQO/u7u7unlxAiYiIiIiITkAAAAAAAHBQQGZmZmZmdlBAd3d3d3cXUEAiIiIiIuJPQO/u7u7uzlFAvLu7u7vbTUC8u7u7u7tSQGZmZmZmxk9Aq6qqqqqqUECJiIiIiEhNQBERERERYVVA7+7u7u4uU0De3d3d3Z1LQAAAAAAA4FJAMzMzMzMzVUDe3d3d3b1PQM3MzMzMPFBA7+7u7u7uSUA=",
          "dtype": "f8"
         },
         "xaxis": "x",
         "y": {
          "bdata": "s83brm0xDEBHXTMtjroGQIKyjqshXyJAJw297EqlIECa9iExpq4hQGNnXb6j+yFATlb0i3C5IkD73GIEtbgfQMVpgBMy1R5A/3efocjyHkBKZBq2m0UjQLA4fuyldgpAk4sImJvFG0B12EiHjXQgQLQjOki20SFAj4CJITrcFkDKUKswQmQfQLr73UKIRyBAPe5RgpuhH0C8EhQ6PucYQPN5dtuYpBJApPRgTTs+F0BWyZudS7UfQJ7J4ZkcnhlACtejcD0KJEDisCoXVRgdQBz8qbMtxBxAyYjnkZCKIUAp75Qcv8MdQJz8Tf4mfxtAaoLxVva5F0Ae/pvPz2wdQO4s9FMSMR1ABeVUM4rWGkA=",
          "dtype": "f8"
         },
         "yaxis": "y"
        }
       ],
       "layout": {
        "legend": {
         "title": {
          "text": "month"
         },
         "tracegroupgap": 0
        },
        "template": {
         "data": {
          "bar": [
           {
            "error_x": {
             "color": "#2a3f5f"
            },
            "error_y": {
             "color": "#2a3f5f"
            },
            "marker": {
             "line": {
              "color": "#E5ECF6",
              "width": 0.5
             },
             "pattern": {
              "fillmode": "overlay",
              "size": 10,
              "solidity": 0.2
             }
            },
            "type": "bar"
           }
          ],
          "barpolar": [
           {
            "marker": {
             "line": {
              "color": "#E5ECF6",
              "width": 0.5
             },
             "pattern": {
              "fillmode": "overlay",
              "size": 10,
              "solidity": 0.2
             }
            },
            "type": "barpolar"
           }
          ],
          "carpet": [
           {
            "aaxis": {
             "endlinecolor": "#2a3f5f",
             "gridcolor": "white",
             "linecolor": "white",
             "minorgridcolor": "white",
             "startlinecolor": "#2a3f5f"
            },
            "baxis": {
             "endlinecolor": "#2a3f5f",
             "gridcolor": "white",
             "linecolor": "white",
             "minorgridcolor": "white",
             "startlinecolor": "#2a3f5f"
            },
            "type": "carpet"
           }
          ],
          "choropleth": [
           {
            "colorbar": {
             "outlinewidth": 0,
             "ticks": ""
            },
            "type": "choropleth"
           }
          ],
          "contour": [
           {
            "colorbar": {
             "outlinewidth": 0,
             "ticks": ""
            },
            "colorscale": [
             [
              0,
              "#0d0887"
             ],
             [
              0.1111111111111111,
              "#46039f"
             ],
             [
              0.2222222222222222,
              "#7201a8"
             ],
             [
              0.3333333333333333,
              "#9c179e"
             ],
             [
              0.4444444444444444,
              "#bd3786"
             ],
             [
              0.5555555555555556,
              "#d8576b"
             ],
             [
              0.6666666666666666,
              "#ed7953"
             ],
             [
              0.7777777777777778,
              "#fb9f3a"
             ],
             [
              0.8888888888888888,
              "#fdca26"
             ],
             [
              1,
              "#f0f921"
             ]
            ],
            "type": "contour"
           }
          ],
          "contourcarpet": [
           {
            "colorbar": {
             "outlinewidth": 0,
             "ticks": ""
            },
            "type": "contourcarpet"
           }
          ],
          "heatmap": [
           {
            "colorbar": {
             "outlinewidth": 0,
             "ticks": ""
            },
            "colorscale": [
             [
              0,
              "#0d0887"
             ],
             [
              0.1111111111111111,
              "#46039f"
             ],
             [
              0.2222222222222222,
              "#7201a8"
             ],
             [
              0.3333333333333333,
              "#9c179e"
             ],
             [
              0.4444444444444444,
              "#bd3786"
             ],
             [
              0.5555555555555556,
              "#d8576b"
             ],
             [
              0.6666666666666666,
              "#ed7953"
             ],
             [
              0.7777777777777778,
              "#fb9f3a"
             ],
             [
              0.8888888888888888,
              "#fdca26"
             ],
             [
              1,
              "#f0f921"
             ]
            ],
            "type": "heatmap"
           }
          ],
          "histogram": [
           {
            "marker": {
             "pattern": {
              "fillmode": "overlay",
              "size": 10,
              "solidity": 0.2
             }
            },
            "type": "histogram"
           }
          ],
          "histogram2d": [
           {
            "colorbar": {
             "outlinewidth": 0,
             "ticks": ""
            },
            "colorscale": [
             [
              0,
              "#0d0887"
             ],
             [
              0.1111111111111111,
              "#46039f"
             ],
             [
              0.2222222222222222,
              "#7201a8"
             ],
             [
              0.3333333333333333,
              "#9c179e"
             ],
             [
              0.4444444444444444,
              "#bd3786"
             ],
             [
              0.5555555555555556,
              "#d8576b"
             ],
             [
              0.6666666666666666,
              "#ed7953"
             ],
             [
              0.7777777777777778,
              "#fb9f3a"
             ],
             [
              0.8888888888888888,
              "#fdca26"
             ],
             [
              1,
              "#f0f921"
             ]
            ],
            "type": "histogram2d"
           }
          ],
          "histogram2dcontour": [
           {
            "colorbar": {
             "outlinewidth": 0,
             "ticks": ""
            },
            "colorscale": [
             [
              0,
              "#0d0887"
             ],
             [
              0.1111111111111111,
              "#46039f"
             ],
             [
              0.2222222222222222,
              "#7201a8"
             ],
             [
              0.3333333333333333,
              "#9c179e"
             ],
             [
              0.4444444444444444,
              "#bd3786"
             ],
             [
              0.5555555555555556,
              "#d8576b"
             ],
             [
              0.6666666666666666,
              "#ed7953"
             ],
             [
              0.7777777777777778,
              "#fb9f3a"
             ],
             [
              0.8888888888888888,
              "#fdca26"
             ],
             [
              1,
              "#f0f921"
             ]
            ],
            "type": "histogram2dcontour"
           }
          ],
          "mesh3d": [
           {
            "colorbar": {
             "outlinewidth": 0,
             "ticks": ""
            },
            "type": "mesh3d"
           }
          ],
          "parcoords": [
           {
            "line": {
             "colorbar": {
              "outlinewidth": 0,
              "ticks": ""
             }
            },
            "type": "parcoords"
           }
          ],
          "pie": [
           {
            "automargin": true,
            "type": "pie"
           }
          ],
          "scatter": [
           {
            "fillpattern": {
             "fillmode": "overlay",
             "size": 10,
             "solidity": 0.2
            },
            "type": "scatter"
           }
          ],
          "scatter3d": [
           {
            "line": {
             "colorbar": {
              "outlinewidth": 0,
              "ticks": ""
             }
            },
            "marker": {
             "colorbar": {
              "outlinewidth": 0,
              "ticks": ""
             }
            },
            "type": "scatter3d"
           }
          ],
          "scattercarpet": [
           {
            "marker": {
             "colorbar": {
              "outlinewidth": 0,
              "ticks": ""
             }
            },
            "type": "scattercarpet"
           }
          ],
          "scattergeo": [
           {
            "marker": {
             "colorbar": {
              "outlinewidth": 0,
              "ticks": ""
             }
            },
            "type": "scattergeo"
           }
          ],
          "scattergl": [
           {
            "marker": {
             "colorbar": {
              "outlinewidth": 0,
              "ticks": ""
             }
            },
            "type": "scattergl"
           }
          ],
          "scattermap": [
           {
            "marker": {
             "colorbar": {
              "outlinewidth": 0,
              "ticks": ""
             }
            },
            "type": "scattermap"
           }
          ],
          "scattermapbox": [
           {
            "marker": {
             "colorbar": {
              "outlinewidth": 0,
              "ticks": ""
             }
            },
            "type": "scattermapbox"
           }
          ],
          "scatterpolar": [
           {
            "marker": {
             "colorbar": {
              "outlinewidth": 0,
              "ticks": ""
             }
            },
            "type": "scatterpolar"
           }
          ],
          "scatterpolargl": [
           {
            "marker": {
             "colorbar": {
              "outlinewidth": 0,
              "ticks": ""
             }
            },
            "type": "scatterpolargl"
           }
          ],
          "scatterternary": [
           {
            "marker": {
             "colorbar": {
              "outlinewidth": 0,
              "ticks": ""
             }
            },
            "type": "scatterternary"
           }
          ],
          "surface": [
           {
            "colorbar": {
             "outlinewidth": 0,
             "ticks": ""
            },
            "colorscale": [
             [
              0,
              "#0d0887"
             ],
             [
              0.1111111111111111,
              "#46039f"
             ],
             [
              0.2222222222222222,
              "#7201a8"
             ],
             [
              0.3333333333333333,
              "#9c179e"
             ],
             [
              0.4444444444444444,
              "#bd3786"
             ],
             [
              0.5555555555555556,
              "#d8576b"
             ],
             [
              0.6666666666666666,
              "#ed7953"
             ],
             [
              0.7777777777777778,
              "#fb9f3a"
             ],
             [
              0.8888888888888888,
              "#fdca26"
             ],
             [
              1,
              "#f0f921"
             ]
            ],
            "type": "surface"
           }
          ],
          "table": [
           {
            "cells": {
             "fill": {
              "color": "#EBF0F8"
             },
             "line": {
              "color": "white"
             }
            },
            "header": {
             "fill": {
              "color": "#C8D4E3"
             },
             "line": {
              "color": "white"
             }
            },
            "type": "table"
           }
          ]
         },
         "layout": {
          "annotationdefaults": {
           "arrowcolor": "#2a3f5f",
           "arrowhead": 0,
           "arrowwidth": 1
          },
          "autotypenumbers": "strict",
          "coloraxis": {
           "colorbar": {
            "outlinewidth": 0,
            "ticks": ""
           }
          },
          "colorscale": {
           "diverging": [
            [
             0,
             "#8e0152"
            ],
            [
             0.1,
             "#c51b7d"
            ],
            [
             0.2,
             "#de77ae"
            ],
            [
             0.3,
             "#f1b6da"
            ],
            [
             0.4,
             "#fde0ef"
            ],
            [
             0.5,
             "#f7f7f7"
            ],
            [
             0.6,
             "#e6f5d0"
            ],
            [
             0.7,
             "#b8e186"
            ],
            [
             0.8,
             "#7fbc41"
            ],
            [
             0.9,
             "#4d9221"
            ],
            [
             1,
             "#276419"
            ]
           ],
           "sequential": [
            [
             0,
             "#0d0887"
            ],
            [
             0.1111111111111111,
             "#46039f"
            ],
            [
             0.2222222222222222,
             "#7201a8"
            ],
            [
             0.3333333333333333,
             "#9c179e"
            ],
            [
             0.4444444444444444,
             "#bd3786"
            ],
            [
             0.5555555555555556,
             "#d8576b"
            ],
            [
             0.6666666666666666,
             "#ed7953"
            ],
            [
             0.7777777777777778,
             "#fb9f3a"
            ],
            [
             0.8888888888888888,
             "#fdca26"
            ],
            [
             1,
             "#f0f921"
            ]
           ],
           "sequentialminus": [
            [
             0,
             "#0d0887"
            ],
            [
             0.1111111111111111,
             "#46039f"
            ],
            [
             0.2222222222222222,
             "#7201a8"
            ],
            [
             0.3333333333333333,
             "#9c179e"
            ],
            [
             0.4444444444444444,
             "#bd3786"
            ],
            [
             0.5555555555555556,
             "#d8576b"
            ],
            [
             0.6666666666666666,
             "#ed7953"
            ],
            [
             0.7777777777777778,
             "#fb9f3a"
            ],
            [
             0.8888888888888888,
             "#fdca26"
            ],
            [
             1,
             "#f0f921"
            ]
           ]
          },
          "colorway": [
           "#636efa",
           "#EF553B",
           "#00cc96",
           "#ab63fa",
           "#FFA15A",
           "#19d3f3",
           "#FF6692",
           "#B6E880",
           "#FF97FF",
           "#FECB52"
          ],
          "font": {
           "color": "#2a3f5f"
          },
          "geo": {
           "bgcolor": "white",
           "lakecolor": "white",
           "landcolor": "#E5ECF6",
           "showlakes": true,
           "showland": true,
           "subunitcolor": "white"
          },
          "hoverlabel": {
           "align": "left"
          },
          "hovermode": "closest",
          "mapbox": {
           "style": "light"
          },
          "paper_bgcolor": "white",
          "plot_bgcolor": "#E5ECF6",
          "polar": {
           "angularaxis": {
            "gridcolor": "white",
            "linecolor": "white",
            "ticks": ""
           },
           "bgcolor": "#E5ECF6",
           "radialaxis": {
            "gridcolor": "white",
            "linecolor": "white",
            "ticks": ""
           }
          },
          "scene": {
           "xaxis": {
            "backgroundcolor": "#E5ECF6",
            "gridcolor": "white",
            "gridwidth": 2,
            "linecolor": "white",
            "showbackground": true,
            "ticks": "",
            "zerolinecolor": "white"
           },
           "yaxis": {
            "backgroundcolor": "#E5ECF6",
            "gridcolor": "white",
            "gridwidth": 2,
            "linecolor": "white",
            "showbackground": true,
            "ticks": "",
            "zerolinecolor": "white"
           },
           "zaxis": {
            "backgroundcolor": "#E5ECF6",
            "gridcolor": "white",
            "gridwidth": 2,
            "linecolor": "white",
            "showbackground": true,
            "ticks": "",
            "zerolinecolor": "white"
           }
          },
          "shapedefaults": {
           "line": {
            "color": "#2a3f5f"
           }
          },
          "ternary": {
           "aaxis": {
            "gridcolor": "white",
            "linecolor": "white",
            "ticks": ""
           },
           "baxis": {
            "gridcolor": "white",
            "linecolor": "white",
            "ticks": ""
           },
           "bgcolor": "#E5ECF6",
           "caxis": {
            "gridcolor": "white",
            "linecolor": "white",
            "ticks": ""
           }
          },
          "title": {
           "x": 0.05
          },
          "xaxis": {
           "automargin": true,
           "gridcolor": "white",
           "linecolor": "white",
           "ticks": "",
           "title": {
            "standoff": 15
           },
           "zerolinecolor": "white",
           "zerolinewidth": 2
          },
          "yaxis": {
           "automargin": true,
           "gridcolor": "white",
           "linecolor": "white",
           "ticks": "",
           "title": {
            "standoff": 15
           },
           "zerolinecolor": "white",
           "zerolinewidth": 2
          }
         }
        },
        "title": {
         "text": "Calories per Minute vs Duration"
        },
        "xaxis": {
         "anchor": "y",
         "domain": [
          0,
          1
         ],
         "title": {
          "text": "duration_min"
         }
        },
        "yaxis": {
         "anchor": "x",
         "domain": [
          0,
          1
         ],
         "title": {
          "text": "calories_per_min"
         }
        }
       }
      }
     },
     "metadata": {},
     "output_type": "display_data"
    }
   ],
   "source": [
    "import pandas as pd\n",
    "import plotly.express as px\n",
    "\n",
    "df = pd.DataFrame(calories_stats)\n",
    "fig = px.scatter(\n",
    "    df,\n",
    "    x=\"duration_min\",\n",
    "    y=\"calories_per_min\",\n",
    "    color=\"month\",\n",
    "    hover_data=[\"year\", \"calories\", \"calories_per_hour\"],\n",
    "    title=\"Calories per Minute vs Duration\",\n",
    ")\n",
    "fig.show()"
   ]
  },
  {
   "cell_type": "code",
   "execution_count": 7,
   "id": "5b733407",
   "metadata": {},
   "outputs": [
    {
     "data": {
      "application/vnd.plotly.v1+json": {
       "config": {
        "plotlyServerURL": "https://plot.ly"
       },
       "data": [
        {
         "hovertemplate": "year=2022<br>Date=%{x}<br>Avg Calories per Hour=%{y}<extra></extra>",
         "legendgroup": "2022",
         "line": {
          "color": "#636efa",
          "dash": "solid"
         },
         "marker": {
          "symbol": "circle"
         },
         "mode": "lines+markers",
         "name": "2022",
         "orientation": "v",
         "showlegend": true,
         "type": "scatter",
         "x": [
          "2022-09",
          "2022-10",
          "2022-11",
          "2022-12"
         ],
         "xaxis": "x",
         "y": {
          "bdata": "k6swVcXDf0B+VzMllEt4QGtdP403um9ALo1YC2cwdkA=",
          "dtype": "f8"
         },
         "yaxis": "y"
        },
        {
         "hovertemplate": "year=2023<br>Date=%{x}<br>Avg Calories per Hour=%{y}<extra></extra>",
         "legendgroup": "2023",
         "line": {
          "color": "#EF553B",
          "dash": "solid"
         },
         "marker": {
          "symbol": "circle"
         },
         "mode": "lines+markers",
         "name": "2023",
         "orientation": "v",
         "showlegend": true,
         "type": "scatter",
         "x": [
          "2023-01",
          "2023-02",
          "2023-03",
          "2023-04",
          "2023-05",
          "2023-06",
          "2023-07",
          "2023-08",
          "2023-09",
          "2023-10",
          "2023-11",
          "2023-12"
         ],
         "xaxis": "x",
         "y": {
          "bdata": "5EOzWLTmdkBlQlS9rl94QL4p9Oz2tnlAqzK5zjjbe0B0lNvXxbt8QM8XA9Q1M3lA4bfG/Akae0AzPRdVAnd7QANtyvTtpH5Awtj/aErxe0Cgkb5f8BF+QGmfrYQrkX1A",
          "dtype": "f8"
         },
         "yaxis": "y"
        },
        {
         "hovertemplate": "year=2024<br>Date=%{x}<br>Avg Calories per Hour=%{y}<extra></extra>",
         "legendgroup": "2024",
         "line": {
          "color": "#00cc96",
          "dash": "solid"
         },
         "marker": {
          "symbol": "circle"
         },
         "mode": "lines+markers",
         "name": "2024",
         "orientation": "v",
         "showlegend": true,
         "type": "scatter",
         "x": [
          "2024-01",
          "2024-02",
          "2024-03",
          "2024-04",
          "2024-05",
          "2024-06",
          "2024-07",
          "2024-08",
          "2024-09",
          "2024-10",
          "2024-11",
          "2024-12"
         ],
         "xaxis": "x",
         "y": {
          "bdata": "spmVRAZsekCOOpJLrGN5QN+23FFmoXtAfsqua+CXfUDd/04NI9d8QHL0/I/GV3pAiyuDXFQ2fEDMCp2FLQp7QA9ATtdQPXtAQj/KgYzdgEDAxY7LzpCAQAqPnubZK4FA",
          "dtype": "f8"
         },
         "yaxis": "y"
        },
        {
         "hovertemplate": "year=2025<br>Date=%{x}<br>Avg Calories per Hour=%{y}<extra></extra>",
         "legendgroup": "2025",
         "line": {
          "color": "#ab63fa",
          "dash": "solid"
         },
         "marker": {
          "symbol": "circle"
         },
         "mode": "lines+markers",
         "name": "2025",
         "orientation": "v",
         "showlegend": true,
         "type": "scatter",
         "x": [
          "2025-01",
          "2025-02",
          "2025-03",
          "2025-04",
          "2025-05",
          "2025-06",
          "2025-07"
         ],
         "xaxis": "x",
         "y": {
          "bdata": "rNZqSTMRf0BorrEUTk57QLNkFOgIv31AglyBL+Ygf0D7iqWM+tZ7QMAoVhdp7nlA235Ue7oPgUA=",
          "dtype": "f8"
         },
         "yaxis": "y"
        }
       ],
       "layout": {
        "legend": {
         "title": {
          "text": "year"
         },
         "tracegroupgap": 0
        },
        "template": {
         "data": {
          "bar": [
           {
            "error_x": {
             "color": "#2a3f5f"
            },
            "error_y": {
             "color": "#2a3f5f"
            },
            "marker": {
             "line": {
              "color": "#E5ECF6",
              "width": 0.5
             },
             "pattern": {
              "fillmode": "overlay",
              "size": 10,
              "solidity": 0.2
             }
            },
            "type": "bar"
           }
          ],
          "barpolar": [
           {
            "marker": {
             "line": {
              "color": "#E5ECF6",
              "width": 0.5
             },
             "pattern": {
              "fillmode": "overlay",
              "size": 10,
              "solidity": 0.2
             }
            },
            "type": "barpolar"
           }
          ],
          "carpet": [
           {
            "aaxis": {
             "endlinecolor": "#2a3f5f",
             "gridcolor": "white",
             "linecolor": "white",
             "minorgridcolor": "white",
             "startlinecolor": "#2a3f5f"
            },
            "baxis": {
             "endlinecolor": "#2a3f5f",
             "gridcolor": "white",
             "linecolor": "white",
             "minorgridcolor": "white",
             "startlinecolor": "#2a3f5f"
            },
            "type": "carpet"
           }
          ],
          "choropleth": [
           {
            "colorbar": {
             "outlinewidth": 0,
             "ticks": ""
            },
            "type": "choropleth"
           }
          ],
          "contour": [
           {
            "colorbar": {
             "outlinewidth": 0,
             "ticks": ""
            },
            "colorscale": [
             [
              0,
              "#0d0887"
             ],
             [
              0.1111111111111111,
              "#46039f"
             ],
             [
              0.2222222222222222,
              "#7201a8"
             ],
             [
              0.3333333333333333,
              "#9c179e"
             ],
             [
              0.4444444444444444,
              "#bd3786"
             ],
             [
              0.5555555555555556,
              "#d8576b"
             ],
             [
              0.6666666666666666,
              "#ed7953"
             ],
             [
              0.7777777777777778,
              "#fb9f3a"
             ],
             [
              0.8888888888888888,
              "#fdca26"
             ],
             [
              1,
              "#f0f921"
             ]
            ],
            "type": "contour"
           }
          ],
          "contourcarpet": [
           {
            "colorbar": {
             "outlinewidth": 0,
             "ticks": ""
            },
            "type": "contourcarpet"
           }
          ],
          "heatmap": [
           {
            "colorbar": {
             "outlinewidth": 0,
             "ticks": ""
            },
            "colorscale": [
             [
              0,
              "#0d0887"
             ],
             [
              0.1111111111111111,
              "#46039f"
             ],
             [
              0.2222222222222222,
              "#7201a8"
             ],
             [
              0.3333333333333333,
              "#9c179e"
             ],
             [
              0.4444444444444444,
              "#bd3786"
             ],
             [
              0.5555555555555556,
              "#d8576b"
             ],
             [
              0.6666666666666666,
              "#ed7953"
             ],
             [
              0.7777777777777778,
              "#fb9f3a"
             ],
             [
              0.8888888888888888,
              "#fdca26"
             ],
             [
              1,
              "#f0f921"
             ]
            ],
            "type": "heatmap"
           }
          ],
          "histogram": [
           {
            "marker": {
             "pattern": {
              "fillmode": "overlay",
              "size": 10,
              "solidity": 0.2
             }
            },
            "type": "histogram"
           }
          ],
          "histogram2d": [
           {
            "colorbar": {
             "outlinewidth": 0,
             "ticks": ""
            },
            "colorscale": [
             [
              0,
              "#0d0887"
             ],
             [
              0.1111111111111111,
              "#46039f"
             ],
             [
              0.2222222222222222,
              "#7201a8"
             ],
             [
              0.3333333333333333,
              "#9c179e"
             ],
             [
              0.4444444444444444,
              "#bd3786"
             ],
             [
              0.5555555555555556,
              "#d8576b"
             ],
             [
              0.6666666666666666,
              "#ed7953"
             ],
             [
              0.7777777777777778,
              "#fb9f3a"
             ],
             [
              0.8888888888888888,
              "#fdca26"
             ],
             [
              1,
              "#f0f921"
             ]
            ],
            "type": "histogram2d"
           }
          ],
          "histogram2dcontour": [
           {
            "colorbar": {
             "outlinewidth": 0,
             "ticks": ""
            },
            "colorscale": [
             [
              0,
              "#0d0887"
             ],
             [
              0.1111111111111111,
              "#46039f"
             ],
             [
              0.2222222222222222,
              "#7201a8"
             ],
             [
              0.3333333333333333,
              "#9c179e"
             ],
             [
              0.4444444444444444,
              "#bd3786"
             ],
             [
              0.5555555555555556,
              "#d8576b"
             ],
             [
              0.6666666666666666,
              "#ed7953"
             ],
             [
              0.7777777777777778,
              "#fb9f3a"
             ],
             [
              0.8888888888888888,
              "#fdca26"
             ],
             [
              1,
              "#f0f921"
             ]
            ],
            "type": "histogram2dcontour"
           }
          ],
          "mesh3d": [
           {
            "colorbar": {
             "outlinewidth": 0,
             "ticks": ""
            },
            "type": "mesh3d"
           }
          ],
          "parcoords": [
           {
            "line": {
             "colorbar": {
              "outlinewidth": 0,
              "ticks": ""
             }
            },
            "type": "parcoords"
           }
          ],
          "pie": [
           {
            "automargin": true,
            "type": "pie"
           }
          ],
          "scatter": [
           {
            "fillpattern": {
             "fillmode": "overlay",
             "size": 10,
             "solidity": 0.2
            },
            "type": "scatter"
           }
          ],
          "scatter3d": [
           {
            "line": {
             "colorbar": {
              "outlinewidth": 0,
              "ticks": ""
             }
            },
            "marker": {
             "colorbar": {
              "outlinewidth": 0,
              "ticks": ""
             }
            },
            "type": "scatter3d"
           }
          ],
          "scattercarpet": [
           {
            "marker": {
             "colorbar": {
              "outlinewidth": 0,
              "ticks": ""
             }
            },
            "type": "scattercarpet"
           }
          ],
          "scattergeo": [
           {
            "marker": {
             "colorbar": {
              "outlinewidth": 0,
              "ticks": ""
             }
            },
            "type": "scattergeo"
           }
          ],
          "scattergl": [
           {
            "marker": {
             "colorbar": {
              "outlinewidth": 0,
              "ticks": ""
             }
            },
            "type": "scattergl"
           }
          ],
          "scattermap": [
           {
            "marker": {
             "colorbar": {
              "outlinewidth": 0,
              "ticks": ""
             }
            },
            "type": "scattermap"
           }
          ],
          "scattermapbox": [
           {
            "marker": {
             "colorbar": {
              "outlinewidth": 0,
              "ticks": ""
             }
            },
            "type": "scattermapbox"
           }
          ],
          "scatterpolar": [
           {
            "marker": {
             "colorbar": {
              "outlinewidth": 0,
              "ticks": ""
             }
            },
            "type": "scatterpolar"
           }
          ],
          "scatterpolargl": [
           {
            "marker": {
             "colorbar": {
              "outlinewidth": 0,
              "ticks": ""
             }
            },
            "type": "scatterpolargl"
           }
          ],
          "scatterternary": [
           {
            "marker": {
             "colorbar": {
              "outlinewidth": 0,
              "ticks": ""
             }
            },
            "type": "scatterternary"
           }
          ],
          "surface": [
           {
            "colorbar": {
             "outlinewidth": 0,
             "ticks": ""
            },
            "colorscale": [
             [
              0,
              "#0d0887"
             ],
             [
              0.1111111111111111,
              "#46039f"
             ],
             [
              0.2222222222222222,
              "#7201a8"
             ],
             [
              0.3333333333333333,
              "#9c179e"
             ],
             [
              0.4444444444444444,
              "#bd3786"
             ],
             [
              0.5555555555555556,
              "#d8576b"
             ],
             [
              0.6666666666666666,
              "#ed7953"
             ],
             [
              0.7777777777777778,
              "#fb9f3a"
             ],
             [
              0.8888888888888888,
              "#fdca26"
             ],
             [
              1,
              "#f0f921"
             ]
            ],
            "type": "surface"
           }
          ],
          "table": [
           {
            "cells": {
             "fill": {
              "color": "#EBF0F8"
             },
             "line": {
              "color": "white"
             }
            },
            "header": {
             "fill": {
              "color": "#C8D4E3"
             },
             "line": {
              "color": "white"
             }
            },
            "type": "table"
           }
          ]
         },
         "layout": {
          "annotationdefaults": {
           "arrowcolor": "#2a3f5f",
           "arrowhead": 0,
           "arrowwidth": 1
          },
          "autotypenumbers": "strict",
          "coloraxis": {
           "colorbar": {
            "outlinewidth": 0,
            "ticks": ""
           }
          },
          "colorscale": {
           "diverging": [
            [
             0,
             "#8e0152"
            ],
            [
             0.1,
             "#c51b7d"
            ],
            [
             0.2,
             "#de77ae"
            ],
            [
             0.3,
             "#f1b6da"
            ],
            [
             0.4,
             "#fde0ef"
            ],
            [
             0.5,
             "#f7f7f7"
            ],
            [
             0.6,
             "#e6f5d0"
            ],
            [
             0.7,
             "#b8e186"
            ],
            [
             0.8,
             "#7fbc41"
            ],
            [
             0.9,
             "#4d9221"
            ],
            [
             1,
             "#276419"
            ]
           ],
           "sequential": [
            [
             0,
             "#0d0887"
            ],
            [
             0.1111111111111111,
             "#46039f"
            ],
            [
             0.2222222222222222,
             "#7201a8"
            ],
            [
             0.3333333333333333,
             "#9c179e"
            ],
            [
             0.4444444444444444,
             "#bd3786"
            ],
            [
             0.5555555555555556,
             "#d8576b"
            ],
            [
             0.6666666666666666,
             "#ed7953"
            ],
            [
             0.7777777777777778,
             "#fb9f3a"
            ],
            [
             0.8888888888888888,
             "#fdca26"
            ],
            [
             1,
             "#f0f921"
            ]
           ],
           "sequentialminus": [
            [
             0,
             "#0d0887"
            ],
            [
             0.1111111111111111,
             "#46039f"
            ],
            [
             0.2222222222222222,
             "#7201a8"
            ],
            [
             0.3333333333333333,
             "#9c179e"
            ],
            [
             0.4444444444444444,
             "#bd3786"
            ],
            [
             0.5555555555555556,
             "#d8576b"
            ],
            [
             0.6666666666666666,
             "#ed7953"
            ],
            [
             0.7777777777777778,
             "#fb9f3a"
            ],
            [
             0.8888888888888888,
             "#fdca26"
            ],
            [
             1,
             "#f0f921"
            ]
           ]
          },
          "colorway": [
           "#636efa",
           "#EF553B",
           "#00cc96",
           "#ab63fa",
           "#FFA15A",
           "#19d3f3",
           "#FF6692",
           "#B6E880",
           "#FF97FF",
           "#FECB52"
          ],
          "font": {
           "color": "#2a3f5f"
          },
          "geo": {
           "bgcolor": "white",
           "lakecolor": "white",
           "landcolor": "#E5ECF6",
           "showlakes": true,
           "showland": true,
           "subunitcolor": "white"
          },
          "hoverlabel": {
           "align": "left"
          },
          "hovermode": "closest",
          "mapbox": {
           "style": "light"
          },
          "paper_bgcolor": "white",
          "plot_bgcolor": "#E5ECF6",
          "polar": {
           "angularaxis": {
            "gridcolor": "white",
            "linecolor": "white",
            "ticks": ""
           },
           "bgcolor": "#E5ECF6",
           "radialaxis": {
            "gridcolor": "white",
            "linecolor": "white",
            "ticks": ""
           }
          },
          "scene": {
           "xaxis": {
            "backgroundcolor": "#E5ECF6",
            "gridcolor": "white",
            "gridwidth": 2,
            "linecolor": "white",
            "showbackground": true,
            "ticks": "",
            "zerolinecolor": "white"
           },
           "yaxis": {
            "backgroundcolor": "#E5ECF6",
            "gridcolor": "white",
            "gridwidth": 2,
            "linecolor": "white",
            "showbackground": true,
            "ticks": "",
            "zerolinecolor": "white"
           },
           "zaxis": {
            "backgroundcolor": "#E5ECF6",
            "gridcolor": "white",
            "gridwidth": 2,
            "linecolor": "white",
            "showbackground": true,
            "ticks": "",
            "zerolinecolor": "white"
           }
          },
          "shapedefaults": {
           "line": {
            "color": "#2a3f5f"
           }
          },
          "ternary": {
           "aaxis": {
            "gridcolor": "white",
            "linecolor": "white",
            "ticks": ""
           },
           "baxis": {
            "gridcolor": "white",
            "linecolor": "white",
            "ticks": ""
           },
           "bgcolor": "#E5ECF6",
           "caxis": {
            "gridcolor": "white",
            "linecolor": "white",
            "ticks": ""
           }
          },
          "title": {
           "x": 0.05
          },
          "xaxis": {
           "automargin": true,
           "gridcolor": "white",
           "linecolor": "white",
           "ticks": "",
           "title": {
            "standoff": 15
           },
           "zerolinecolor": "white",
           "zerolinewidth": 2
          },
          "yaxis": {
           "automargin": true,
           "gridcolor": "white",
           "linecolor": "white",
           "ticks": "",
           "title": {
            "standoff": 15
           },
           "zerolinecolor": "white",
           "zerolinewidth": 2
          }
         }
        },
        "title": {
         "text": "Monthly Average Calories per Hour (Timeseries)"
        },
        "xaxis": {
         "anchor": "y",
         "domain": [
          0,
          1
         ],
         "title": {
          "text": "Date"
         }
        },
        "yaxis": {
         "anchor": "x",
         "domain": [
          0,
          1
         ],
         "title": {
          "text": "Avg Calories per Hour"
         }
        }
       }
      }
     },
     "metadata": {},
     "output_type": "display_data"
    }
   ],
   "source": [
    "import plotly.express as px\n",
    "\n",
    "df = pd.DataFrame(calories_stats)\n",
    "monthly_avg = df.groupby([\"year\", \"month\"])[\"calories_per_hour\"].mean().reset_index()\n",
    "\n",
    "# Ensure 'year' and 'month' are strings and pad month with zeros\n",
    "monthly_avg[\"year\"] = monthly_avg[\"year\"].astype(str)\n",
    "monthly_avg[\"month\"] = monthly_avg[\"month\"].astype(str).str.zfill(2)\n",
    "monthly_avg[\"date\"] = monthly_avg[\"year\"] + \"-\" + monthly_avg[\"month\"]\n",
    "\n",
    "fig = px.line(\n",
    "    monthly_avg,\n",
    "    x=\"date\",\n",
    "    y=\"calories_per_hour\",\n",
    "    color=\"year\",\n",
    "    markers=True,\n",
    "    title=\"Monthly Average Calories per Hour (Timeseries)\",\n",
    "    labels={\"date\": \"Date\", \"calories_per_hour\": \"Avg Calories per Hour\"},\n",
    ")\n",
    "# fig.update_xaxes(type=\"category\")\n",
    "fig.show()"
   ]
  },
  {
   "cell_type": "code",
   "execution_count": null,
   "id": "1074f78b",
   "metadata": {},
   "outputs": [],
   "source": []
  }
 ],
 "metadata": {
  "kernelspec": {
   "display_name": "polar-data-analysis",
   "language": "python",
   "name": "python3"
  },
  "language_info": {
   "codemirror_mode": {
    "name": "ipython",
    "version": 3
   },
   "file_extension": ".py",
   "mimetype": "text/x-python",
   "name": "python",
   "nbconvert_exporter": "python",
   "pygments_lexer": "ipython3",
   "version": "3.13.5"
  }
 },
 "nbformat": 4,
 "nbformat_minor": 5
}
